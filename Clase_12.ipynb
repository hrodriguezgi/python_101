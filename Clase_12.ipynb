{
 "cells": [
  {
   "cell_type": "markdown",
   "metadata": {},
   "source": [
    "# Manejo de Python"
   ]
  },
  {
   "cell_type": "markdown",
   "metadata": {},
   "source": [
    "## Funciones\n",
    "\n",
    "Las funciones están principalmente diseñadas para evitar el repetir código en\n",
    "nuestros script.\n",
    "\n",
    "En python podemos encontrar dos tipos de funciones:\n",
    "- Standard Library Functions (built-in): funciones que se encuentran en el core\n",
    "de Python y pueden ser utilizadas\n",
    "- User-defined Functions (UDF): funciones que son creadas por nosotros en base a los\n",
    "requerimientos que tenemos.\n",
    "- Anonymous Functions: también conocidas como funciones **lambda**"
   ]
  },
  {
   "cell_type": "code",
   "execution_count": null,
   "metadata": {},
   "outputs": [],
   "source": [
    "print()\n",
    "id()\n",
    "zip()\n",
    "isinstance()\n",
    "map()\n",
    "filter...\n",
    "\n",
    "import random\n",
    "random.randint()\n",
    "\n",
    "import datetime\n",
    "datetime.datetime.now()"
   ]
  },
  {
   "cell_type": "markdown",
   "metadata": {},
   "source": [
    "### 1. Standard Library Functions\n",
    "\n",
    "Cuando hablamos de Standard Library Functions o Built-in nos referimos a las funciones que vienen incorporadas en Python. Algunas de ellas son las siguientes:"
   ]
  },
  {
   "cell_type": "markdown",
   "metadata": {},
   "source": [
    "#### 1.1 `print()`\n",
    "\n",
    "```python\n",
    "print(...)\n",
    "    print(value, ..., sep=' ', end='\\n', file=sys.stdout, flush=False)\n",
    "    \n",
    "    Prints the values to a stream, or to sys.stdout by default.\n",
    "    Optional keyword arguments:\n",
    "    file:  a file-like object (stream); defaults to the current sys.stdout.\n",
    "    sep:   string inserted between values, default a space.\n",
    "    end:   string appended after the last value, default a newline.\n",
    "    flush: whether to forcibly flush the stream.\n",
    "```\n",
    "\n",
    "Si hacemos uso de otros argumentos podemos ver como el comportamiento de la\n",
    "función `print` puede variar:\n",
    "\n",
    "```python\n",
    ">>> str1 = 'Hola Mundo'\n",
    ">>> str2 = 'Cruel'\n",
    ">>> print(str1, str2, sep='*-*', end='')\n",
    "Hola Mundo*-*Cruel\n",
    "```"
   ]
  },
  {
   "cell_type": "code",
   "execution_count": 8,
   "metadata": {},
   "outputs": [
    {
     "name": "stdout",
     "output_type": "stream",
     "text": [
      "hola mundo\n",
      "cruel\n",
      "acá estoy\n",
      "gracias\n"
     ]
    }
   ],
   "source": [
    "var1 = 'cruel'\n",
    "var2 = 'gracias'\n",
    "print('hola mundo', var1, 'acá estoy', var2, sep='\\n')"
   ]
  },
  {
   "cell_type": "markdown",
   "metadata": {},
   "source": [
    "#### 1.2 `isinstance()`\n",
    "\n",
    "```python\n",
    "isinstance(obj, class_or_tuple, /)\n",
    "    Return whether an object is an instance of a class or of a subclass thereof.\n",
    "    \n",
    "    A tuple, as in ``isinstance(x, (A, B, ...))``, may be given as the target to\n",
    "    check against. This is equivalent to ``isinstance(x, A) or isinstance(x, B)\n",
    "    or ...`` etc.\n",
    "```\n",
    "\n",
    "La función `isinstance()` nos permite evaluar si un objeto pertenece a una tipo\n",
    "de objeto, retornando un valor de `True` cuando si lo es, o `False` en otro caso.\n",
    "Ejemplo:\n",
    "\n",
    "```python\n",
    ">>> numeros = [1,2,3,4]\n",
    ">>> isinstance(numeros, list)\n",
    "True\n",
    ">>> isinstance(numeros, dict)\n",
    "False\n",
    "```"
   ]
  },
  {
   "cell_type": "code",
   "execution_count": 9,
   "metadata": {},
   "outputs": [],
   "source": [
    "var1 = 10               # int\n",
    "var2 = 2.5              # float\n",
    "var3 = True             # bool\n",
    "var4 = 'abc'            # str\n",
    "var5 = [1,2,3]          # list\n",
    "var6 = (1,2,3)          # tuple\n",
    "var7 = {'llave': 1}     # dict"
   ]
  },
  {
   "cell_type": "code",
   "execution_count": 19,
   "metadata": {},
   "outputs": [
    {
     "data": {
      "text/plain": [
       "True"
      ]
     },
     "execution_count": 19,
     "metadata": {},
     "output_type": "execute_result"
    }
   ],
   "source": [
    "isinstance(var7, (int, float, list, dict))\n",
    "#                  F or  F or  F  or  T -> T"
   ]
  },
  {
   "cell_type": "code",
   "execution_count": 1,
   "metadata": {},
   "outputs": [
    {
     "data": {
      "text/plain": [
       "False"
      ]
     },
     "execution_count": 1,
     "metadata": {},
     "output_type": "execute_result"
    }
   ],
   "source": [
    "class Student:\n",
    "    pass\n",
    "\n",
    "estudiante = Student() # -> instanciación\n",
    "lista = list()\n",
    "\n",
    "isinstance(estudiante, dict)"
   ]
  },
  {
   "cell_type": "code",
   "execution_count": 2,
   "metadata": {},
   "outputs": [
    {
     "data": {
      "text/plain": [
       "True"
      ]
     },
     "execution_count": 2,
     "metadata": {},
     "output_type": "execute_result"
    }
   ],
   "source": [
    "isinstance(estudiante, Student)"
   ]
  },
  {
   "cell_type": "markdown",
   "metadata": {},
   "source": [
    "#### 1.3 `zip()`\n",
    "\n",
    "```python\n",
    "zip(object)\n",
    "    zip(*iterables) --> A zip object yielding tuples until an input is exhausted.\n",
    "    \n",
    "       >>> list(zip('abcdefg', range(3), range(4)))\n",
    "       [('a', 0, 0), ('b', 1, 1), ('c', 2, 2)]\n",
    "    \n",
    "    The zip object yields n-length tuples, where n is the number of iterables\n",
    "    passed as positional arguments to zip().  The i-th element in every tuple\n",
    "    comes from the i-th iterable argument to zip().  This continues until the\n",
    "    shortest argument is exhausted.\n",
    "```\n",
    "\n",
    "La función `zip(*iterables)` genera un nuevo elemento iterable de tuplas, donde\n",
    "cada tupla corresponde a un elemento de cada uno de los iterables de entrada. La\n",
    "longitud final del iterable resultado dependerá de la longitud mínima de los\n",
    "elementos de entrada. Ejemplo:\n",
    "\n",
    "```python\n",
    ">>> numeros = [1, 2, 3, 4, 5]\n",
    ">>> vocales = ['a', 'e', 'i', 'o', 'u']\n",
    ">>> zip(numeros, vocales)\n",
    "<zip at 0x7fa2f0776b40>\n",
    ">>> list(zip(numeros, vocales))\n",
    "[(1, 'a'), (2, 'e'), (3, 'i'), (4, 'o'), (5, 'u')]\n",
    ">>> numeros.append(6)\n",
    ">>> numeros\n",
    "[1, 2, 3, 4, 5, 6]\n",
    ">>> list(zip(numeros, vocales))\n",
    ">>> [(1, 'a'), (2, 'e'), (3, 'i'), (4, 'o'), (5, 'u')]\n",
    "```\n",
    "\n",
    "La función `zip` en conjunto con el operador `*` de desempaquetar, permite tomar\n",
    "un iterable y retornar dos o mas diferentes secuencias:\n",
    "\n",
    "```python\n",
    ">>> secuencia = [(1,'a','a'), (2,'e','v'), (3,'i','i'), (4,'o','o'), (5,'u','n')]\n",
    ">>> num, voc, pal = zip(*secuencia)\n",
    ">>> num\n",
    "(1, 2, 3, 4, 5)\n",
    ">>> voc\n",
    "('a', 'e', 'i', 'o', 'u')\n",
    ">>> pal\n",
    "('a', 'v', 'i', 'o', 'n')\n",
    "```"
   ]
  },
  {
   "cell_type": "code",
   "execution_count": 4,
   "metadata": {},
   "outputs": [
    {
     "data": {
      "text/plain": [
       "[('a', 1), ('e', 2), ('i', 3), ('o', 4), ('u', 5)]"
      ]
     },
     "execution_count": 4,
     "metadata": {},
     "output_type": "execute_result"
    }
   ],
   "source": [
    "numeros = [1, 2, 3, 4, 5, 6, 7]\n",
    "vocales = ['a', 'e', 'i', 'o', 'u']\n",
    "# -> (1, 'a'), (2, 'e'), (3, 'i'), (4, 'o'), (5, 'u')\n",
    "list(zip(vocales, numeros))"
   ]
  },
  {
   "cell_type": "code",
   "execution_count": 7,
   "metadata": {},
   "outputs": [
    {
     "name": "stdout",
     "output_type": "stream",
     "text": [
      "(1, 'a', 'a', 1.1)\n",
      "(2, 'e', 'b', 2.2)\n",
      "(3, 'i', 'c', 3.3)\n",
      "(4, 'o', 'd', 4.4)\n",
      "(5, 'u', 'e', 5.5)\n"
     ]
    }
   ],
   "source": [
    "letras = ['a', 'b', 'c', 'd', 'e', 'f']\n",
    "flotantes = [1.1, 2.2, 3.3, 4.4, 5.5, 6.6]\n",
    "for elemento in zip(numeros, vocales, letras, flotantes):\n",
    "    print(elemento)"
   ]
  },
  {
   "cell_type": "markdown",
   "metadata": {},
   "source": [
    "#### 1.4 `input()`\n",
    "\n",
    "```python\n",
    "input(prompt=None, /)\n",
    "    Read a string from standard input.  The trailing newline is stripped.\n",
    "    \n",
    "    The prompt string, if given, is printed to standard output without a\n",
    "    trailing newline before reading input.\n",
    "    \n",
    "    If the user hits EOF (*nix: Ctrl-D, Windows: Ctrl-Z+Return), raise EOFError.\n",
    "    On *nix systems, readline is used if available.\n",
    "```\n",
    "\n",
    "La función `input()` toma la entrada de un usuario, retornandolo como cadena.\n",
    "Esta función toma un argumento opcional (prompt) el cual es un mensaje que\n",
    "puede ser mostrado al usuario a quien se le pide una entrada. Ejemplo\n",
    "\n",
    "```python\n",
    ">>> nombre = input('Ingrese su nombre: ')\n",
    "Ingrese su nombre: Harvey\n",
    "\n",
    ">>> print(nombre)\n",
    "Harvey\n",
    "```\n",
    "\n",
    "Si se requiere capturar el valor capturado como numérico, se deberá realizar el\n",
    "correspondiente casteo, como se muestra en el siguiente ejemplo:\n",
    "\n",
    "```python\n",
    ">>> edad = int(input('Ingrese su edad: '))\n",
    "Ingrese su edad: 25\n",
    "\n",
    ">>> print(edad)\n",
    "25\n",
    "```"
   ]
  },
  {
   "cell_type": "code",
   "execution_count": 9,
   "metadata": {},
   "outputs": [
    {
     "data": {
      "text/plain": [
       "'d'"
      ]
     },
     "execution_count": 9,
     "metadata": {},
     "output_type": "execute_result"
    }
   ],
   "source": [
    "input('Presione una tecla y luego enter')"
   ]
  },
  {
   "cell_type": "code",
   "execution_count": 10,
   "metadata": {},
   "outputs": [
    {
     "name": "stdout",
     "output_type": "stream",
     "text": [
      "Hola, Harvey\n"
     ]
    }
   ],
   "source": [
    "nombre = input('Digite su nombre: ')\n",
    "print(f'Hola, {nombre}')"
   ]
  },
  {
   "cell_type": "markdown",
   "metadata": {},
   "source": [
    "#### 1.5 `id()`\n",
    "\n",
    "```python\n",
    "id(obj, /)\n",
    "    Return the identity of an object.\n",
    "    \n",
    "    This is guaranteed to be unique among simultaneously existing objects.\n",
    "    (CPython uses the object's memory address.)\n",
    "```\n",
    "\n",
    "La función `id()` retorna la identidad de un objeto. Esto es un valor numérico\n",
    "el cual es único y constante para el objeto durante su ciclo de vida. Ejemplo:\n",
    "\n",
    "```python\n",
    ">>> numeros = [1, 4, 9, 16, 25]\n",
    ">>> numeros_2 = numeros\n",
    ">>> print(f'Id numeros: {id(numeros)}')\n",
    "Id numeros: 140337929437824\n",
    ">>> print(f'Id numeros_2: {id(numeros_2)}')\n",
    "Id numeros_2: 140337929437824\n",
    "```"
   ]
  },
  {
   "cell_type": "code",
   "execution_count": 24,
   "metadata": {},
   "outputs": [],
   "source": [
    "num = [1, 4, 9, 16, 25]\n",
    "num_2 = num\n",
    "num_3 = num[:] #-> copia por slice\n",
    "num_4 = num.copy()"
   ]
  },
  {
   "cell_type": "code",
   "execution_count": 26,
   "metadata": {},
   "outputs": [
    {
     "name": "stdout",
     "output_type": "stream",
     "text": [
      "140315915998336 [1, 4, 9, 16, 25]\n",
      "140315915998336 [1, 4, 9, 16, 25]\n",
      "140316988156800 [1, 4, 9, 16, 25]\n",
      "140315916013760 [1, 4, 9, 16, 25]\n"
     ]
    }
   ],
   "source": [
    "print(id(num), num)\n",
    "print(id(num_2), num_2)\n",
    "print(id(num_3), num_3)\n",
    "print(id(num_4), num_4)"
   ]
  },
  {
   "cell_type": "code",
   "execution_count": 27,
   "metadata": {},
   "outputs": [],
   "source": [
    "num.append(36)"
   ]
  },
  {
   "cell_type": "code",
   "execution_count": 29,
   "metadata": {},
   "outputs": [],
   "source": [
    "num = [1,2,3,4]"
   ]
  },
  {
   "cell_type": "code",
   "execution_count": 30,
   "metadata": {},
   "outputs": [
    {
     "name": "stdout",
     "output_type": "stream",
     "text": [
      "140315915989120 [1, 2, 3, 4]\n",
      "140315915998336 [1, 4, 9, 16, 25, 36]\n",
      "140316988156800 [1, 4, 9, 16, 25]\n",
      "140315916013760 [1, 4, 9, 16, 25]\n"
     ]
    }
   ],
   "source": [
    "print(id(num), num)\n",
    "print(id(num_2), num_2)\n",
    "print(id(num_3), num_3)\n",
    "print(id(num_4), num_4)"
   ]
  },
  {
   "cell_type": "code",
   "execution_count": 22,
   "metadata": {},
   "outputs": [
    {
     "name": "stdout",
     "output_type": "stream",
     "text": [
      "140316722497584\n",
      "140316722497584\n",
      "hola || hola\n"
     ]
    }
   ],
   "source": [
    "a = 'hola'\n",
    "b = a\n",
    "print(id(a))\n",
    "print(id(b))\n",
    "print(a, b, sep=' || ')"
   ]
  },
  {
   "cell_type": "code",
   "execution_count": 23,
   "metadata": {},
   "outputs": [
    {
     "name": "stdout",
     "output_type": "stream",
     "text": [
      "hola || hola\n",
      "hola mundo || hola\n",
      "140316722671536\n",
      "140316722497584\n"
     ]
    }
   ],
   "source": [
    "print(a, b, sep=' || ')\n",
    "a = 'hola mundo'\n",
    "print(a, b, sep=' || ')\n",
    "print(id(a))\n",
    "print(id(b))"
   ]
  },
  {
   "cell_type": "markdown",
   "metadata": {},
   "source": [
    "### 2. User-defined Functions\n",
    "La forma en como debemos declarar las funciones será con la palabra reservada\n",
    "`def` de la siguiente forma:\n",
    "\n",
    "```python\n",
    "def mi_funcion():\n",
    "    print('Hola Mundo')\n",
    "```\n",
    "\n",
    "La función anterior llamada `mi_funcion` ejecuta una sentencia que en este caso\n",
    "es una impresión de la frase **Hola Mundo**. Declarar una función no implica que\n",
    "ya se está ejecutando, para esto debemos llamarla, y para esto lo podemos hacer\n",
    "de la siguiente forma:\n",
    "\n",
    "```python\n",
    ">>> mi_funcion()\n",
    "Hola Mundo\n",
    "```\n",
    "\n",
    "#### 2.1 Documentación\n",
    "\n",
    "La documentación o los docstrings\n",
    "\n",
    "```python\n",
    "def function_name(parameters):\n",
    "    \"\"\"\n",
    "    Qué hace la función\n",
    "    Cuáles son los parámetros\n",
    "    Cuál es el retorno\n",
    "    Información extra\n",
    "    \"\"\"\n",
    "    pass\n",
    "```\n",
    "\n",
    "Con ayuda de `help` podemos ver esta documentación:\n",
    "\n",
    "```python\n",
    ">>> help(function_name)\n",
    "Help on function function_name in module __main__:\n",
    "\n",
    "function_name(parameters)\n",
    "    Qué hace la función\n",
    "    Cuáles son los parámetros\n",
    "    Cuál es el retorno\n",
    "    Información extra\n",
    "```\n",
    "\n",
    "#### 2.2 DRY: No repetir el código\n",
    "\n",
    "Una de las grandes razones por las cuales se crean funciones es para evitar el\n",
    "repetir el código innecesariamente, y también porque permite obtener un mejor\n",
    "control del funcionamiento de nustro programa.\n",
    "\n",
    "#### 2.3 Principio de Responsabilidad Única\n",
    "\n",
    "Aunque suene repetitivo, uno de los principios en el buen diseño de funciones,\n",
    "es que ellas solo se ocupen de realizar una única acción: Principio de\n",
    "Responsabilidad Única. Esto también nos permite realizar un mejor debug en el\n",
    "momento que se nos presente un problema."
   ]
  },
  {
   "cell_type": "code",
   "execution_count": 5,
   "metadata": {},
   "outputs": [
    {
     "name": "stdout",
     "output_type": "stream",
     "text": [
      "hola mundo cruel\n"
     ]
    }
   ],
   "source": [
    "def mi_funcion():\n",
    "    print('hola mundo cruel')\n",
    "\n",
    "mi_funcion()"
   ]
  },
  {
   "cell_type": "code",
   "execution_count": 42,
   "metadata": {},
   "outputs": [],
   "source": [
    "def saludar():\n",
    "    \"\"\"\n",
    "    Esta función imprime un saludo en el stdout\n",
    "    \"\"\"\n",
    "    print('Hola a todos')"
   ]
  },
  {
   "cell_type": "code",
   "execution_count": 43,
   "metadata": {},
   "outputs": [
    {
     "name": "stdout",
     "output_type": "stream",
     "text": [
      "Hola a todos\n"
     ]
    }
   ],
   "source": [
    "saludar()"
   ]
  },
  {
   "cell_type": "code",
   "execution_count": 44,
   "metadata": {},
   "outputs": [
    {
     "name": "stdout",
     "output_type": "stream",
     "text": [
      "Help on function saludar in module __main__:\n",
      "\n",
      "saludar()\n",
      "    Esta función imprime un saludo en el stdout\n",
      "\n"
     ]
    }
   ],
   "source": [
    "help(saludar)"
   ]
  },
  {
   "cell_type": "code",
   "execution_count": 39,
   "metadata": {},
   "outputs": [
    {
     "name": "stdout",
     "output_type": "stream",
     "text": [
      "Hola, HARVEY\n"
     ]
    }
   ],
   "source": [
    "# Crear una nueva función saludar, para que pregunte el nombre\n",
    "# y la salida sea: Hola {nombre}\n",
    "\n",
    "def pedir_nombre():\n",
    "    nombre = input('Ingrese su nombre: ')\n",
    "    print(f'Hola, {nombre.upper()}')\n",
    "\n",
    "pedir_nombre()"
   ]
  },
  {
   "cell_type": "code",
   "execution_count": 40,
   "metadata": {},
   "outputs": [
    {
     "name": "stdout",
     "output_type": "stream",
     "text": [
      "Hola, CARLOS\n"
     ]
    }
   ],
   "source": [
    "pedir_nombre()"
   ]
  },
  {
   "cell_type": "code",
   "execution_count": 41,
   "metadata": {},
   "outputs": [
    {
     "name": "stdout",
     "output_type": "stream",
     "text": [
      "Hola, CAROLINA\n"
     ]
    }
   ],
   "source": [
    "pedir_nombre()"
   ]
  },
  {
   "cell_type": "markdown",
   "metadata": {},
   "source": [
    "#### 2.4 Elementos de las funciones\n",
    "\n",
    "##### a. Parámetros\n",
    "Los parámetros de las funciones son aquellos valores que pueden ser enviados\n",
    "para que se realice algún tipo de sentencia al interior de la función. Un ejemplo\n",
    "de esto sería una función de suma donde reciba dos operadores:\n",
    "\n",
    "```python\n",
    "def suma(op1, op2):\n",
    "    print(op1 + op2)\n",
    "```\n",
    "\n",
    "De esta forma al llamar la función podemos tener el siguiente resultado:\n",
    "\n",
    "```python\n",
    ">>> suma(1, 2)\n",
    "3\n",
    "```\n",
    "\n",
    "Estos parámetros pueden tener valores por defecto, para cuando el usuario no los\n",
    "envíe la función pueda ejecutarse:\n",
    "\n",
    "```python\n",
    "def suma(op1 = 2, op2 = 3):\n",
    "    print(op1 + op2)\n",
    "```\n",
    "\n",
    "Si llamo la función sin ningún argumento, la función sumará los valores de 2 y 3\n",
    "pero si le envío valores, la función tomará estos nuevos que yo le mande:\n",
    "\n",
    "```python\n",
    ">>> suma()\n",
    "5\n",
    ">>> suma(4)\n",
    "7\n",
    ">>> suma(5,5)\n",
    "10\n",
    "```"
   ]
  },
  {
   "cell_type": "code",
   "execution_count": 6,
   "metadata": {},
   "outputs": [],
   "source": [
    "def sumar(op1, op2):\n",
    "    print(op1 + op2)"
   ]
  },
  {
   "cell_type": "code",
   "execution_count": 10,
   "metadata": {},
   "outputs": [
    {
     "name": "stdout",
     "output_type": "stream",
     "text": [
      "ab\n"
     ]
    }
   ],
   "source": [
    "sumar('a', 'b')"
   ]
  },
  {
   "cell_type": "code",
   "execution_count": 17,
   "metadata": {},
   "outputs": [],
   "source": [
    "def multiplicar(op1, op2, op3):\n",
    "    print(op1*op2*op3)"
   ]
  },
  {
   "cell_type": "code",
   "execution_count": null,
   "metadata": {},
   "outputs": [],
   "source": [
    "multiplicar(1,2,3)"
   ]
  },
  {
   "cell_type": "code",
   "execution_count": 21,
   "metadata": {},
   "outputs": [
    {
     "ename": "TypeError",
     "evalue": "multiplicar() missing 2 required positional arguments: 'op2' and 'op3'",
     "output_type": "error",
     "traceback": [
      "\u001b[0;31m---------------------------------------------------------------------------\u001b[0m",
      "\u001b[0;31mTypeError\u001b[0m                                 Traceback (most recent call last)",
      "\u001b[1;32m/Users/hrodriguez/Git/python_101/Clase_12.ipynb Cell 37\u001b[0m line \u001b[0;36m1\n\u001b[0;32m----> <a href='vscode-notebook-cell:/Users/hrodriguez/Git/python_101/Clase_12.ipynb#X53sZmlsZQ%3D%3D?line=0'>1</a>\u001b[0m multiplicar(\u001b[39m3\u001b[39;49m)\n",
      "\u001b[0;31mTypeError\u001b[0m: multiplicar() missing 2 required positional arguments: 'op2' and 'op3'"
     ]
    }
   ],
   "source": [
    "multiplicar(3)"
   ]
  },
  {
   "cell_type": "code",
   "execution_count": 22,
   "metadata": {},
   "outputs": [],
   "source": [
    "def sumar(op1, op2=10):\n",
    "    print(op1 + op2)"
   ]
  },
  {
   "cell_type": "code",
   "execution_count": 24,
   "metadata": {},
   "outputs": [
    {
     "name": "stdout",
     "output_type": "stream",
     "text": [
      "50\n"
     ]
    }
   ],
   "source": [
    "sumar(10, 40)"
   ]
  },
  {
   "cell_type": "code",
   "execution_count": 27,
   "metadata": {},
   "outputs": [
    {
     "name": "stdout",
     "output_type": "stream",
     "text": [
      "119\n"
     ]
    }
   ],
   "source": [
    "sumar(109)"
   ]
  },
  {
   "cell_type": "code",
   "execution_count": 30,
   "metadata": {},
   "outputs": [],
   "source": [
    "def multiplicar_v2(op1, op2, op3=10):\n",
    "    print(op1 * op2 * op3)"
   ]
  },
  {
   "cell_type": "code",
   "execution_count": 32,
   "metadata": {},
   "outputs": [
    {
     "ename": "TypeError",
     "evalue": "multiplicar() missing 2 required positional arguments: 'op2' and 'op3'",
     "output_type": "error",
     "traceback": [
      "\u001b[0;31m---------------------------------------------------------------------------\u001b[0m",
      "\u001b[0;31mTypeError\u001b[0m                                 Traceback (most recent call last)",
      "\u001b[1;32m/Users/hrodriguez/Git/python_101/Clase_12.ipynb Cell 42\u001b[0m line \u001b[0;36m1\n\u001b[0;32m----> <a href='vscode-notebook-cell:/Users/hrodriguez/Git/python_101/Clase_12.ipynb#X65sZmlsZQ%3D%3D?line=0'>1</a>\u001b[0m multiplicar(\u001b[39m10\u001b[39;49m)\n",
      "\u001b[0;31mTypeError\u001b[0m: multiplicar() missing 2 required positional arguments: 'op2' and 'op3'"
     ]
    }
   ],
   "source": [
    "multiplicar(10)"
   ]
  },
  {
   "cell_type": "code",
   "execution_count": 31,
   "metadata": {},
   "outputs": [
    {
     "ename": "TypeError",
     "evalue": "multiplicar_v2() missing 1 required positional argument: 'op2'",
     "output_type": "error",
     "traceback": [
      "\u001b[0;31m---------------------------------------------------------------------------\u001b[0m",
      "\u001b[0;31mTypeError\u001b[0m                                 Traceback (most recent call last)",
      "\u001b[1;32m/Users/hrodriguez/Git/python_101/Clase_12.ipynb Cell 42\u001b[0m line \u001b[0;36m1\n\u001b[0;32m----> <a href='vscode-notebook-cell:/Users/hrodriguez/Git/python_101/Clase_12.ipynb#X64sZmlsZQ%3D%3D?line=0'>1</a>\u001b[0m multiplicar_v2(\u001b[39m10\u001b[39;49m)\n",
      "\u001b[0;31mTypeError\u001b[0m: multiplicar_v2() missing 1 required positional argument: 'op2'"
     ]
    }
   ],
   "source": [
    "multiplicar_v2(10)"
   ]
  },
  {
   "cell_type": "code",
   "execution_count": 34,
   "metadata": {},
   "outputs": [
    {
     "name": "stdout",
     "output_type": "stream",
     "text": [
      "80\n"
     ]
    }
   ],
   "source": [
    "multiplicar_v2(2, 4)"
   ]
  },
  {
   "cell_type": "code",
   "execution_count": 38,
   "metadata": {},
   "outputs": [],
   "source": [
    "def elevar(op1, op2, op3):\n",
    "    print(op1 ** op2 ** op3)"
   ]
  },
  {
   "cell_type": "code",
   "execution_count": null,
   "metadata": {},
   "outputs": [],
   "source": [
    "# 1^2^3 -> 1\n",
    "# 2^1^3 -> 8\n",
    "# 3^1^2 -> 9\n",
    "\n",
    "elevar(1,2,3) -> 1\n",
    "elevar(2,1,3) -> 1\n",
    "elevar(3,2,1) -> 1"
   ]
  },
  {
   "cell_type": "code",
   "execution_count": 39,
   "metadata": {
    "notebookRunGroups": {
     "groupValue": "2"
    }
   },
   "outputs": [
    {
     "ename": "SyntaxError",
     "evalue": "positional argument follows keyword argument (722455797.py, line 1)",
     "output_type": "error",
     "traceback": [
      "\u001b[0;36m  Cell \u001b[0;32mIn[39], line 1\u001b[0;36m\u001b[0m\n\u001b[0;31m    elevar(op3=3, op2=2, 1)\u001b[0m\n\u001b[0m                          ^\u001b[0m\n\u001b[0;31mSyntaxError\u001b[0m\u001b[0;31m:\u001b[0m positional argument follows keyword argument\n"
     ]
    }
   ],
   "source": [
    "elevar(op3=3, op2=2, op1=1)"
   ]
  },
  {
   "cell_type": "code",
   "execution_count": 37,
   "metadata": {},
   "outputs": [
    {
     "name": "stdout",
     "output_type": "stream",
     "text": [
      "1\n"
     ]
    }
   ],
   "source": [
    "elevar(op2=2, op3=3, op1=1)"
   ]
  },
  {
   "cell_type": "code",
   "execution_count": 45,
   "metadata": {},
   "outputs": [],
   "source": [
    "def imprimir_elementos(*args):\n",
    "    print(type(args), args)"
   ]
  },
  {
   "cell_type": "code",
   "execution_count": 46,
   "metadata": {},
   "outputs": [
    {
     "name": "stdout",
     "output_type": "stream",
     "text": [
      "<class 'tuple'> (10,)\n"
     ]
    }
   ],
   "source": [
    "imprimir_elementos(10)"
   ]
  },
  {
   "cell_type": "code",
   "execution_count": 47,
   "metadata": {},
   "outputs": [
    {
     "name": "stdout",
     "output_type": "stream",
     "text": [
      "<class 'tuple'> (10, 20)\n"
     ]
    }
   ],
   "source": [
    "imprimir_elementos(10, 20)"
   ]
  },
  {
   "cell_type": "code",
   "execution_count": 48,
   "metadata": {},
   "outputs": [
    {
     "name": "stdout",
     "output_type": "stream",
     "text": [
      "<class 'tuple'> (10, 20, 30)\n"
     ]
    }
   ],
   "source": [
    "imprimir_elementos(10, 20, 30)"
   ]
  },
  {
   "cell_type": "code",
   "execution_count": 49,
   "metadata": {},
   "outputs": [
    {
     "name": "stdout",
     "output_type": "stream",
     "text": [
      "<class 'tuple'> ()\n"
     ]
    }
   ],
   "source": [
    "imprimir_elementos()"
   ]
  },
  {
   "cell_type": "code",
   "execution_count": 71,
   "metadata": {},
   "outputs": [],
   "source": [
    "def imprimir_elementos(nombre, *kwargs):\n",
    "    print(f'Hola {nombre}')\n",
    "    print(kwargs)"
   ]
  },
  {
   "cell_type": "code",
   "execution_count": 69,
   "metadata": {},
   "outputs": [
    {
     "name": "stdout",
     "output_type": "stream",
     "text": [
      "Hola Harvey\n",
      "(10, 20, 30)\n"
     ]
    }
   ],
   "source": [
    "imprimir_elementos('Harvey', 10 ,20, 30)\n",
    "# Hola Harvey\n",
    "# (10, 20, 30)"
   ]
  },
  {
   "cell_type": "code",
   "execution_count": 52,
   "metadata": {},
   "outputs": [],
   "source": [
    "def imprimir_elementos(*args, nombre):\n",
    "    print(f'Hola {nombre}')\n",
    "    print(args)"
   ]
  },
  {
   "cell_type": "code",
   "execution_count": 58,
   "metadata": {},
   "outputs": [
    {
     "ename": "SyntaxError",
     "evalue": "positional argument follows keyword argument (3455502260.py, line 1)",
     "output_type": "error",
     "traceback": [
      "\u001b[0;36m  Cell \u001b[0;32mIn[58], line 1\u001b[0;36m\u001b[0m\n\u001b[0;31m    imprimir_elementos(10, nombre='Harvey', 20, 30)\u001b[0m\n\u001b[0m                                                  ^\u001b[0m\n\u001b[0;31mSyntaxError\u001b[0m\u001b[0;31m:\u001b[0m positional argument follows keyword argument\n"
     ]
    }
   ],
   "source": [
    "imprimir_elementos(10, nombre='Harvey', 20, 30)"
   ]
  },
  {
   "cell_type": "code",
   "execution_count": 60,
   "metadata": {},
   "outputs": [],
   "source": [
    "def imprimir_elementos(nombre, edad=10, *args):\n",
    "    print(f'Hola {nombre}, la edad es {edad}')\n",
    "    print(args)\n"
   ]
  },
  {
   "cell_type": "code",
   "execution_count": 65,
   "metadata": {},
   "outputs": [
    {
     "name": "stdout",
     "output_type": "stream",
     "text": [
      "Hola Harvey, la edad es 1\n",
      "('g', 'e', 12, True)\n"
     ]
    }
   ],
   "source": [
    "imprimir_elementos('Harvey', 1, 'g', 'e', 12, True) #, 34, 4, 5, 6)\n",
    "# Hola Harvey, la edad es 34\n",
    "# (4,5,6)"
   ]
  },
  {
   "cell_type": "code",
   "execution_count": 72,
   "metadata": {},
   "outputs": [],
   "source": [
    "def inscribir_materias(nombre, **kwargs):\n",
    "    print(f'Hola {nombre} estas son las materias a inscribir: {kwargs}')"
   ]
  },
  {
   "cell_type": "code",
   "execution_count": 73,
   "metadata": {},
   "outputs": [
    {
     "name": "stdout",
     "output_type": "stream",
     "text": [
      "Hola Carlos estas son las materias a inscribir: {}\n"
     ]
    }
   ],
   "source": [
    "inscribir_materias('Carlos')"
   ]
  },
  {
   "cell_type": "code",
   "execution_count": 74,
   "metadata": {},
   "outputs": [
    {
     "name": "stdout",
     "output_type": "stream",
     "text": [
      "Hola Natalia estas son las materias a inscribir: {'mat1': 'matematicas', 'mat2': 'python'}\n"
     ]
    }
   ],
   "source": [
    "inscribir_materias('Natalia', mat1='matematicas', mat2='python')"
   ]
  },
  {
   "cell_type": "code",
   "execution_count": 75,
   "metadata": {},
   "outputs": [
    {
     "name": "stdout",
     "output_type": "stream",
     "text": [
      "Hola Harol estas son las materias a inscribir: {'mat1': 'español', 'mat2': 'ciencias', 'mat3': 'fisica'}\n"
     ]
    }
   ],
   "source": [
    "inscribir_materias('Harol', mat1='español', mat2='ciencias', mat3='fisica')"
   ]
  },
  {
   "cell_type": "code",
   "execution_count": 77,
   "metadata": {},
   "outputs": [],
   "source": [
    "def monstruo(obl, opc=10, *var, **llvar):\n",
    "    pass"
   ]
  },
  {
   "cell_type": "markdown",
   "metadata": {},
   "source": [
    "##### b. Retorno\n",
    "No siempre deseamos que la función imprima en pantalla el resultado de las\n",
    "sentencias que se encuentran en ella, si no que deseamos poder almacenar el\n",
    "resultado el cual puede ser un elemento o varios elementos. Para poder realizar\n",
    "esto utilizaremos la sentencia `return` al interior de nuestra función de la\n",
    "siguiente forma:\n",
    "\n",
    "```python\n",
    "def suma(op1 = 2, op2 = 3):\n",
    "    return op1 + op2\n",
    "```\n",
    "\n",
    "De esta forma podemos almacenar el resultado de la función en otra variable de\n",
    "la siguiente forma:\n",
    "\n",
    "```python\n",
    ">>> c = suma(10, 15)\n",
    ">>> print(c)\n",
    "25\n",
    "```\n",
    "\n",
    "Si nuestra función realiza multiples sentencias y requerimos retornar esos\n",
    "objetos al exterior, bastará con enumerarlos en el `return` de la siguiente\n",
    "forma:\n",
    "\n",
    "```python\n",
    "def operaciones(op1 = 10, op2 = 5):\n",
    "    suma = op1 + op2\n",
    "    resta = op1 - op2\n",
    "    mult = op1 * op2\n",
    "    div = op1 / op2\n",
    "    return suma, resta, mult, div\n",
    "```\n",
    "\n",
    "Esta función retornará 4 objetos (numéricos) en una tupla, por lo que tendremos\n",
    "2 alternativas para asociar esos valores:\n",
    "\n",
    "- Alternativa 1:\n",
    "\n",
    "```python\n",
    ">>> c = operaciones()\n",
    ">>> print(c)\n",
    "(15, 5, 50, 2.0)\n",
    "```\n",
    "La variable c será una tupla que contiene los valores enviados por el `return`.\n",
    "\n",
    "- Alternativa 2:\n",
    "\n",
    "```python\n",
    ">>> a,b,c,d = operaciones()\n",
    ">>> print(a)\n",
    "15\n",
    ">>> print(b)\n",
    "5\n",
    "```\n",
    "\n",
    "Dado que el `return` genera 4 valores, puedo asociarlos directamente al mismo\n",
    "número de variables\n",
    "\n",
    "```python\n",
    ">>> a, *b = operaciones()\n",
    ">>> print(a)\n",
    "15\n",
    ">>> print(b)\n",
    "[5, 50, 2.0]\n",
    "```\n",
    "\n",
    "En este segundo ejemplo, el uso de `*` ha sido para almacenar multiples valores\n",
    "en la variable `b` (el resultado de la resta, multiplicación y división). Esto\n",
    "se conoce como desempaquetado de un iterable."
   ]
  },
  {
   "cell_type": "code",
   "execution_count": 83,
   "metadata": {},
   "outputs": [],
   "source": [
    "def mi_super_funcion():\n",
    "    return 'hola mundo cruel'\n",
    "\n",
    "\n",
    "variable = mi_super_funcion()"
   ]
  },
  {
   "cell_type": "code",
   "execution_count": 85,
   "metadata": {},
   "outputs": [
    {
     "name": "stdout",
     "output_type": "stream",
     "text": [
      "hola mundo cruel\n"
     ]
    }
   ],
   "source": [
    "print(variable)"
   ]
  },
  {
   "cell_type": "code",
   "execution_count": 86,
   "metadata": {},
   "outputs": [
    {
     "name": "stdout",
     "output_type": "stream",
     "text": [
      "30\n"
     ]
    }
   ],
   "source": [
    "def sumar(op1, op2):\n",
    "    print(op1 + op2)\n",
    "\n",
    "sumar(10, 20)"
   ]
  },
  {
   "cell_type": "code",
   "execution_count": 89,
   "metadata": {},
   "outputs": [
    {
     "data": {
      "text/plain": [
       "30"
      ]
     },
     "execution_count": 89,
     "metadata": {},
     "output_type": "execute_result"
    }
   ],
   "source": [
    "def sumar(op1, op2):\n",
    "    return op1 + op2\n",
    "\n",
    "sumar(10, 20)"
   ]
  },
  {
   "cell_type": "code",
   "execution_count": 90,
   "metadata": {},
   "outputs": [],
   "source": [
    "def operaciones(op1 = 10, op2 = 5):\n",
    "    suma = op1 + op2\n",
    "    resta = op1 - op2\n",
    "    mult = op1 * op2\n",
    "    div = op1 / op2\n",
    "    return suma, resta, mult, div"
   ]
  },
  {
   "cell_type": "code",
   "execution_count": 91,
   "metadata": {},
   "outputs": [
    {
     "data": {
      "text/plain": [
       "(15, 5, 50, 2.0)"
      ]
     },
     "execution_count": 91,
     "metadata": {},
     "output_type": "execute_result"
    }
   ],
   "source": [
    "operaciones()"
   ]
  },
  {
   "cell_type": "code",
   "execution_count": 92,
   "metadata": {},
   "outputs": [],
   "source": [
    "r_suma, r_resta, r_mul, r_div = operaciones()"
   ]
  },
  {
   "cell_type": "code",
   "execution_count": 93,
   "metadata": {},
   "outputs": [
    {
     "data": {
      "text/plain": [
       "15"
      ]
     },
     "execution_count": 93,
     "metadata": {},
     "output_type": "execute_result"
    }
   ],
   "source": [
    "r_suma"
   ]
  },
  {
   "cell_type": "code",
   "execution_count": 94,
   "metadata": {},
   "outputs": [
    {
     "data": {
      "text/plain": [
       "5"
      ]
     },
     "execution_count": 94,
     "metadata": {},
     "output_type": "execute_result"
    }
   ],
   "source": [
    "r_resta"
   ]
  },
  {
   "cell_type": "code",
   "execution_count": 95,
   "metadata": {},
   "outputs": [
    {
     "data": {
      "text/plain": [
       "50"
      ]
     },
     "execution_count": 95,
     "metadata": {},
     "output_type": "execute_result"
    }
   ],
   "source": [
    "r_mul"
   ]
  },
  {
   "cell_type": "code",
   "execution_count": 96,
   "metadata": {},
   "outputs": [
    {
     "data": {
      "text/plain": [
       "2.0"
      ]
     },
     "execution_count": 96,
     "metadata": {},
     "output_type": "execute_result"
    }
   ],
   "source": [
    "r_div"
   ]
  },
  {
   "cell_type": "code",
   "execution_count": null,
   "metadata": {},
   "outputs": [],
   "source": [
    "def sumar_v2(): # recibir N cantidad de sumandos\n",
    "    total = # Suma de los N sumandos\n",
    "    print(f'El total de la suma es: {total}')"
   ]
  },
  {
   "cell_type": "code",
   "execution_count": null,
   "metadata": {},
   "outputs": [],
   "source": [
    "# sumar_v2(1,2) -> 3\n",
    "# sumar_v2(1,2,3) -> 6\n",
    "# sumar_v2(1,2,3,4) -> 10\n",
    "# sumar_v2(10, 34, 2, 5) -> 51"
   ]
  },
  {
   "cell_type": "code",
   "execution_count": 102,
   "metadata": {},
   "outputs": [],
   "source": [
    "def suma_v2(*args):\n",
    "    total=0\n",
    "    for i in args:\n",
    "        #print(i)\n",
    "        total += i # total = total + i\n",
    "    print(\"El total es: \", total)"
   ]
  },
  {
   "cell_type": "code",
   "execution_count": 106,
   "metadata": {},
   "outputs": [
    {
     "name": "stdout",
     "output_type": "stream",
     "text": [
      "El total es:  0\n"
     ]
    }
   ],
   "source": [
    "suma_v2()"
   ]
  },
  {
   "cell_type": "code",
   "execution_count": 107,
   "metadata": {},
   "outputs": [
    {
     "name": "stdout",
     "output_type": "stream",
     "text": [
      "El total es:  10\n"
     ]
    }
   ],
   "source": [
    "suma_v2(10)"
   ]
  },
  {
   "cell_type": "code",
   "execution_count": 103,
   "metadata": {},
   "outputs": [
    {
     "name": "stdout",
     "output_type": "stream",
     "text": [
      "El total es:  3\n"
     ]
    }
   ],
   "source": [
    "suma_v2(1,2)"
   ]
  },
  {
   "cell_type": "code",
   "execution_count": 104,
   "metadata": {},
   "outputs": [
    {
     "name": "stdout",
     "output_type": "stream",
     "text": [
      "El total es:  6\n"
     ]
    }
   ],
   "source": [
    "suma_v2(1,2,3)"
   ]
  },
  {
   "cell_type": "code",
   "execution_count": 105,
   "metadata": {},
   "outputs": [
    {
     "name": "stdout",
     "output_type": "stream",
     "text": [
      "El total es:  51\n"
     ]
    }
   ],
   "source": [
    "suma_v2(10, 34, 2, 5)"
   ]
  },
  {
   "cell_type": "markdown",
   "metadata": {},
   "source": [
    "#### 2.5 Funciones de orden superior\n",
    "\n",
    "Las funciones de orden superior son aquellas funciones que utilizan otras funciones para cumplir con su\n",
    "objetivo. Un ejemplo de esto sería:\n",
    "\n",
    "```python\n",
    "def saludar():\n",
    "    print('Hola mundo')\n",
    "```\n",
    "\n",
    "Este ha sido un ejemplo clásico en las sesiones, donde la función `saludar` invoca a la función `print` para\n",
    "cumplir su objetivo.\n",
    "\n",
    "Otro ejemplo puede ser el uso de la función `map`, de la siguiente forma:\n",
    "\n",
    "```python\n",
    "def cuadrado(num):\n",
    "    return num ** 2\n",
    "\n",
    "numeros = [1,2,3,4,5]\n",
    "\n",
    "cuadrados = list(map(cuadrado, numeros))\n",
    "```\n",
    "\n",
    "En el ejemplo anterior, hemos creado una función llamada `cuadrado` que retorna el cuadrado aritmético del \n",
    "valor que recibe. La función `map` utiliza por lo tanto la función `cuadrado` y lo aplica sobre una lista\n",
    "llamada `numeros`"
   ]
  },
  {
   "cell_type": "code",
   "execution_count": 1,
   "metadata": {},
   "outputs": [
    {
     "name": "stdout",
     "output_type": "stream",
     "text": [
      "Help on class map in module builtins:\n",
      "\n",
      "class map(object)\n",
      " |  map(func, *iterables) --> map object\n",
      " |  \n",
      " |  Make an iterator that computes the function using arguments from\n",
      " |  each of the iterables.  Stops when the shortest iterable is exhausted.\n",
      " |  \n",
      " |  Methods defined here:\n",
      " |  \n",
      " |  __getattribute__(self, name, /)\n",
      " |      Return getattr(self, name).\n",
      " |  \n",
      " |  __iter__(self, /)\n",
      " |      Implement iter(self).\n",
      " |  \n",
      " |  __next__(self, /)\n",
      " |      Implement next(self).\n",
      " |  \n",
      " |  __reduce__(...)\n",
      " |      Return state information for pickling.\n",
      " |  \n",
      " |  ----------------------------------------------------------------------\n",
      " |  Static methods defined here:\n",
      " |  \n",
      " |  __new__(*args, **kwargs) from builtins.type\n",
      " |      Create and return a new object.  See help(type) for accurate signature.\n",
      "\n"
     ]
    }
   ],
   "source": [
    "help(map)"
   ]
  },
  {
   "cell_type": "code",
   "execution_count": 28,
   "metadata": {},
   "outputs": [
    {
     "data": {
      "text/plain": [
       "['MANZANA', 'PERA', 'NARANJA']"
      ]
     },
     "execution_count": 28,
     "metadata": {},
     "output_type": "execute_result"
    }
   ],
   "source": [
    "frutas = ['manzana', 'pera', 'naranja']\n",
    "\n",
    "frutas_list_comprehension = [fruta.upper() for fruta in frutas]\n",
    "frutas_list_comprehension"
   ]
  },
  {
   "cell_type": "code",
   "execution_count": 9,
   "metadata": {},
   "outputs": [
    {
     "data": {
      "text/plain": [
       "['MANZANA', 'PERA', 'NARANJA']"
      ]
     },
     "execution_count": 9,
     "metadata": {},
     "output_type": "execute_result"
    }
   ],
   "source": [
    "frutas_for = []\n",
    "for fruta in frutas:\n",
    "    frutas_for.append(fruta.upper())\n",
    "\n",
    "frutas_for"
   ]
  },
  {
   "cell_type": "code",
   "execution_count": 8,
   "metadata": {},
   "outputs": [
    {
     "data": {
      "text/plain": [
       "['MANZANA', 'PERA', 'NARANJA']"
      ]
     },
     "execution_count": 8,
     "metadata": {},
     "output_type": "execute_result"
    }
   ],
   "source": [
    "frutas_map_v1 = list(map(str.upper, frutas))\n",
    "frutas_map_v1"
   ]
  },
  {
   "cell_type": "code",
   "execution_count": 27,
   "metadata": {},
   "outputs": [
    {
     "data": {
      "text/plain": [
       "['MANZANA', 'PERA', 'NARANJA']"
      ]
     },
     "execution_count": 27,
     "metadata": {},
     "output_type": "execute_result"
    }
   ],
   "source": [
    "frutas_lambda = list(map(lambda x: x.upper(), frutas))\n",
    "frutas_lambda"
   ]
  },
  {
   "cell_type": "code",
   "execution_count": 10,
   "metadata": {},
   "outputs": [
    {
     "data": {
      "text/plain": [
       "['MANZANA', 'PERA', 'NARANJA']"
      ]
     },
     "execution_count": 10,
     "metadata": {},
     "output_type": "execute_result"
    }
   ],
   "source": [
    "def convertir_mayusculas(palabra):\n",
    "    return palabra.upper()\n",
    "\n",
    "frutas_map_v2 = list(map(convertir_mayusculas, frutas))\n",
    "frutas_map_v2"
   ]
  },
  {
   "cell_type": "code",
   "execution_count": 11,
   "metadata": {},
   "outputs": [
    {
     "name": "stdout",
     "output_type": "stream",
     "text": [
      "[1, 4, 9, 16, 25]\n"
     ]
    }
   ],
   "source": [
    "def cuadrado(num):\n",
    "    return num ** 2\n",
    "\n",
    "numeros = [1,2,3,4,5]\n",
    "\n",
    "cuadrados = list(map(cuadrado, numeros))\n",
    "print(cuadrados)"
   ]
  },
  {
   "cell_type": "markdown",
   "metadata": {},
   "source": [
    "#### 2.6 Funciones Recursivas\n",
    "\n",
    "Las funciones recursivas son aquellas que se llaman a si mismas. Un ejemplo de esto es la operación matemática\n",
    "de Factorial, el cual el resultado de $n!$ el la multiplicación de todos los valores enteros desde 1 hasta n.\n",
    "\n",
    "Ejemplo:\n",
    "$$5! = 1 * 2 * 3 * 4 * 5 = 120$$\n",
    "\n",
    "En python, esta operación puede ser escrita de la siguiente forma:\n",
    "\n",
    "```python\n",
    "def factorial(num):\n",
    "    if num == 0:\n",
    "        return 1\n",
    "    else:\n",
    "        return num * factorial(num-1)\n",
    "```"
   ]
  },
  {
   "cell_type": "code",
   "execution_count": null,
   "metadata": {},
   "outputs": [],
   "source": [
    "8! = 1*2*3*4*5*6*7*8\n",
    "7! = 1*2*3*4*5*6*7\n",
    "\n",
    "8! = 8 * 7!\n",
    "8! = 8 * 7 * 6!"
   ]
  },
  {
   "cell_type": "code",
   "execution_count": 12,
   "metadata": {},
   "outputs": [],
   "source": [
    "def factorial(num):\n",
    "    if num == 0:\n",
    "        return 1\n",
    "    else:\n",
    "        #print(f'{num} * factorial({num - 1})')\n",
    "        return num * factorial(num-1)"
   ]
  },
  {
   "cell_type": "code",
   "execution_count": 13,
   "metadata": {},
   "outputs": [
    {
     "name": "stdout",
     "output_type": "stream",
     "text": [
      "120\n"
     ]
    }
   ],
   "source": [
    "fact = factorial(5)\n",
    "# 5 * factorial(4)\n",
    "# 5 * 4 * factorial(3)\n",
    "# 5 * 4 * 3 * factorial(2)\n",
    "# 5 * 4 * 3 * 2 * factorial(1)\n",
    "# 5 * 4 * 3 * 2 * 1\n",
    "print(fact)"
   ]
  },
  {
   "cell_type": "code",
   "execution_count": 14,
   "metadata": {},
   "outputs": [],
   "source": [
    "def fibonacci(num):\n",
    "    if num <= 1:\n",
    "        return num\n",
    "    else:\n",
    "        return fibonacci(num - 1) + fibonacci(num - 2)"
   ]
  },
  {
   "cell_type": "code",
   "execution_count": 15,
   "metadata": {},
   "outputs": [
    {
     "data": {
      "text/plain": [
       "21"
      ]
     },
     "execution_count": 15,
     "metadata": {},
     "output_type": "execute_result"
    }
   ],
   "source": [
    "fibonacci(8)\n",
    "# 1 1 2 3 5 8 13 21"
   ]
  },
  {
   "cell_type": "markdown",
   "metadata": {},
   "source": [
    "#### 2.7 Funciones Lambda\n",
    "\n",
    "Las funciones lambda en Python son funciones anónimas y pequeñas que se definen usando la palabra clave lambda. A diferencia de las funciones definidas con def, las funciones lambda son expresiones y tienen una sintaxis más concisa.\n",
    "\n",
    "La sintaxis general de una función lambda es la siguiente:\n",
    "\n",
    "```python\n",
    "lambda argumentos: expresion\n",
    "```\n",
    "\n",
    "Este tipo de funciones son útiles cuando se requiere algo simple y sencillo y no se quiere definir una función UDF (`def`).\n",
    "\n",
    "Un ejemplo de este tipo de funciones es:\n",
    "\n",
    "```python\n",
    "cuadrado = lambda x: x ** 2\n",
    "cuadrado(4)\n",
    "```\n",
    "\n",
    "De igual forma pueden ser utilizadas en otras funciones como `map` de la siguiente forma:\n",
    "\n",
    "```python\n",
    "numeros = [1,2,3,4,5]\n",
    "cuadrados = list(map(lambda x: x**2, numeros))\n",
    "print(cuadrados)\n",
    "```"
   ]
  },
  {
   "cell_type": "code",
   "execution_count": 26,
   "metadata": {},
   "outputs": [
    {
     "data": {
      "text/plain": [
       "function"
      ]
     },
     "execution_count": 26,
     "metadata": {},
     "output_type": "execute_result"
    }
   ],
   "source": [
    "def cuadrado(num):\n",
    "    return num ** 2\n",
    "\n",
    "cuadrado(56)\n",
    "type(cuadrado)"
   ]
  },
  {
   "cell_type": "code",
   "execution_count": 20,
   "metadata": {},
   "outputs": [
    {
     "data": {
      "text/plain": [
       "function"
      ]
     },
     "execution_count": 20,
     "metadata": {},
     "output_type": "execute_result"
    }
   ],
   "source": [
    "otro_cuadrado = lambda num: num ** 2\n",
    "\n",
    "otro_cuadrado(56)\n",
    "type(otro_cuadrado)"
   ]
  },
  {
   "cell_type": "code",
   "execution_count": 18,
   "metadata": {},
   "outputs": [
    {
     "name": "stdout",
     "output_type": "stream",
     "text": [
      "[1, 4, 9, 16, 25]\n"
     ]
    }
   ],
   "source": [
    "numeros = [1,2,3,4,5]\n",
    "cuadrados = list(map(lambda x: x**2, numeros))\n",
    "print(cuadrados)"
   ]
  },
  {
   "cell_type": "code",
   "execution_count": 25,
   "metadata": {},
   "outputs": [
    {
     "data": {
      "text/plain": [
       "['MANZANA', 'PERA', 'NARANJA']"
      ]
     },
     "execution_count": 25,
     "metadata": {},
     "output_type": "execute_result"
    }
   ],
   "source": [
    "frutas\n",
    "\n",
    "# frutas_map = list(map(str.upper, frutas))\n",
    "frutas_map = list(map(lambda x: x.title(), frutas))\n",
    "frutas_map"
   ]
  }
 ],
 "metadata": {
  "kernelspec": {
   "display_name": "cedesistemas",
   "language": "python",
   "name": "python3"
  },
  "language_info": {
   "codemirror_mode": {
    "name": "ipython",
    "version": 3
   },
   "file_extension": ".py",
   "mimetype": "text/x-python",
   "name": "python",
   "nbconvert_exporter": "python",
   "pygments_lexer": "ipython3",
   "version": "3.9.0"
  }
 },
 "nbformat": 4,
 "nbformat_minor": 2
}
