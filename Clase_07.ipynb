{
  "cells": [
    {
      "cell_type": "markdown",
      "metadata": {
        "id": "DOT798xS_p_C"
      },
      "source": [
        "# Manejo de Python"
      ]
    },
    {
      "cell_type": "markdown",
      "metadata": {
        "id": "tUCMh_-8KuNY"
      },
      "source": [
        "## 1. Sets\n",
        "\n",
        "El tipo set en Python es la clase utilizada por el lenguaje para representar los conjuntos. \n",
        "\n",
        "<img src=\"https://i0.wp.com/casadamatematica.com.br/wp-content/uploads/2018/02/Entendendo-os-conjuntos-e-sua-linguagem-b%C3%A1sica.png?w=2000&ssl=1\"\n",
        "     width=\"300\"\n",
        "     height=\"200\"  class=\"center\"/>\n",
        "\n",
        "\n",
        "\n",
        "1.   Es una colección desordenada de elementos únicos, es decir, que no se repiten.\n",
        "2.   Sus elementos son inmutables\n",
        "3.   No son ni listas ni tuplas, ni diccionarios\n",
        "4.   No soportan acceso por indexación o por slices\n",
        "\n",
        "\n"
      ]
    },
    {
      "cell_type": "code",
      "execution_count": 1,
      "metadata": {
        "id": "P1hlx9jAAX14"
      },
      "outputs": [
        {
          "name": "stdout",
          "output_type": "stream",
          "text": [
            "Help on class set in module builtins:\n",
            "\n",
            "class set(object)\n",
            " |  set() -> new empty set object\n",
            " |  set(iterable) -> new set object\n",
            " |  \n",
            " |  Build an unordered collection of unique elements.\n",
            " |  \n",
            " |  Methods defined here:\n",
            " |  \n",
            " |  __and__(self, value, /)\n",
            " |      Return self&value.\n",
            " |  \n",
            " |  __contains__(...)\n",
            " |      x.__contains__(y) <==> y in x.\n",
            " |  \n",
            " |  __eq__(self, value, /)\n",
            " |      Return self==value.\n",
            " |  \n",
            " |  __ge__(self, value, /)\n",
            " |      Return self>=value.\n",
            " |  \n",
            " |  __getattribute__(self, name, /)\n",
            " |      Return getattr(self, name).\n",
            " |  \n",
            " |  __gt__(self, value, /)\n",
            " |      Return self>value.\n",
            " |  \n",
            " |  __iand__(self, value, /)\n",
            " |      Return self&=value.\n",
            " |  \n",
            " |  __init__(self, /, *args, **kwargs)\n",
            " |      Initialize self.  See help(type(self)) for accurate signature.\n",
            " |  \n",
            " |  __ior__(self, value, /)\n",
            " |      Return self|=value.\n",
            " |  \n",
            " |  __isub__(self, value, /)\n",
            " |      Return self-=value.\n",
            " |  \n",
            " |  __iter__(self, /)\n",
            " |      Implement iter(self).\n",
            " |  \n",
            " |  __ixor__(self, value, /)\n",
            " |      Return self^=value.\n",
            " |  \n",
            " |  __le__(self, value, /)\n",
            " |      Return self<=value.\n",
            " |  \n",
            " |  __len__(self, /)\n",
            " |      Return len(self).\n",
            " |  \n",
            " |  __lt__(self, value, /)\n",
            " |      Return self<value.\n",
            " |  \n",
            " |  __ne__(self, value, /)\n",
            " |      Return self!=value.\n",
            " |  \n",
            " |  __or__(self, value, /)\n",
            " |      Return self|value.\n",
            " |  \n",
            " |  __rand__(self, value, /)\n",
            " |      Return value&self.\n",
            " |  \n",
            " |  __reduce__(...)\n",
            " |      Return state information for pickling.\n",
            " |  \n",
            " |  __repr__(self, /)\n",
            " |      Return repr(self).\n",
            " |  \n",
            " |  __ror__(self, value, /)\n",
            " |      Return value|self.\n",
            " |  \n",
            " |  __rsub__(self, value, /)\n",
            " |      Return value-self.\n",
            " |  \n",
            " |  __rxor__(self, value, /)\n",
            " |      Return value^self.\n",
            " |  \n",
            " |  __sizeof__(...)\n",
            " |      S.__sizeof__() -> size of S in memory, in bytes\n",
            " |  \n",
            " |  __sub__(self, value, /)\n",
            " |      Return self-value.\n",
            " |  \n",
            " |  __xor__(self, value, /)\n",
            " |      Return self^value.\n",
            " |  \n",
            " |  add(...)\n",
            " |      Add an element to a set.\n",
            " |      \n",
            " |      This has no effect if the element is already present.\n",
            " |  \n",
            " |  clear(...)\n",
            " |      Remove all elements from this set.\n",
            " |  \n",
            " |  copy(...)\n",
            " |      Return a shallow copy of a set.\n",
            " |  \n",
            " |  difference(...)\n",
            " |      Return the difference of two or more sets as a new set.\n",
            " |      \n",
            " |      (i.e. all elements that are in this set but not the others.)\n",
            " |  \n",
            " |  difference_update(...)\n",
            " |      Remove all elements of another set from this set.\n",
            " |  \n",
            " |  discard(...)\n",
            " |      Remove an element from a set if it is a member.\n",
            " |      \n",
            " |      If the element is not a member, do nothing.\n",
            " |  \n",
            " |  intersection(...)\n",
            " |      Return the intersection of two sets as a new set.\n",
            " |      \n",
            " |      (i.e. all elements that are in both sets.)\n",
            " |  \n",
            " |  intersection_update(...)\n",
            " |      Update a set with the intersection of itself and another.\n",
            " |  \n",
            " |  isdisjoint(...)\n",
            " |      Return True if two sets have a null intersection.\n",
            " |  \n",
            " |  issubset(...)\n",
            " |      Report whether another set contains this set.\n",
            " |  \n",
            " |  issuperset(...)\n",
            " |      Report whether this set contains another set.\n",
            " |  \n",
            " |  pop(...)\n",
            " |      Remove and return an arbitrary set element.\n",
            " |      Raises KeyError if the set is empty.\n",
            " |  \n",
            " |  remove(...)\n",
            " |      Remove an element from a set; it must be a member.\n",
            " |      \n",
            " |      If the element is not a member, raise a KeyError.\n",
            " |  \n",
            " |  symmetric_difference(...)\n",
            " |      Return the symmetric difference of two sets as a new set.\n",
            " |      \n",
            " |      (i.e. all elements that are in exactly one of the sets.)\n",
            " |  \n",
            " |  symmetric_difference_update(...)\n",
            " |      Update a set with the symmetric difference of itself and another.\n",
            " |  \n",
            " |  union(...)\n",
            " |      Return the union of sets as a new set.\n",
            " |      \n",
            " |      (i.e. all elements that are in either set.)\n",
            " |  \n",
            " |  update(...)\n",
            " |      Update a set with the union of itself and others.\n",
            " |  \n",
            " |  ----------------------------------------------------------------------\n",
            " |  Class methods defined here:\n",
            " |  \n",
            " |  __class_getitem__(...) from builtins.type\n",
            " |      See PEP 585\n",
            " |  \n",
            " |  ----------------------------------------------------------------------\n",
            " |  Static methods defined here:\n",
            " |  \n",
            " |  __new__(*args, **kwargs) from builtins.type\n",
            " |      Create and return a new object.  See help(type) for accurate signature.\n",
            " |  \n",
            " |  ----------------------------------------------------------------------\n",
            " |  Data and other attributes defined here:\n",
            " |  \n",
            " |  __hash__ = None\n",
            "\n"
          ]
        }
      ],
      "source": [
        "help(set)"
      ]
    },
    {
      "cell_type": "markdown",
      "metadata": {
        "id": "BAoxMPHpCSBZ"
      },
      "source": [
        "Rápido repaso:\n",
        "\n",
        "```python\n",
        "# Diccionarios\n",
        "diccionario = {'llave': 'valor'}\n",
        "print(type(diccionario), diccionario)\n",
        "<class 'dict'> {'llave': 'valor'}\n",
        "```\n",
        "\n",
        "Incluso los diccionarios pueden ser vacíos\n",
        "```python\n",
        "# Diccionarios\n",
        "diccionario = {'llave': 'valor'}\n",
        "print(type(diccionario), diccionario)\n",
        "<class 'dict'> {}\n",
        "```\n",
        "\n",
        "Entonces, cómo creamos un `set` vacío?"
      ]
    },
    {
      "cell_type": "code",
      "execution_count": 2,
      "metadata": {
        "id": "mzZ4JCNifrwS"
      },
      "outputs": [
        {
          "name": "stdout",
          "output_type": "stream",
          "text": [
            "<class 'set'> set()\n"
          ]
        }
      ],
      "source": [
        "# set vacío\n",
        "conjunto_vacio =  set()\n",
        "print(type(conjunto_vacio), conjunto_vacio)"
      ]
    },
    {
      "cell_type": "code",
      "execution_count": 3,
      "metadata": {
        "id": "qauGEy8bCp3h"
      },
      "outputs": [
        {
          "name": "stdout",
          "output_type": "stream",
          "text": [
            "<class 'set'> {1, 2, 3}\n"
          ]
        }
      ],
      "source": [
        "# set con datos\n",
        "conjunto = {1, 2, 3}\n",
        "print(type(conjunto), conjunto)"
      ]
    },
    {
      "cell_type": "code",
      "execution_count": 7,
      "metadata": {
        "id": "7W-1G8m0Cp07"
      },
      "outputs": [
        {
          "name": "stdout",
          "output_type": "stream",
          "text": [
            "numericos -> {1, 2, 3}\n",
            "texto     -> {'a', 'c', 'b'}\n",
            "mixto     -> {'a', 1, 3.15, False}\n"
          ]
        }
      ],
      "source": [
        "# permite tener conjuntos de un solo tipo o mixtos\n",
        "set_numericos = {1,2,3}\n",
        "set_letras ={\"a\",\"b\",\"c\"}\n",
        "set_mixto = {\"a\",1,3.15, False}\n",
        "\n",
        "print(\"numericos ->\", set_numericos)\n",
        "print(\"texto     ->\", set_letras)\n",
        "print(\"mixto     ->\", set_mixto)"
      ]
    },
    {
      "cell_type": "markdown",
      "metadata": {
        "id": "P6qjr7EuDxyC"
      },
      "source": [
        "Los set permiten ser creados por medio del constructor haciendo uso de iterables:"
      ]
    },
    {
      "cell_type": "code",
      "execution_count": 12,
      "metadata": {
        "id": "hhRh3NDsCpv6"
      },
      "outputs": [
        {
          "data": {
            "text/plain": [
              "{1, 2, 3, 4, 5}"
            ]
          },
          "execution_count": 12,
          "metadata": {},
          "output_type": "execute_result"
        }
      ],
      "source": [
        "# Listas\n",
        "set([1,2,3,3,4,5,5,5,5])"
      ]
    },
    {
      "cell_type": "code",
      "execution_count": 10,
      "metadata": {
        "id": "dzoFrixbMVrw"
      },
      "outputs": [
        {
          "data": {
            "text/plain": [
              "{1, 2, 3}"
            ]
          },
          "execution_count": 10,
          "metadata": {},
          "output_type": "execute_result"
        }
      ],
      "source": [
        "# Tuplas\n",
        "set((1,2,3))"
      ]
    },
    {
      "cell_type": "code",
      "execution_count": 14,
      "metadata": {},
      "outputs": [
        {
          "ename": "TypeError",
          "evalue": "'float' object is not iterable",
          "output_type": "error",
          "traceback": [
            "\u001b[0;31m---------------------------------------------------------------------------\u001b[0m",
            "\u001b[0;31mTypeError\u001b[0m                                 Traceback (most recent call last)",
            "\u001b[1;32m/Users/hrodriguez/Git/python_101/Clase_07.ipynb Cell 11\u001b[0m line \u001b[0;36m3\n\u001b[1;32m      <a href='vscode-notebook-cell:/Users/hrodriguez/Git/python_101/Clase_07.ipynb#X55sZmlsZQ%3D%3D?line=0'>1</a>\u001b[0m conjunto \u001b[39m=\u001b[39m {\u001b[39m1\u001b[39m,\u001b[39m2\u001b[39m,\u001b[39m3\u001b[39m,\u001b[39m4\u001b[39m,\u001b[39m5\u001b[39m}\n\u001b[1;32m      <a href='vscode-notebook-cell:/Users/hrodriguez/Git/python_101/Clase_07.ipynb#X55sZmlsZQ%3D%3D?line=1'>2</a>\u001b[0m conjunto2 \u001b[39m=\u001b[39m \u001b[39m2.3\u001b[39m\n\u001b[0;32m----> <a href='vscode-notebook-cell:/Users/hrodriguez/Git/python_101/Clase_07.ipynb#X55sZmlsZQ%3D%3D?line=2'>3</a>\u001b[0m lista \u001b[39m=\u001b[39m \u001b[39mlist\u001b[39;49m(conjunto2)\n\u001b[1;32m      <a href='vscode-notebook-cell:/Users/hrodriguez/Git/python_101/Clase_07.ipynb#X55sZmlsZQ%3D%3D?line=3'>4</a>\u001b[0m \u001b[39mprint\u001b[39m(lista)\n",
            "\u001b[0;31mTypeError\u001b[0m: 'float' object is not iterable"
          ]
        }
      ],
      "source": [
        "conjunto = {1,2,3,4,5}\n",
        "conjunto2 = 2.3\n",
        "lista = list(conjunto2)\n",
        "print(lista)"
      ]
    },
    {
      "cell_type": "code",
      "execution_count": 15,
      "metadata": {},
      "outputs": [
        {
          "name": "stdout",
          "output_type": "stream",
          "text": [
            "{'apellido', 'nombre'} {'Pedro', 'Perez'}\n"
          ]
        }
      ],
      "source": [
        "diccionario = {'nombre': 'Pedro', 'apellido': 'Perez'}\n",
        "con_llaves = set(diccionario.keys())\n",
        "con_valores = set(diccionario.values())\n",
        "\n",
        "print(con_llaves, con_valores)"
      ]
    },
    {
      "cell_type": "code",
      "execution_count": 16,
      "metadata": {
        "id": "sRgff-6BMVuM"
      },
      "outputs": [
        {
          "data": {
            "text/plain": [
              "{'a', 'b', 'c'}"
            ]
          },
          "execution_count": 16,
          "metadata": {},
          "output_type": "execute_result"
        }
      ],
      "source": [
        "# Strings\n",
        "set(\"abc\")"
      ]
    },
    {
      "cell_type": "code",
      "execution_count": 18,
      "metadata": {},
      "outputs": [
        {
          "data": {
            "text/plain": [
              "['nombre', 'Eduard']"
            ]
          },
          "execution_count": 18,
          "metadata": {},
          "output_type": "execute_result"
        }
      ],
      "source": [
        "string = 'nombre=Eduard'\n",
        "string.split('=')"
      ]
    },
    {
      "cell_type": "code",
      "execution_count": 19,
      "metadata": {
        "id": "i5Ehvf8qSRb5"
      },
      "outputs": [
        {
          "name": "stdout",
          "output_type": "stream",
          "text": [
            "[2, 2, 2, 3, 1, 2, 2]\n",
            "{1, 2, 3}\n"
          ]
        }
      ],
      "source": [
        "# No permiten valores únicos\n",
        "\n",
        "# lista con valores duplicados\n",
        "duplicados = [2,2,2,3,1,2,2]\n",
        "\n",
        "# creación de un set a partir de la lista anterior\n",
        "conj_duplicados = set(duplicados)\n",
        "\n",
        "print(duplicados)\n",
        "print(conj_duplicados)"
      ]
    },
    {
      "cell_type": "code",
      "execution_count": 20,
      "metadata": {
        "id": "8RZo0CrFEaAj"
      },
      "outputs": [
        {
          "name": "stdout",
          "output_type": "stream",
          "text": [
            "[1, 2, 3]\n"
          ]
        }
      ],
      "source": [
        "# Si creo una lista a partir del conjunto anterior no obtengo la lista original\n",
        "nuevos_duplicados = list(conj_duplicados)\n",
        "\n",
        "print(nuevos_duplicados)"
      ]
    },
    {
      "cell_type": "code",
      "execution_count": 21,
      "metadata": {},
      "outputs": [
        {
          "data": {
            "text/plain": [
              "[1, 2, 3]"
            ]
          },
          "execution_count": 21,
          "metadata": {},
          "output_type": "execute_result"
        }
      ],
      "source": [
        "sin_duplicados = list(set(duplicados))\n",
        "sin_duplicados"
      ]
    },
    {
      "cell_type": "markdown",
      "metadata": {
        "id": "SDvyd_N_ErAy"
      },
      "source": [
        "### 1.1 Métodos"
      ]
    },
    {
      "cell_type": "markdown",
      "metadata": {
        "id": "waPDcZi2En2u"
      },
      "source": [
        "#### 1.1.1 Add\n",
        "\n",
        "```python\n",
        "add(...)\n",
        "    Add an element to a set.\n",
        "    \n",
        "    This has no effect if the element is already present.\n",
        "```\n",
        "\n",
        "Nos permite adicionar elementos a un conjunto"
      ]
    },
    {
      "cell_type": "code",
      "execution_count": 28,
      "metadata": {
        "id": "_Na9HSQBVAoV"
      },
      "outputs": [
        {
          "name": "stdout",
          "output_type": "stream",
          "text": [
            "{1, 2, 3}\n"
          ]
        }
      ],
      "source": [
        "tipo_set = {1,2}\n",
        "tipo_set.add(3)\n",
        "print(tipo_set)"
      ]
    },
    {
      "cell_type": "code",
      "execution_count": 29,
      "metadata": {},
      "outputs": [
        {
          "data": {
            "text/plain": [
              "{-1, 1, 2, 3}"
            ]
          },
          "execution_count": 29,
          "metadata": {},
          "output_type": "execute_result"
        }
      ],
      "source": [
        "tipo_set.add(-1)\n",
        "tipo_set"
      ]
    },
    {
      "cell_type": "markdown",
      "metadata": {
        "id": "Ja-UbAraF3b9"
      },
      "source": [
        "#### 1.1.2 Update\n",
        "\n",
        "```python\n",
        "update(...)\n",
        "    Update a set with the union of itself and others.\n",
        "```\n",
        "\n",
        "Nos permite actualizar un conjunto"
      ]
    },
    {
      "cell_type": "code",
      "execution_count": 25,
      "metadata": {},
      "outputs": [
        {
          "data": {
            "text/plain": [
              "{-1, 1, 2, 3}"
            ]
          },
          "execution_count": 25,
          "metadata": {},
          "output_type": "execute_result"
        }
      ],
      "source": [
        "tipo_set"
      ]
    },
    {
      "cell_type": "code",
      "execution_count": 30,
      "metadata": {
        "id": "Xosbdd1yVAlW"
      },
      "outputs": [
        {
          "name": "stdout",
          "output_type": "stream",
          "text": [
            "{1, 2, 3, -1}\n",
            "{1, 2, 3, 4, 5, 6, '2', -1}\n"
          ]
        }
      ],
      "source": [
        "print(tipo_set)\n",
        "\n",
        "# Actualizamos el conjunto\n",
        "tipo_set.update([1,2,3,4,5,6,1,2,'2'])\n",
        "\n",
        "print(tipo_set)"
      ]
    },
    {
      "cell_type": "code",
      "execution_count": 31,
      "metadata": {},
      "outputs": [
        {
          "data": {
            "text/plain": [
              "{-1, 1, 2, '2', 3, 4, 5, 6}"
            ]
          },
          "execution_count": 31,
          "metadata": {},
          "output_type": "execute_result"
        }
      ],
      "source": [
        "tipo_set"
      ]
    },
    {
      "cell_type": "code",
      "execution_count": 32,
      "metadata": {},
      "outputs": [
        {
          "name": "stdout",
          "output_type": "stream",
          "text": [
            "{1, 2, 3, 4, 5, 6, '2', -1}\n"
          ]
        }
      ],
      "source": [
        "print(tipo_set)"
      ]
    },
    {
      "cell_type": "markdown",
      "metadata": {
        "id": "BWDJ74TGGlCe"
      },
      "source": [
        "#### 1.1.3 Discard\n",
        "\n",
        "```python\n",
        "discard(...)\n",
        "    Remove an element from a set if it is a member.\n",
        "    \n",
        "    If the element is not a member, do nothing.\n",
        "```\n",
        "\n",
        "Eliminar elementos de un conjunto"
      ]
    },
    {
      "cell_type": "code",
      "execution_count": 33,
      "metadata": {
        "id": "-2U8eFJcVAig"
      },
      "outputs": [
        {
          "name": "stdout",
          "output_type": "stream",
          "text": [
            "{1, 2, 3, 4, 5, 6, '2', -1}\n",
            "{1, 2, 3, 4, 5, 6, -1}\n"
          ]
        }
      ],
      "source": [
        "print(tipo_set)\n",
        "\n",
        "# Eliminamos un elemento\n",
        "tipo_set.discard(\"2\")\n",
        "\n",
        "print(tipo_set)"
      ]
    },
    {
      "cell_type": "code",
      "execution_count": 34,
      "metadata": {
        "id": "Uz3hWEeeG2-5"
      },
      "outputs": [
        {
          "name": "stdout",
          "output_type": "stream",
          "text": [
            "{1, 2, 3, 4, 5, 6, -1}\n"
          ]
        }
      ],
      "source": [
        "# Si intentamos eliminar un elemento que no existe no arroja error\n",
        "tipo_set.discard(10)\n",
        "\n",
        "print(tipo_set)"
      ]
    },
    {
      "cell_type": "markdown",
      "metadata": {
        "id": "_cZB7EfkHG2U"
      },
      "source": [
        "#### 1.1.4 Remove\n",
        "\n",
        "```python\n",
        "remove(...)\n",
        "    Remove an element from a set; it must be a member.\n",
        "    \n",
        "    If the element is not a member, raise a KeyError.\n",
        "```\n",
        "\n",
        "Eliminar elementos de un conjunto"
      ]
    },
    {
      "cell_type": "code",
      "execution_count": 35,
      "metadata": {
        "id": "ylLsRr8EMVw_"
      },
      "outputs": [
        {
          "name": "stdout",
          "output_type": "stream",
          "text": [
            "{1, 2, 3, 4, 5, 6, -1}\n",
            "{1, 2, 3, 4, 5, -1}\n"
          ]
        }
      ],
      "source": [
        "print(tipo_set)\n",
        "\n",
        "# Eliminamos un elemento\n",
        "tipo_set.remove(6)\n",
        "\n",
        "print(tipo_set)"
      ]
    },
    {
      "cell_type": "code",
      "execution_count": 36,
      "metadata": {
        "id": "ctX-5FRiHW5V"
      },
      "outputs": [
        {
          "ename": "KeyError",
          "evalue": "10",
          "output_type": "error",
          "traceback": [
            "\u001b[0;31m---------------------------------------------------------------------------\u001b[0m",
            "\u001b[0;31mKeyError\u001b[0m                                  Traceback (most recent call last)",
            "\u001b[1;32m/Users/hrodriguez/Git/python_101/Clase_07.ipynb Cell 32\u001b[0m line \u001b[0;36m2\n\u001b[1;32m      <a href='vscode-notebook-cell:/Users/hrodriguez/Git/python_101/Clase_07.ipynb#X32sZmlsZQ%3D%3D?line=0'>1</a>\u001b[0m \u001b[39m# Si intenamos eliminar un elemento que no existe si arroja error\u001b[39;00m\n\u001b[0;32m----> <a href='vscode-notebook-cell:/Users/hrodriguez/Git/python_101/Clase_07.ipynb#X32sZmlsZQ%3D%3D?line=1'>2</a>\u001b[0m tipo_set\u001b[39m.\u001b[39;49mremove(\u001b[39m10\u001b[39;49m)\n\u001b[1;32m      <a href='vscode-notebook-cell:/Users/hrodriguez/Git/python_101/Clase_07.ipynb#X32sZmlsZQ%3D%3D?line=3'>4</a>\u001b[0m \u001b[39mprint\u001b[39m(tipo_set)\n",
            "\u001b[0;31mKeyError\u001b[0m: 10"
          ]
        }
      ],
      "source": [
        "# Si intenamos eliminar un elemento que no existe si arroja error\n",
        "tipo_set.remove(10)\n",
        "\n",
        "print(tipo_set)"
      ]
    },
    {
      "cell_type": "markdown",
      "metadata": {
        "id": "dr9BuIHJJ0tw"
      },
      "source": [
        "#### 1.1.5 Pop\n",
        "\n",
        "```python\n",
        "pop(...)\n",
        "    Remove and return an arbitrary set element.\n",
        "    Raises KeyError if the set is empty.\n",
        "```\n",
        "\n",
        "Elimina un valor aleatorio del conjunto"
      ]
    },
    {
      "cell_type": "code",
      "execution_count": null,
      "metadata": {
        "id": "Sh7e98-CXIwU"
      },
      "outputs": [],
      "source": [
        "help(set.pop)"
      ]
    },
    {
      "cell_type": "code",
      "execution_count": 37,
      "metadata": {
        "id": "mDj119qpMVz2"
      },
      "outputs": [
        {
          "name": "stdout",
          "output_type": "stream",
          "text": [
            "{1, 2, 3, 4, 5, -1}\n"
          ]
        },
        {
          "data": {
            "text/plain": [
              "{-1, 2, 3, 4, 5}"
            ]
          },
          "execution_count": 37,
          "metadata": {},
          "output_type": "execute_result"
        }
      ],
      "source": [
        "print(tipo_set)\n",
        "\n",
        "# Eliminamos un elemento\n",
        "tipo_set.pop()\n",
        "\n",
        "tipo_set"
      ]
    },
    {
      "cell_type": "code",
      "execution_count": 38,
      "metadata": {},
      "outputs": [
        {
          "data": {
            "text/plain": [
              "{-1, 3, 4, 5}"
            ]
          },
          "execution_count": 38,
          "metadata": {},
          "output_type": "execute_result"
        }
      ],
      "source": [
        "tipo_set.pop()\n",
        "tipo_set"
      ]
    },
    {
      "cell_type": "code",
      "execution_count": 39,
      "metadata": {},
      "outputs": [
        {
          "data": {
            "text/plain": [
              "{-1, 4, 5}"
            ]
          },
          "execution_count": 39,
          "metadata": {},
          "output_type": "execute_result"
        }
      ],
      "source": [
        "tipo_set.pop()\n",
        "tipo_set"
      ]
    },
    {
      "cell_type": "markdown",
      "metadata": {
        "id": "IoeLrYnCYunz"
      },
      "source": [
        "### 1.2 Operaciones básicas de conjuntos\n",
        "\n",
        "Estas operaciones, se pueden trabajar:\n",
        "\n",
        "1.   por operador\n",
        "2.   por función\n",
        "\n",
        "\n",
        "Nota: No es <mark>inplace</mark>, el valor resultante se debe almacenar en una variable, en caso de que la quiera persistir"
      ]
    },
    {
      "cell_type": "markdown",
      "metadata": {
        "id": "Y1F2V5GMLJVV"
      },
      "source": [
        "#### 1.2.1 Union = `|` or `set.union`\n",
        "\n",
        "![text](https://cdn.programiz.com/sites/tutorial2program/files/set-union.jpg)\n",
        "\n"
      ]
    },
    {
      "cell_type": "code",
      "execution_count": 42,
      "metadata": {
        "id": "OkAe0FpsY1Ax"
      },
      "outputs": [
        {
          "name": "stdout",
          "output_type": "stream",
          "text": [
            "1. forma con operador -->  {1, 2, 3, 4, 5, 6, 7, 8, 9}\n",
            "2. forma con funcion  -->  {1, 2, 3, 4, 5, 6, 7, 8, 9}\n",
            "3. forma con funcion  -->  None\n"
          ]
        }
      ],
      "source": [
        "set_1 = {1,2,3,4,5,6}\n",
        "set_2 = {4,5,6,7,8,9}\n",
        "\n",
        "print(\"1. forma con operador --> \", set_1 | set_2)\n",
        "print(\"2. forma con funcion  --> \", set_1.union(set_2))\n",
        "print(\"3. forma con funcion  --> \", set_2.update(set_1))"
      ]
    },
    {
      "cell_type": "code",
      "execution_count": 43,
      "metadata": {},
      "outputs": [
        {
          "data": {
            "text/plain": [
              "{1, 2, 3, 4, 5, 6, 7, 8, 9}"
            ]
          },
          "execution_count": 43,
          "metadata": {},
          "output_type": "execute_result"
        }
      ],
      "source": [
        "set_2"
      ]
    },
    {
      "cell_type": "code",
      "execution_count": 41,
      "metadata": {},
      "outputs": [
        {
          "name": "stdout",
          "output_type": "stream",
          "text": [
            "{1, 2, 3, 4, 5, 6} {4, 5, 6, 7, 8, 9}\n"
          ]
        }
      ],
      "source": [
        "print(set_1, set_2)"
      ]
    },
    {
      "cell_type": "code",
      "execution_count": 48,
      "metadata": {
        "id": "N2V3soICLKtz"
      },
      "outputs": [
        {
          "ename": "TypeError",
          "evalue": "unsupported operand type(s) for |: 'set' and 'tuple'",
          "output_type": "error",
          "traceback": [
            "\u001b[0;31m---------------------------------------------------------------------------\u001b[0m",
            "\u001b[0;31mTypeError\u001b[0m                                 Traceback (most recent call last)",
            "\u001b[1;32m/Users/hrodriguez/Git/python_101/Clase_07.ipynb Cell 43\u001b[0m line \u001b[0;36m7\n\u001b[1;32m      <a href='vscode-notebook-cell:/Users/hrodriguez/Git/python_101/Clase_07.ipynb#X42sZmlsZQ%3D%3D?line=3'>4</a>\u001b[0m list_1 \u001b[39m=\u001b[39m [\u001b[39m4\u001b[39m,\u001b[39m5\u001b[39m,\u001b[39m6\u001b[39m,\u001b[39m7\u001b[39m,\u001b[39m8\u001b[39m,\u001b[39m9\u001b[39m]\n\u001b[1;32m      <a href='vscode-notebook-cell:/Users/hrodriguez/Git/python_101/Clase_07.ipynb#X42sZmlsZQ%3D%3D?line=4'>5</a>\u001b[0m tupl_1 \u001b[39m=\u001b[39m (\u001b[39m4\u001b[39m,\u001b[39m5\u001b[39m,\u001b[39m6\u001b[39m,\u001b[39m7\u001b[39m,\u001b[39m8\u001b[39m,\u001b[39m9\u001b[39m)\n\u001b[0;32m----> <a href='vscode-notebook-cell:/Users/hrodriguez/Git/python_101/Clase_07.ipynb#X42sZmlsZQ%3D%3D?line=6'>7</a>\u001b[0m \u001b[39mprint\u001b[39m(\u001b[39m\"\u001b[39m\u001b[39m1. forma con operador --> \u001b[39m\u001b[39m\"\u001b[39m, set_1 \u001b[39m|\u001b[39;49m tupl_1)\n",
            "\u001b[0;31mTypeError\u001b[0m: unsupported operand type(s) for |: 'set' and 'tuple'"
          ]
        }
      ],
      "source": [
        "# Unión entre conjuntos y listas\n",
        "\n",
        "set_1 = {1,2,3,4,5,6}\n",
        "list_1 = [4,5,6,7,8,9]\n",
        "tupl_1 = (4,5,6,7,8,9)\n",
        "\n",
        "print(\"1. forma con operador --> \", set_1 | set(tupl_1))"
      ]
    },
    {
      "cell_type": "code",
      "execution_count": 50,
      "metadata": {
        "id": "cXuaooFvLdE1"
      },
      "outputs": [
        {
          "name": "stdout",
          "output_type": "stream",
          "text": [
            "2. forma con funcion  -->  {1, 2, 3, 4, 5, 6, 7, 8, 9}\n",
            "2. forma con funcion  -->  {1, 2, 3, 4, 5, 6, 7, 8, 9}\n"
          ]
        }
      ],
      "source": [
        "print(\"2. forma con funcion  --> \", set_1.union(list_1))\n",
        "print(\"2. forma con funcion  --> \", set_1.union(tupl_1))"
      ]
    },
    {
      "cell_type": "markdown",
      "metadata": {
        "id": "4HrFik7FLJcS"
      },
      "source": [
        "#### 1.2.2 Intersection = `&` or `set.intersection`\n",
        "\n",
        "![alt text](https://cdn.programiz.com/sites/tutorial2program/files/set-intersection.jpg)\n"
      ]
    },
    {
      "cell_type": "code",
      "execution_count": 51,
      "metadata": {
        "id": "WyCEGC_XZvlV"
      },
      "outputs": [
        {
          "name": "stdout",
          "output_type": "stream",
          "text": [
            "1. forma con operador -->  {4, 5}\n",
            "2. forma con funcion  -->  {4, 5}\n",
            "3. forma con funcion  -->  {4, 5}\n"
          ]
        }
      ],
      "source": [
        "set_1 = {1,2,3,4,5}\n",
        "set_2 = {4,5,6,7,8,9}\n",
        "\n",
        "print(\"1. forma con operador --> \", set_1 & set_2)\n",
        "print(\"2. forma con funcion  --> \", set_1.intersection(set_2))\n",
        "print(\"3. forma con funcion  --> \", set_2.intersection(set_1))"
      ]
    },
    {
      "cell_type": "markdown",
      "metadata": {
        "id": "EFVkRkfTLJi0"
      },
      "source": [
        "#### 1.2.3 Diferencia = `-` or `set.difference`\n",
        "\n",
        "![alt text](https://cdn.programiz.com/sites/tutorial2program/files/set-difference.jpg)"
      ]
    },
    {
      "cell_type": "code",
      "execution_count": 52,
      "metadata": {
        "id": "G-qBZUbDaRhc"
      },
      "outputs": [
        {
          "name": "stdout",
          "output_type": "stream",
          "text": [
            "1. forma con operador -->  {1, 2, 3}\n",
            "2. forma con funcion  -->  {1, 2, 3}\n",
            "3. forma con funcion  -->  {8, 9, 6, 7}\n"
          ]
        }
      ],
      "source": [
        "set_1 = {1,2,3,4,5}\n",
        "set_2 = {4,5,6,7,8,9}\n",
        "\n",
        "# El orden de la operacion afecta\n",
        "print(\"1. forma con operador --> \", set_1 - set_2)\n",
        "print(\"2. forma con funcion  --> \", set_1.difference(set_2))\n",
        "print(\"3. forma con funcion  --> \", set_2.difference(set_1))"
      ]
    },
    {
      "cell_type": "markdown",
      "metadata": {
        "id": "GxDzvb1kLJmi"
      },
      "source": [
        "#### 1.2.4 Diferencia simétrica = `^` or `set.symmetric_difference`\n",
        "\n",
        "![alt text](https://cdn.programiz.com/sites/tutorial2program/files/set-symmetric-difference.jpg)\n",
        "\n"
      ]
    },
    {
      "cell_type": "code",
      "execution_count": 53,
      "metadata": {
        "id": "rloDfMaSCptN"
      },
      "outputs": [
        {
          "name": "stdout",
          "output_type": "stream",
          "text": [
            "1. forma con operador -->  {1, 2, 3, 6, 7, 8, 9}\n",
            "2. forma con funcion  -->  {1, 2, 3, 6, 7, 8, 9}\n",
            "3. forma con funcion  -->  {1, 2, 3, 6, 7, 8, 9}\n"
          ]
        }
      ],
      "source": [
        "set_1 = {1,2,3,4,5}\n",
        "set_2 = {4,5,6,7,8,9}\n",
        "\n",
        "# El orden de la operación no afecta\n",
        "print(\"1. forma con operador --> \", set_1 ^ set_2)\n",
        "print(\"2. forma con funcion  --> \", set_1.symmetric_difference(set_2))\n",
        "print(\"3. forma con funcion  --> \", set_2.symmetric_difference(set_1))"
      ]
    },
    {
      "cell_type": "code",
      "execution_count": 56,
      "metadata": {},
      "outputs": [
        {
          "name": "stdout",
          "output_type": "stream",
          "text": [
            "Help on method_descriptor in set:\n",
            "\n",
            "set.difference = difference(...)\n",
            "    Return the difference of two or more sets as a new set.\n",
            "    \n",
            "    (i.e. all elements that are in this set but not the others.)\n",
            "\n"
          ]
        }
      ],
      "source": [
        "help('set.difference')"
      ]
    },
    {
      "cell_type": "markdown",
      "metadata": {
        "id": "BRAJVpnNNgDt"
      },
      "source": [
        "## Actividad\n",
        "\n",
        "1. Se tienen los siguientes elementos: \n",
        "\n",
        "  ```python\n",
        "  1 2 3 4 5 6 7 8 8 8 8 8\n",
        "  ```\n",
        "\n",
        "  A partir de estos valores se deben crear 3 conjuntos de las siguientes formas:\n",
        "    - Por constructor\n",
        "    - Referencia\n",
        "    - Por adición independiente\n",
        "  \n",
        "  Se debe imprimir los valores y el tipo\n",
        "\n",
        "2. Se tiene el siguiente texto multilinea:\n",
        "\n",
        "  ```python\n",
        "  \"\"\"\n",
        "  Hola, estamoSS en el curso de python de cedesistemas\n",
        "  el cual inicia desde el Nivel 1, espero que Lo   \n",
        "  estes disfrutandO\n",
        "  \"\"\"\n",
        "  ```\n",
        "\n",
        "  Se requiere:\n",
        "  - Tener un conjunto de datos de las letras únicas en minúscula \n",
        "  - El conjunto no debe tener espacios o caracteres de escape\n",
        "\n",
        "3. Se tienen los siguientes elementos \n",
        "\n",
        "  ```python\n",
        "  1 2 3 4 5 6 7 8 8 8 8 8 \n",
        "  ```\n",
        "  Se debe realizar lo siguiente:\n",
        "  - Crear una lista de estos valores\n",
        "  - Crear una lista nueva quitando los repetidos\n",
        "  \n",
        "  Se deben imprimir las listas nuevas y el tipo de dato\n",
        "\n",
        "4. Se tiene las siguientes listas:\n",
        "  ```python\n",
        "  A = [8, 9, 10, 20, 90, 80, 100]  \n",
        "  B = [69, 73, 20, 80, 100] \n",
        "  C = [3, 4, 15, 20, 30, 70, 80, 120] \n",
        "  ```\n",
        "\n",
        "  Encontrar elementos comunes en tres\n",
        "\n",
        "5. Se tienen las siguientes listas de participantes que asistirán a determinados\n",
        " eventos:\n",
        "  ```python\n",
        "  evento_1 = [\"Jake\", \"JohN\", \"Eric\"]\n",
        "  evento_2 = [\"jOhn\", \"Jill\"]\n",
        "  ```\n",
        "\n",
        "  Se requiere identificar lo siguiente:\n",
        "  - Mostrar los usuarios que asistirán a los dos eventos\n",
        "  - Mostrar los usuarios que asistirán a un solo evento\n",
        "  - Mostrar los usuarios que asistirán a un evento y no al otro\n",
        "  - Mostrar todos los usuarios que asistirán al menos a un evento\n",
        "\n",
        "  Notas: \n",
        "  - Se debe mostrar el tipo de dato y resultado,\n",
        "  - Los datos deben partir de la normalización, todo dinamicamente"
      ]
    },
    {
      "cell_type": "code",
      "execution_count": 61,
      "metadata": {},
      "outputs": [
        {
          "name": "stdout",
          "output_type": "stream",
          "text": [
            "{' ', '1', '7', '4', '6', '8', '3', '2', '5'}\n",
            "{1, 2, 3, 4}\n",
            "{1, 2, 3, 4}\n",
            "{1, 2, 3, 4, 5}\n"
          ]
        }
      ],
      "source": [
        "# Se tienen los siguientes elementos: \n",
        "# \n",
        "#   1 2 3 4 5 6 7 8 8 8 8 8\n",
        "# \n",
        "#   A partir de estos valores se deben crear 3 conjuntos de las siguientes formas:\n",
        "#     - Por constructor\n",
        "#     - Referencia\n",
        "#     - Por adición independiente\n",
        "\n",
        "set1 = set('1 2 3 4 5 6 7 8 8 8 8 8') # Constructor\n",
        "print(set1)\n",
        "\n",
        "set2:set = {1,2,3,4} # Referencia\n",
        "print(set2)\n",
        "\n",
        "set_base = {1,2,3}\n",
        "set_base.add(4) #Adición\n",
        "print(set_base)\n",
        "set_base.add(5)\n",
        "print(set_base)"
      ]
    },
    {
      "cell_type": "code",
      "execution_count": 58,
      "metadata": {},
      "outputs": [
        {
          "data": {
            "text/plain": [
              "['1', ',', '2', ',', '3', ',', '4']"
            ]
          },
          "execution_count": 58,
          "metadata": {},
          "output_type": "execute_result"
        }
      ],
      "source": [
        "otro_set = list('1,2,3,4')\n",
        "otro_set"
      ]
    },
    {
      "cell_type": "code",
      "execution_count": 70,
      "metadata": {},
      "outputs": [
        {
          "name": "stdout",
          "output_type": "stream",
          "text": [
            "{'a', 't', 'n', '1', 'd', 'i', 'f', 'l', 'y', 'q', 'p', 'r', 'e', 'v', 's', 'u', 'o', 'm', 'h', 'c'}\n"
          ]
        }
      ],
      "source": [
        "# 2. Se tiene el siguiente texto multilinea:\n",
        "\n",
        "cadena = \"\"\"\n",
        "  Hola, estamoSS en el curso de python de cedesistemas\n",
        "  el cual inicia desde el Nivel 1, espero que Lo   \n",
        "  estes disfrutandO\n",
        "  \"\"\"\n",
        "\n",
        "# Se requiere:\n",
        "#  - Tener un conjunto de datos de las letras únicas en minúscula \n",
        "#  - El conjunto no debe tener espacios o caracteres de escape\n",
        "\n",
        "conjunto = set(cadena.lower().replace(' ', '').replace(',','').replace('\\n',''))\n",
        "print(conjunto)"
      ]
    },
    {
      "cell_type": "code",
      "execution_count": 74,
      "metadata": {},
      "outputs": [
        {
          "name": "stdout",
          "output_type": "stream",
          "text": [
            "['1', '2', '3', '4', '5', '6', '7', '8', '8', '8', '8', '8']\n",
            "['7', '1', '4', '6', '8', '3', '2', '5']\n"
          ]
        }
      ],
      "source": [
        "# 3. Se tienen los siguientes elementos \n",
        "# \n",
        "#   1 2 3 4 5 6 7 8 8 8 8 8 \n",
        "\n",
        "#   Se debe realizar lo siguiente:\n",
        "#   - Crear una lista de estos valores\n",
        "#   - Crear una lista nueva quitando los repetidos\n",
        "#   \n",
        "#   Se deben imprimir las listas nuevas y el tipo de dato\n",
        "\n",
        "valores = '1 2 3 4 5 6 7 8 8 8 8 8'\n",
        "\n",
        "lista_valores = valores.split(' ')\n",
        "nueva_lista_valores = list(set(lista_valores))\n",
        "\n",
        "print(lista_valores, nueva_lista_valores, sep='\\n')"
      ]
    },
    {
      "cell_type": "code",
      "execution_count": 75,
      "metadata": {},
      "outputs": [
        {
          "data": {
            "text/plain": [
              "{20, 80}"
            ]
          },
          "execution_count": 75,
          "metadata": {},
          "output_type": "execute_result"
        }
      ],
      "source": [
        "#4. Se tiene las siguientes listas:\n",
        "\n",
        "A = [8, 9, 10, 20, 90, 80, 100]  \n",
        "B = [69, 73, 20, 80, 100] \n",
        "C = [3, 4, 15, 20, 30, 70, 80, 120] \n",
        "\n",
        "\n",
        "#  Encontrar elementos comunes en tres\n",
        "\n",
        "set(A).intersection(set(B)).intersection(set(C))"
      ]
    },
    {
      "cell_type": "code",
      "execution_count": 81,
      "metadata": {},
      "outputs": [
        {
          "name": "stdout",
          "output_type": "stream",
          "text": [
            "{'John'}\n",
            "{'Jill', 'Jake', 'Eric'}\n",
            "{'Jake', 'Eric'}\n",
            "{'Jill'}\n",
            "{'Jake', 'Jill', 'Eric', 'John'}\n"
          ]
        }
      ],
      "source": [
        "#5. Se tienen las siguientes listas de participantes que asistirán a determinados\n",
        "# eventos:\n",
        "\n",
        "evento_1 = [\"Jake\", \"John\", \"Eric\"]\n",
        "evento_2 = [\"John\", \"Jill\"]\n",
        "\n",
        "\n",
        "#  Se requiere identificar lo siguiente:\n",
        "#  - Mostrar los usuarios que asistirán a los dos eventos\n",
        "print(set(evento_1).intersection(set(evento_2)))\n",
        "\n",
        "#  - Mostrar los usuarios que asistirán a un solo evento\n",
        "print(set(evento_1).symmetric_difference(set(evento_2)))\n",
        "\n",
        "#  - Mostrar los usuarios que asistirán a un evento y no al otro\n",
        "print(set(evento_1).difference(set(evento_2)))\n",
        "print(set(evento_2).difference(set(evento_1)))\n",
        "\n",
        "#  - Mostrar todos los usuarios que asistirán al menos a un evento\n",
        "print(set(evento_1).union(set(evento_2)))"
      ]
    }
  ],
  "metadata": {
    "colab": {
      "collapsed_sections": [],
      "provenance": []
    },
    "kernelspec": {
      "display_name": "Python 3.9.12 ('base')",
      "language": "python",
      "name": "python3"
    },
    "language_info": {
      "codemirror_mode": {
        "name": "ipython",
        "version": 3
      },
      "file_extension": ".py",
      "mimetype": "text/x-python",
      "name": "python",
      "nbconvert_exporter": "python",
      "pygments_lexer": "ipython3",
      "version": "3.9.0"
    },
    "vscode": {
      "interpreter": {
        "hash": "182567206a88aa5e22c9544790b72718078fbf42fc4a113ced90149f8d87be21"
      }
    }
  },
  "nbformat": 4,
  "nbformat_minor": 0
}
