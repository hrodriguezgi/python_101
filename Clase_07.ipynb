{
  "cells": [
    {
      "cell_type": "markdown",
      "source": [
        "# Manejo de Python"
      ],
      "metadata": {
        "id": "DOT798xS_p_C"
      }
    },
    {
      "cell_type": "markdown",
      "metadata": {
        "id": "tUCMh_-8KuNY"
      },
      "source": [
        "## 1. Sets\n",
        "\n",
        "El tipo set en Python es la clase utilizada por el lenguaje para representar los conjuntos. \n",
        "\n",
        "<img src=\"https://i0.wp.com/casadamatematica.com.br/wp-content/uploads/2018/02/Entendendo-os-conjuntos-e-sua-linguagem-b%C3%A1sica.png?w=2000&ssl=1\"\n",
        "     width=\"300\"\n",
        "     height=\"200\"  class=\"center\"/>\n",
        "\n",
        "\n",
        "\n",
        "1.   Es una colección desordenada de elementos únicos, es decir, que no se repiten.\n",
        "2.   Sus elementos son inmutables\n",
        "3.   No son ni listas ni tuplas, ni diccionarios\n",
        "4.   No soportan acceso por indexación o por slices\n",
        "\n",
        "\n"
      ]
    },
    {
      "cell_type": "code",
      "source": [
        "help(set)"
      ],
      "metadata": {
        "id": "P1hlx9jAAX14"
      },
      "execution_count": null,
      "outputs": []
    },
    {
      "cell_type": "markdown",
      "source": [
        "Rápido repaso:\n",
        "\n",
        "```python\n",
        "# Diccionarios\n",
        "diccionario = {'llave': 'valor'}\n",
        "print(type(diccionario), diccionario)\n",
        "<class 'dict'> {'llave': 'valor'}\n",
        "```\n",
        "\n",
        "Incluso los diccionarios pueden ser vacíos\n",
        "```python\n",
        "# Diccionarios\n",
        "diccionario = {'llave': 'valor'}\n",
        "print(type(diccionario), diccionario)\n",
        "<class 'dict'> {}\n",
        "```\n",
        "\n",
        "Entonces, cómo creamos un `set` vacío?"
      ],
      "metadata": {
        "id": "BAoxMPHpCSBZ"
      }
    },
    {
      "cell_type": "code",
      "execution_count": null,
      "metadata": {
        "id": "mzZ4JCNifrwS"
      },
      "outputs": [],
      "source": [
        "# set vacío\n",
        "conjunto_vacio = set()\n",
        "print(type(conjunto_vacio), conjunto_vacio)"
      ]
    },
    {
      "cell_type": "code",
      "execution_count": null,
      "metadata": {
        "id": "qauGEy8bCp3h"
      },
      "outputs": [],
      "source": [
        "# set con datos\n",
        "conjunto = {1,2}\n",
        "print(type(conjunto), conjunto)"
      ]
    },
    {
      "cell_type": "code",
      "execution_count": null,
      "metadata": {
        "id": "7W-1G8m0Cp07"
      },
      "outputs": [],
      "source": [
        "# permite tener conjuntos de un solo tipo o mixtos\n",
        "set_numericos = {1,2,3}\n",
        "set_letras ={\"a\",\"b\",\"c\"}\n",
        "set_mixto = {\"a\",1,3.15}\n",
        "\n",
        "print(\"numericos ->\", set_numericos)\n",
        "print(\"texto     ->\", set_letras)\n",
        "print(\"mixto     ->\", set_mixto)"
      ]
    },
    {
      "cell_type": "markdown",
      "source": [
        "Los set permiten ser creados por medio del constructor haciendo uso de iterables:"
      ],
      "metadata": {
        "id": "P6qjr7EuDxyC"
      }
    },
    {
      "cell_type": "code",
      "execution_count": null,
      "metadata": {
        "id": "hhRh3NDsCpv6"
      },
      "outputs": [],
      "source": [
        "# Listas\n",
        "set([1,2,3])"
      ]
    },
    {
      "cell_type": "code",
      "execution_count": null,
      "metadata": {
        "id": "dzoFrixbMVrw"
      },
      "outputs": [],
      "source": [
        "# Tuplas\n",
        "set((1,2,3))"
      ]
    },
    {
      "cell_type": "code",
      "execution_count": null,
      "metadata": {
        "id": "sRgff-6BMVuM"
      },
      "outputs": [],
      "source": [
        "# Strings\n",
        "set(\"abc\")"
      ]
    },
    {
      "cell_type": "code",
      "execution_count": null,
      "metadata": {
        "id": "i5Ehvf8qSRb5"
      },
      "outputs": [],
      "source": [
        "# No permiten valores únicos\n",
        "\n",
        "# lista con valores duplicados\n",
        "duplicados = [2,2,2,3,1,2,2]\n",
        "\n",
        "# creación de un set a partir de la lista anterior\n",
        "conj_duplicados = set(duplicados)\n",
        "\n",
        "print(duplicados)\n",
        "print(conj_duplicados)"
      ]
    },
    {
      "cell_type": "code",
      "source": [
        "# Si creo una lista a partir del conjunto anterior no obtengo la lista original\n",
        "nuevos_duplicados = list(conj_duplicados)\n",
        "\n",
        "print(nuevos_duplicados)"
      ],
      "metadata": {
        "id": "8RZo0CrFEaAj"
      },
      "execution_count": null,
      "outputs": []
    },
    {
      "cell_type": "markdown",
      "source": [
        "### 1.1 Métodos"
      ],
      "metadata": {
        "id": "SDvyd_N_ErAy"
      }
    },
    {
      "cell_type": "markdown",
      "source": [
        "#### 1.1.1 Add\n",
        "\n",
        "```python\n",
        "add(...)\n",
        "    Add an element to a set.\n",
        "    \n",
        "    This has no effect if the element is already present.\n",
        "```\n",
        "\n",
        "Nos permite adicionar elementos a un conjunto"
      ],
      "metadata": {
        "id": "waPDcZi2En2u"
      }
    },
    {
      "cell_type": "code",
      "execution_count": null,
      "metadata": {
        "id": "_Na9HSQBVAoV"
      },
      "outputs": [],
      "source": [
        "tipo_set = {1,2}\n",
        "tipo_set.add(3)\n",
        "print(tipo_set)"
      ]
    },
    {
      "cell_type": "markdown",
      "source": [
        "#### 1.1.2 Update\n",
        "\n",
        "```python\n",
        "update(...)\n",
        "    Update a set with the union of itself and others.\n",
        "```\n",
        "\n",
        "Nos permite actualizar un conjunto"
      ],
      "metadata": {
        "id": "Ja-UbAraF3b9"
      }
    },
    {
      "cell_type": "code",
      "execution_count": null,
      "metadata": {
        "id": "Xosbdd1yVAlW"
      },
      "outputs": [],
      "source": [
        "print(tipo_set)\n",
        "\n",
        "# Actualizamos el conjunto\n",
        "tipo_set.update([1,2,3,4,5,6,1,2,\"2\"])\n",
        "\n",
        "print(tipo_set)"
      ]
    },
    {
      "cell_type": "markdown",
      "source": [
        "#### 1.1.3 Discard\n",
        "\n",
        "```python\n",
        "discard(...)\n",
        "    Remove an element from a set if it is a member.\n",
        "    \n",
        "    If the element is not a member, do nothing.\n",
        "```\n",
        "\n",
        "Eliminar elementos de un conjunto"
      ],
      "metadata": {
        "id": "BWDJ74TGGlCe"
      }
    },
    {
      "cell_type": "code",
      "execution_count": null,
      "metadata": {
        "id": "-2U8eFJcVAig"
      },
      "outputs": [],
      "source": [
        "print(tipo_set)\n",
        "\n",
        "# Eliminamos un elemento\n",
        "tipo_set.discard(\"2\")\n",
        "\n",
        "print(tipo_set)"
      ]
    },
    {
      "cell_type": "code",
      "source": [
        "# Si intentamos eliminar un elemento que no existe no arroja error\n",
        "tipo_set.discard(10)\n",
        "\n",
        "print(tipo_set)"
      ],
      "metadata": {
        "id": "Uz3hWEeeG2-5"
      },
      "execution_count": null,
      "outputs": []
    },
    {
      "cell_type": "markdown",
      "source": [
        "#### 1.1.4 Remove\n",
        "\n",
        "```python\n",
        "remove(...)\n",
        "    Remove an element from a set; it must be a member.\n",
        "    \n",
        "    If the element is not a member, raise a KeyError.\n",
        "```\n",
        "\n",
        "Eliminar elementos de un conjunto"
      ],
      "metadata": {
        "id": "_cZB7EfkHG2U"
      }
    },
    {
      "cell_type": "code",
      "execution_count": null,
      "metadata": {
        "id": "ylLsRr8EMVw_"
      },
      "outputs": [],
      "source": [
        "print(tipo_set)\n",
        "\n",
        "# Eliminamos un elemento\n",
        "tipo_set.remove(6)\n",
        "\n",
        "print(tipo_set)"
      ]
    },
    {
      "cell_type": "code",
      "source": [
        "# Si intenamos eliminar un elemento que no existe si arroja error\n",
        "tipo_set.remove(10)\n",
        "\n",
        "print(tipo_set)"
      ],
      "metadata": {
        "id": "ctX-5FRiHW5V"
      },
      "execution_count": null,
      "outputs": []
    },
    {
      "cell_type": "markdown",
      "source": [
        "#### 1.1.5 Pop\n",
        "\n",
        "```python\n",
        "pop(...)\n",
        "    Remove and return an arbitrary set element.\n",
        "    Raises KeyError if the set is empty.\n",
        "```\n",
        "\n",
        "Elimina un valor aleatorio del conjunto"
      ],
      "metadata": {
        "id": "dr9BuIHJJ0tw"
      }
    },
    {
      "cell_type": "code",
      "execution_count": null,
      "metadata": {
        "id": "Sh7e98-CXIwU"
      },
      "outputs": [],
      "source": [
        "help(set.pop)"
      ]
    },
    {
      "cell_type": "code",
      "execution_count": null,
      "metadata": {
        "id": "mDj119qpMVz2"
      },
      "outputs": [],
      "source": [
        "print(tipo_set)\n",
        "\n",
        "# Eliminamos un elemento\n",
        "tipo_set.pop()\n",
        "\n",
        "tipo_set"
      ]
    },
    {
      "cell_type": "markdown",
      "metadata": {
        "id": "IoeLrYnCYunz"
      },
      "source": [
        "### 1.2 Operaciones básicas de conjuntos\n",
        "\n",
        "Estas operaciones, se pueden trabajar:\n",
        "\n",
        "1.   por operador\n",
        "2.   por función\n",
        "\n",
        "\n",
        "Nota: No es <mark>inplace</mark>, el valor resultante se debe almacenar en una variable, en caso de que la quiera persistir"
      ]
    },
    {
      "cell_type": "markdown",
      "metadata": {
        "id": "Y1F2V5GMLJVV"
      },
      "source": [
        "#### 1.2.1 Union = `|` or `set.union`\n",
        "\n",
        "![text](https://cdn.programiz.com/sites/tutorial2program/files/set-union.jpg)\n",
        "\n"
      ]
    },
    {
      "cell_type": "code",
      "execution_count": null,
      "metadata": {
        "id": "OkAe0FpsY1Ax"
      },
      "outputs": [],
      "source": [
        "set_1 = {1,2,3,4,5,6}\n",
        "set_2 = {4,5,6,7,8,9}\n",
        "\n",
        "print(\"1. forma con operador --> \", set_1 | set_2)\n",
        "print(\"2. forma con funcion  --> \", set_1.union(set_2))\n",
        "print(\"3. forma con funcion  --> \", set_2.union(set_1))"
      ]
    },
    {
      "cell_type": "code",
      "source": [
        "# Unión entre conjuntos y listas\n",
        "\n",
        "set_1 = {1,2,3,4,5,6}\n",
        "list_1 = [4,5,6,7,8,9]\n",
        "\n",
        "print(\"1. forma con operador --> \", set_1 | list_1)"
      ],
      "metadata": {
        "id": "N2V3soICLKtz"
      },
      "execution_count": null,
      "outputs": []
    },
    {
      "cell_type": "code",
      "source": [
        "print(\"2. forma con funcion  --> \", set_1.union(list_1))"
      ],
      "metadata": {
        "id": "cXuaooFvLdE1"
      },
      "execution_count": null,
      "outputs": []
    },
    {
      "cell_type": "markdown",
      "metadata": {
        "id": "4HrFik7FLJcS"
      },
      "source": [
        "#### 1.2.2 Intersection = `&` or `set.intersection`\n",
        "\n",
        "![alt text](https://cdn.programiz.com/sites/tutorial2program/files/set-intersection.jpg)\n"
      ]
    },
    {
      "cell_type": "code",
      "execution_count": null,
      "metadata": {
        "id": "WyCEGC_XZvlV"
      },
      "outputs": [],
      "source": [
        "set_1 = {1,2,3,4,5}\n",
        "set_2 = {4,5,6,7,8,9}\n",
        "\n",
        "print(\"1. forma con operador --> \", set_1 & set_2)\n",
        "print(\"2. forma con funcion  --> \", set_1.intersection(set_2))\n",
        "print(\"3. forma con funcion  --> \", set_2.intersection(set_1))"
      ]
    },
    {
      "cell_type": "markdown",
      "metadata": {
        "id": "EFVkRkfTLJi0"
      },
      "source": [
        "#### 1.2.3 Diferencia = `-` or `set.difference`\n",
        "\n",
        "![alt text](https://cdn.programiz.com/sites/tutorial2program/files/set-difference.jpg)"
      ]
    },
    {
      "cell_type": "code",
      "execution_count": null,
      "metadata": {
        "id": "G-qBZUbDaRhc"
      },
      "outputs": [],
      "source": [
        "set_1 = {1,2,3,4,5}\n",
        "set_2 = {4,5,6,7,8,9}\n",
        "\n",
        "# El orden de la operacion afecta\n",
        "print(\"1. forma con operador --> \", set_1 - set_2)\n",
        "print(\"2. forma con funcion  --> \", set_1.difference(set_2))\n",
        "print(\"3. forma con funcion  --> \", set_2.difference(set_1))"
      ]
    },
    {
      "cell_type": "markdown",
      "metadata": {
        "id": "GxDzvb1kLJmi"
      },
      "source": [
        "#### 1.2.4 Diferencia simétrica = `^` or `set.symmetric_difference`\n",
        "\n",
        "![alt text](https://cdn.programiz.com/sites/tutorial2program/files/set-symmetric-difference.jpg)\n",
        "\n"
      ]
    },
    {
      "cell_type": "code",
      "execution_count": null,
      "metadata": {
        "id": "rloDfMaSCptN"
      },
      "outputs": [],
      "source": [
        "set_1 = {1,2,3,4,5}\n",
        "set_2 = {4,5,6,7,8,9}\n",
        "\n",
        "# El orden de la operación no afecta\n",
        "print(\"1. forma con operador --> \", set_1 ^ set_2)\n",
        "print(\"2. forma con funcion  --> \", set_1.symmetric_difference(set_2))\n",
        "print(\"3. forma con funcion  --> \", set_2.symmetric_difference(set_1))"
      ]
    },
    {
      "cell_type": "markdown",
      "source": [
        "## Actividad\n",
        "\n",
        "1. Se tienen los siguientes elementos: \n",
        "\n",
        "  ```python\n",
        "  1 2 3 4 5 6 7 8 8 8 8 8\n",
        "  ```\n",
        "\n",
        "  A partir de estos valores se deben crear 3 conjuntos de las siguientes formas:\n",
        "    - Por constructor\n",
        "    - Referencia\n",
        "    - Por adición independiente\n",
        "  \n",
        "  Se debe imprimir los valores y el tipo\n",
        "\n",
        "2. Se tiene el siguiente texto multilinea:\n",
        "\n",
        "  ```python\n",
        "  \"\"\"\n",
        "  Hola, estamoSS en el curso de python de cedesistemas\n",
        "  el cual inicia desde el Nivel 1, espero que Lo   \n",
        "  estes disfrutandO\n",
        "  \"\"\"\n",
        "  ```\n",
        "\n",
        "  Se requiere:\n",
        "  - Tener un conjunto de datos de las letras únicas en minúscula \n",
        "  - El conjunto no debe tener espacios o caracteres de escape\n",
        "\n",
        "3. Se tienen los siguientes elementos \n",
        "\n",
        "  ```python\n",
        "  1 2 3 4 5 6 7 8 8 8 8 8 \n",
        "  ```\n",
        "  Se debe realizar lo siguiente:\n",
        "  - Crear una lista de estos valores\n",
        "  - Crear una lista nueva quitando los repetidos\n",
        "  \n",
        "  Se deben imprimir las listas nuevas y el tipo de dato\n",
        "\n",
        "4. Se tiene las siguientes listas:\n",
        "  ```python\n",
        "  A = [8, 9, 10, 20, 90, 80, 100]  \n",
        "  B = [69, 73, 20, 80, 100] \n",
        "  C = [3, 4, 15, 20, 30, 70, 80, 120] \n",
        "  ```\n",
        "\n",
        "  Encontrar elementos comunes en tres\n",
        "\n",
        "5. Se tienen las siguientes listas de participantes que asistirán a determinados\n",
        " eventos:\n",
        "  ```python\n",
        "  evento_1 = [\"Jake\", \"JohN\", \"Eric\"]\n",
        "  evento_2 = [\"jOhn\", \"Jill\"]\n",
        "  ```\n",
        "\n",
        "  Se requiere identificar lo siguiente:\n",
        "  - Mostrar los usuarios que asistirán a los dos eventos\n",
        "  - Mostrar los usuarios que asistirán a un solo evento\n",
        "  - Mostrar los usuarios que asistirán a un evento y no al otro\n",
        "  - Mostrar todos los usuarios que asistirán al menos a un evento\n",
        "\n",
        "  Notas: \n",
        "  - Se debe mostrar el tipo de dato y resultado,\n",
        "  - Los datos deben partir de la normalización, todo dinamicamente"
      ],
      "metadata": {
        "id": "BRAJVpnNNgDt"
      }
    }
  ],
  "metadata": {
    "colab": {
      "collapsed_sections": [],
      "provenance": []
    },
    "kernelspec": {
      "display_name": "Python 3.9.12 ('base')",
      "language": "python",
      "name": "python3"
    },
    "language_info": {
      "name": "python",
      "version": "3.9.12"
    },
    "vscode": {
      "interpreter": {
        "hash": "182567206a88aa5e22c9544790b72718078fbf42fc4a113ced90149f8d87be21"
      }
    }
  },
  "nbformat": 4,
  "nbformat_minor": 0
}