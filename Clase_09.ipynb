{
  "cells": [
    {
      "cell_type": "markdown",
      "metadata": {
        "id": "Qpvt-Tss2XLi"
      },
      "source": [
        "# Manejo de Python"
      ]
    },
    {
      "cell_type": "markdown",
      "metadata": {
        "id": "07jcxMlgBOst"
      },
      "source": [
        "## Control de decisiones\n",
        "El control de deciciones también es conocido como selección de sentencias o\n",
        "ramificaciones de sentencias. Estas pueden realizarse con ayuda de condicionales"
      ]
    },
    {
      "cell_type": "markdown",
      "metadata": {},
      "source": [
        "### 1. if\n",
        "Las sentencias if son utilizadas para el control de flujo que nos ayudan a\n",
        "ejecutar cierta parte del código siempre y cuando se cumpla la condición que se\n",
        "ha definido.\n",
        "\n",
        "\n",
        "Ejemplo:\n",
        "\n",
        "```python\n",
        "n = 10\n",
        "if n % 2 == 0:\n",
        "    print('n es un número par')\n",
        "```"
      ]
    },
    {
      "cell_type": "code",
      "execution_count": 3,
      "metadata": {},
      "outputs": [
        {
          "name": "stdout",
          "output_type": "stream",
          "text": [
            "n es un número par\n"
          ]
        }
      ],
      "source": [
        "n = 10\n",
        "if n % 2 == 0: # Operadores de comparación retornan True o False\n",
        "    print('n es un número par')"
      ]
    },
    {
      "cell_type": "code",
      "execution_count": 6,
      "metadata": {},
      "outputs": [
        {
          "name": "stdout",
          "output_type": "stream",
          "text": [
            "Hola Mundo\n"
          ]
        }
      ],
      "source": [
        "if True:\n",
        "    print('Hola Mundo')"
      ]
    },
    {
      "cell_type": "markdown",
      "metadata": {},
      "source": [
        "### 2. if - else\n",
        "Las sentencias if - else son un complemento de las anteriores, ya que nos\n",
        "permiten definir dos caminos: cuando se cumple la condición y cuando no se\n",
        "cumple la condición, teniendo la oportunidad de definir de segmentos de código\n",
        "para cada uno de los escenarios.\n",
        "\n",
        "\n",
        "Ejemplo:\n",
        "\n",
        "```python\n",
        "n = 13\n",
        "if n % 2 == 0:\n",
        "    print('n es un número par')\n",
        "else:\n",
        "    print('n es un número impar')\n",
        "```\n",
        "\n",
        "**Nota:**\n",
        "\n",
        "No olvidar que este tipo de sentencias también pueden ser escritas como operador\n",
        "ternario"
      ]
    },
    {
      "cell_type": "code",
      "execution_count": 15,
      "metadata": {},
      "outputs": [
        {
          "name": "stdout",
          "output_type": "stream",
          "text": [
            "n es un número par\n"
          ]
        }
      ],
      "source": [
        "n = 10\n",
        "\n",
        "\n",
        "if n % 2 == 0:\n",
        "    print('n es un número par')\n",
        "else:\n",
        "    print('n es un número impar')"
      ]
    },
    {
      "cell_type": "code",
      "execution_count": 14,
      "metadata": {},
      "outputs": [
        {
          "name": "stdout",
          "output_type": "stream",
          "text": [
            "n es un número impar\n"
          ]
        }
      ],
      "source": [
        "print('n es un número par') if n % 2 == 0 else print('n es un número impar')"
      ]
    },
    {
      "cell_type": "markdown",
      "metadata": {},
      "source": [
        "### 3. if - elif - else\n",
        "Las sentencias con if - elif - else nos permiten adicionarle una condición más\n",
        "a los simples if - else, teniendo la posibilidad de 3 caminos para nuestra\n",
        "toma de decisión.\n",
        "\n",
        "\n",
        "Ejemplo:\n",
        "\n",
        "```python\n",
        "a = 5\n",
        "b = 10\n",
        "if a == b:\n",
        "    print('Los números son iguales')\n",
        "elif a > b:\n",
        "    print('a es mayor que b')\n",
        "else:\n",
        "    print('b es mayor que a')\n",
        "```"
      ]
    },
    {
      "cell_type": "code",
      "execution_count": 18,
      "metadata": {},
      "outputs": [
        {
          "name": "stdout",
          "output_type": "stream",
          "text": [
            "ambos booleanos no son iguales\n"
          ]
        }
      ],
      "source": [
        "if 10 != 10:\n",
        "    print('ambos numeros no son iguales')\n",
        "elif True and 1:\n",
        "    print('ambos booleanos no son iguales')\n",
        "elif 'casa' == 'casa':\n",
        "    print('los strings no son iguales')\n",
        "else:\n",
        "    print('nada de lo anterior funcionó')"
      ]
    },
    {
      "cell_type": "markdown",
      "metadata": {},
      "source": [
        "### 4. if anidado\n",
        "Las sentencias con un if anidado, no son más que definir un if dentro de otro\n",
        "if y cumpliendo las reglas de los puntos 1 y 2.\n",
        "\n",
        "\n",
        "Ejemplo:\n",
        "\n",
        "```python\n",
        "a = 5\n",
        "b = 10\n",
        "c = 15\n",
        "if a > b:\n",
        "    if a > c:\n",
        "        print('a es el más grande de todos')\n",
        "    else:\n",
        "        print('c es el más grande de todos')\n",
        "elif b > c:\n",
        "    print('b es el más grande de todos')\n",
        "else:\n",
        "    print('c es el más grande de todos')\n",
        "```"
      ]
    },
    {
      "cell_type": "code",
      "execution_count": 20,
      "metadata": {},
      "outputs": [
        {
          "name": "stdout",
          "output_type": "stream",
          "text": [
            "c es el más grande de todos\n"
          ]
        }
      ],
      "source": [
        "a = 12\n",
        "b = 10\n",
        "c = 15\n",
        "\n",
        "if a > b:\n",
        "    if a > c:\n",
        "        print('a es el más grande de todos')\n",
        "    else:\n",
        "        print('c es el más grande de todos')\n",
        "elif b > c:\n",
        "    print('b es el más grande de todos')\n",
        "else:\n",
        "    print('c es el más grande de todos')"
      ]
    },
    {
      "cell_type": "markdown",
      "metadata": {},
      "source": [
        "### 5. Operador ternario\n",
        "\n",
        "Una alternativa para las sentencias `if - else` es el uso de los operadores ternarios que tienen la siguiente\n",
        "sintaxis:\n",
        "\n",
        "```python\n",
        "resultado_true if condicion else resultado_false\n",
        "```\n",
        "\n",
        "Por lo tanto en lugar de escribir un código de la siguiente forma:\n",
        "\n",
        "```python\n",
        "if numero == 10:\n",
        "    print('igual a diez')\n",
        "else:\n",
        "    print('diferente a diez')\n",
        "```\n",
        "\n",
        "podemos escribir:\n",
        "\n",
        "```python\n",
        "print('igual a diez') if numero == 10 else print('diferente a diez')\n",
        "```"
      ]
    }
  ],
  "metadata": {
    "colab": {
      "collapsed_sections": [],
      "provenance": []
    },
    "kernelspec": {
      "display_name": "Python 3",
      "name": "python3"
    },
    "language_info": {
      "codemirror_mode": {
        "name": "ipython",
        "version": 3
      },
      "file_extension": ".py",
      "mimetype": "text/x-python",
      "name": "python",
      "nbconvert_exporter": "python",
      "pygments_lexer": "ipython3",
      "version": "3.9.0"
    }
  },
  "nbformat": 4,
  "nbformat_minor": 0
}
