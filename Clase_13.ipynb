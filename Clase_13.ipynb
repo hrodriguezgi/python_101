{
 "cells": [
  {
   "cell_type": "markdown",
   "metadata": {},
   "source": [
    "# Manejo de Python"
   ]
  },
  {
   "cell_type": "code",
   "execution_count": 3,
   "metadata": {},
   "outputs": [],
   "source": [
    "class ClassName:\n",
    "    pass"
   ]
  },
  {
   "cell_type": "markdown",
   "metadata": {},
   "source": [
    "## Clases\n",
    "\n",
    "Las clases proveen una forma de empaquetar datos y funcionalidad juntos. Al\n",
    "crear una nueva clase, se crea un nuevo tipo de objeto, permitiendo crear nuevas\n",
    "instancias de ese tipo. Cada instancia de clase puede tener atributos adjuntos\n",
    "para mantener su estado. Las instancias de clase también pueden tener métodos\n",
    "para modificar su estado.\n",
    "\n",
    "Python provee las caracteristicas normales de Programación Orientada a Objetos:\n",
    "el mecanismo de la herencia de clases permite múltiples clases base, una clase\n",
    "derivada puede sobre escribir cualquier métodos de su clase base, y un método\n",
    "puede llamar al método de la clase base con el mismo nombre.\n",
    "\n",
    "La sintaxis de una clase es de la siguiente forma:\n",
    "\n",
    "```python\n",
    "class ClassName:\n",
    "    pass\n",
    "```"
   ]
  },
  {
   "cell_type": "markdown",
   "metadata": {},
   "source": [
    "Al igual que las funciones, declarar una función no implica su uso, por lo que\n",
    "es necesario instanciarlas.\n",
    "\n",
    "Un ejemplo de una clase sencilla es la siguiente:\n",
    "\n",
    "```python\n",
    "class MyClass:\n",
    "    \"\"\"Ejemplo de una clase simple\"\"\"\n",
    "    i = 12345\n",
    "\n",
    "    def f(self):\n",
    "        return \"hello world\"\n",
    "```\n",
    "\n",
    "En la clase anterior, se cuentan con un atributo `i` y un método `f`. Como\n",
    "veremos más adelante es normal encontrarse la palabra `self` al momento de\n",
    "declarar variables o funciones dentro de las clases, esto significa que\n",
    "pertenecen a la clase y a la instancia de la clase."
   ]
  },
  {
   "cell_type": "code",
   "execution_count": 17,
   "metadata": {},
   "outputs": [],
   "source": [
    "class MyClass:\n",
    "    \"\"\"Ejemplo de una clase simple\"\"\"\n",
    "    i = 12345 # Atributo\n",
    "    codigo = '123hsda' # atributo\n",
    "\n",
    "    def f(self): # método\n",
    "        return \"hello world\"\n"
   ]
  },
  {
   "cell_type": "code",
   "execution_count": 18,
   "metadata": {},
   "outputs": [
    {
     "data": {
      "text/plain": [
       "__main__.MyClass"
      ]
     },
     "execution_count": 18,
     "metadata": {},
     "output_type": "execute_result"
    }
   ],
   "source": [
    "a = MyClass()\n",
    "type(a)"
   ]
  },
  {
   "cell_type": "code",
   "execution_count": 19,
   "metadata": {},
   "outputs": [
    {
     "data": {
      "text/plain": [
       "'123hsda'"
      ]
     },
     "execution_count": 19,
     "metadata": {},
     "output_type": "execute_result"
    }
   ],
   "source": [
    "a.codigo"
   ]
  },
  {
   "cell_type": "code",
   "execution_count": 21,
   "metadata": {},
   "outputs": [
    {
     "ename": "AttributeError",
     "evalue": "'MyClass' object has no attribute 'telefono'",
     "output_type": "error",
     "traceback": [
      "\u001b[0;31m---------------------------------------------------------------------------\u001b[0m",
      "\u001b[0;31mAttributeError\u001b[0m                            Traceback (most recent call last)",
      "\u001b[1;32m/Users/hrodriguez/Git/python_101/Clase_13.ipynb Cell 8\u001b[0m line \u001b[0;36m1\n\u001b[0;32m----> <a href='vscode-notebook-cell:/Users/hrodriguez/Git/python_101/Clase_13.ipynb#X15sZmlsZQ%3D%3D?line=0'>1</a>\u001b[0m a\u001b[39m.\u001b[39;49mtelefono\n",
      "\u001b[0;31mAttributeError\u001b[0m: 'MyClass' object has no attribute 'telefono'"
     ]
    }
   ],
   "source": [
    "a.telefono"
   ]
  },
  {
   "cell_type": "code",
   "execution_count": 20,
   "metadata": {},
   "outputs": [
    {
     "data": {
      "text/plain": [
       "'hello world'"
      ]
     },
     "execution_count": 20,
     "metadata": {},
     "output_type": "execute_result"
    }
   ],
   "source": [
    "a.f()"
   ]
  },
  {
   "cell_type": "code",
   "execution_count": 22,
   "metadata": {},
   "outputs": [
    {
     "ename": "AttributeError",
     "evalue": "'MyClass' object has no attribute 'otra_funcion'",
     "output_type": "error",
     "traceback": [
      "\u001b[0;31m---------------------------------------------------------------------------\u001b[0m",
      "\u001b[0;31mAttributeError\u001b[0m                            Traceback (most recent call last)",
      "\u001b[1;32m/Users/hrodriguez/Git/python_101/Clase_13.ipynb Cell 10\u001b[0m line \u001b[0;36m1\n\u001b[0;32m----> <a href='vscode-notebook-cell:/Users/hrodriguez/Git/python_101/Clase_13.ipynb#X16sZmlsZQ%3D%3D?line=0'>1</a>\u001b[0m a\u001b[39m.\u001b[39;49motra_funcion()\n",
      "\u001b[0;31mAttributeError\u001b[0m: 'MyClass' object has no attribute 'otra_funcion'"
     ]
    }
   ],
   "source": [
    "a.otra_funcion()"
   ]
  },
  {
   "cell_type": "markdown",
   "metadata": {},
   "source": [
    "### Métodos de la clase\n",
    "\n",
    "#### Constructor\n",
    "\n",
    "La operación de instanciar una clase crea un objeto vacío. Muchas clases\n",
    "necesitan crear objetos con un estado inicial particular. Para\n",
    "realizar esto, Python cuenta con un método especial llamado `__init__()` de la\n",
    "siguiente forma:\n",
    "\n",
    "```python\n",
    "def __init__(self):\n",
    "    self.data = []\n",
    "```\n",
    "\n",
    "De esta forma, al invocar una clase, inmediatamente es invocado el método \n",
    "`__init__`."
   ]
  },
  {
   "cell_type": "markdown",
   "metadata": {},
   "source": [
    "#### Métodos Regulares\n",
    "\n",
    "Los métodos regulares son aquellos que pueden realizar acciones con los atributos\n",
    "de las clases y variables externas también. Estos métodos toman la instancia\n",
    "como primer argumento, de ahí que tienen `self`.\n",
    "\n",
    "Ejemplo:\n",
    "\n",
    "```python\n",
    "class Employee:\n",
    "    def __init__(self, name, last, salary):\n",
    "        self.name = name\n",
    "        self.last = last\n",
    "        self.email = name + '.' + last + '@company.com'\n",
    "        self.salary = salary\n",
    "\n",
    "    def fullname(self):\n",
    "        return f'{self.name} {self.last}'\n",
    "```\n",
    "\n",
    "El método `fullname` utiliza dos atributos de la clase para realizar una acción\n",
    "de concatenar."
   ]
  },
  {
   "cell_type": "markdown",
   "metadata": {},
   "source": [
    "#### Métodos Especiales\n",
    "\n",
    "En los métodos especiales podemos nombrar: `__str__()` y `__repr__()` los cuales\n",
    "permiten realizar una representación de la instancia de la clase para presentar\n",
    "al usuario final y para hacer debug, respectivamente.\n",
    "\n",
    "Ejemplo:\n",
    "\n",
    "```python\n",
    "class Employee:\n",
    "    raise_amount = 1.04\n",
    "\n",
    "    def __init__(self, name, last, salary):\n",
    "        self.name = name\n",
    "        self.last = last\n",
    "        self.email = name + '.' + last + '@company.com'\n",
    "        self.salary = salary\n",
    "\n",
    "    def __repr__(self):\n",
    "        return f\"Employee('{self.name}', '{self.last}', '{self.salary}')\"\n",
    "\n",
    "    def __str__(self):\n",
    "        return f'{self.fullname()} - {self.email}'\n",
    "```"
   ]
  }
 ],
 "metadata": {
  "kernelspec": {
   "display_name": "cedesistemas",
   "language": "python",
   "name": "python3"
  },
  "language_info": {
   "codemirror_mode": {
    "name": "ipython",
    "version": 3
   },
   "file_extension": ".py",
   "mimetype": "text/x-python",
   "name": "python",
   "nbconvert_exporter": "python",
   "pygments_lexer": "ipython3",
   "version": "3.9.0"
  }
 },
 "nbformat": 4,
 "nbformat_minor": 2
}
