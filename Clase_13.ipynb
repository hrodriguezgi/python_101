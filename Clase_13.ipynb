{
 "cells": [
  {
   "cell_type": "markdown",
   "metadata": {},
   "source": [
    "# Manejo de Python"
   ]
  },
  {
   "cell_type": "code",
   "execution_count": 3,
   "metadata": {},
   "outputs": [],
   "source": [
    "class ClassName:\n",
    "    pass"
   ]
  },
  {
   "cell_type": "markdown",
   "metadata": {},
   "source": [
    "## Clases\n",
    "\n",
    "Las clases proveen una forma de empaquetar datos y funcionalidad juntos. Al\n",
    "crear una nueva clase, se crea un nuevo tipo de objeto, permitiendo crear nuevas\n",
    "instancias de ese tipo. Cada instancia de clase puede tener atributos adjuntos\n",
    "para mantener su estado. Las instancias de clase también pueden tener métodos\n",
    "para modificar su estado.\n",
    "\n",
    "Python provee las caracteristicas normales de Programación Orientada a Objetos:\n",
    "el mecanismo de la herencia de clases permite múltiples clases base, una clase\n",
    "derivada puede sobre escribir cualquier métodos de su clase base, y un método\n",
    "puede llamar al método de la clase base con el mismo nombre.\n",
    "\n",
    "La sintaxis de una clase es de la siguiente forma:\n",
    "\n",
    "```python\n",
    "class ClassName:\n",
    "    pass\n",
    "```"
   ]
  },
  {
   "cell_type": "markdown",
   "metadata": {},
   "source": [
    "Al igual que las funciones, declarar una función no implica su uso, por lo que\n",
    "es necesario instanciarlas.\n",
    "\n",
    "Un ejemplo de una clase sencilla es la siguiente:\n",
    "\n",
    "```python\n",
    "class MyClass:\n",
    "    \"\"\"Ejemplo de una clase simple\"\"\"\n",
    "    i = 12345\n",
    "\n",
    "    def f(self):\n",
    "        return \"hello world\"\n",
    "```\n",
    "\n",
    "En la clase anterior, se cuentan con un atributo `i` y un método `f`. Como\n",
    "veremos más adelante es normal encontrarse la palabra `self` al momento de\n",
    "declarar variables o funciones dentro de las clases, esto significa que\n",
    "pertenecen a la clase y a la instancia de la clase."
   ]
  },
  {
   "cell_type": "code",
   "execution_count": 17,
   "metadata": {},
   "outputs": [],
   "source": [
    "class MyClass:\n",
    "    \"\"\"Ejemplo de una clase simple\"\"\"\n",
    "    def __init__(self):\n",
    "        self.i = 12345 # Atributo\n",
    "        self.codigo = '123hsda' # atributo\n",
    "\n",
    "    def f(self): # método\n",
    "        return f\"hello world {self.codigo}\"\n"
   ]
  },
  {
   "cell_type": "code",
   "execution_count": 12,
   "metadata": {},
   "outputs": [
    {
     "data": {
      "text/plain": [
       "__main__.MyClass"
      ]
     },
     "execution_count": 12,
     "metadata": {},
     "output_type": "execute_result"
    }
   ],
   "source": [
    "a = MyClass()\n",
    "type(a)"
   ]
  },
  {
   "cell_type": "code",
   "execution_count": 18,
   "metadata": {},
   "outputs": [
    {
     "data": {
      "text/plain": [
       "'123hsda'"
      ]
     },
     "execution_count": 18,
     "metadata": {},
     "output_type": "execute_result"
    }
   ],
   "source": [
    "b = MyClass()\n",
    "b.codigo"
   ]
  },
  {
   "cell_type": "code",
   "execution_count": 19,
   "metadata": {},
   "outputs": [
    {
     "data": {
      "text/plain": [
       "'hello world 123hsda'"
      ]
     },
     "execution_count": 19,
     "metadata": {},
     "output_type": "execute_result"
    }
   ],
   "source": [
    "b.f()"
   ]
  },
  {
   "cell_type": "code",
   "execution_count": 13,
   "metadata": {},
   "outputs": [
    {
     "data": {
      "text/plain": [
       "'123hsda'"
      ]
     },
     "execution_count": 13,
     "metadata": {},
     "output_type": "execute_result"
    }
   ],
   "source": [
    "a.codigo"
   ]
  },
  {
   "cell_type": "code",
   "execution_count": 21,
   "metadata": {},
   "outputs": [
    {
     "ename": "AttributeError",
     "evalue": "'MyClass' object has no attribute 'telefono'",
     "output_type": "error",
     "traceback": [
      "\u001b[0;31m---------------------------------------------------------------------------\u001b[0m",
      "\u001b[0;31mAttributeError\u001b[0m                            Traceback (most recent call last)",
      "\u001b[1;32m/Users/hrodriguez/Git/python_101/Clase_13.ipynb Cell 8\u001b[0m line \u001b[0;36m1\n\u001b[0;32m----> <a href='vscode-notebook-cell:/Users/hrodriguez/Git/python_101/Clase_13.ipynb#X15sZmlsZQ%3D%3D?line=0'>1</a>\u001b[0m a\u001b[39m.\u001b[39;49mtelefono\n",
      "\u001b[0;31mAttributeError\u001b[0m: 'MyClass' object has no attribute 'telefono'"
     ]
    }
   ],
   "source": [
    "a.telefono"
   ]
  },
  {
   "cell_type": "code",
   "execution_count": 20,
   "metadata": {},
   "outputs": [
    {
     "data": {
      "text/plain": [
       "'hello world'"
      ]
     },
     "execution_count": 20,
     "metadata": {},
     "output_type": "execute_result"
    }
   ],
   "source": [
    "a.f()"
   ]
  },
  {
   "cell_type": "code",
   "execution_count": 22,
   "metadata": {},
   "outputs": [
    {
     "ename": "AttributeError",
     "evalue": "'MyClass' object has no attribute 'otra_funcion'",
     "output_type": "error",
     "traceback": [
      "\u001b[0;31m---------------------------------------------------------------------------\u001b[0m",
      "\u001b[0;31mAttributeError\u001b[0m                            Traceback (most recent call last)",
      "\u001b[1;32m/Users/hrodriguez/Git/python_101/Clase_13.ipynb Cell 10\u001b[0m line \u001b[0;36m1\n\u001b[0;32m----> <a href='vscode-notebook-cell:/Users/hrodriguez/Git/python_101/Clase_13.ipynb#X16sZmlsZQ%3D%3D?line=0'>1</a>\u001b[0m a\u001b[39m.\u001b[39;49motra_funcion()\n",
      "\u001b[0;31mAttributeError\u001b[0m: 'MyClass' object has no attribute 'otra_funcion'"
     ]
    }
   ],
   "source": [
    "a.otra_funcion()"
   ]
  },
  {
   "cell_type": "code",
   "execution_count": 33,
   "metadata": {},
   "outputs": [],
   "source": [
    "class Estudiante():\n",
    "    def __init__(self, in_nombre, in_apellido, in_edad):\n",
    "        self.nombre = in_nombre\n",
    "        self.apellido = in_apellido\n",
    "        self.edad = in_edad"
   ]
  },
  {
   "cell_type": "code",
   "execution_count": 30,
   "metadata": {},
   "outputs": [],
   "source": [
    "edgardo = Estudiante('Edgardo', 'Morales', 30)\n",
    "sergio = Estudiante('Sergio', 'Castrillon', 29)\n",
    "heidy = Estudiante('Heidy', 'Londoño', 25)"
   ]
  },
  {
   "cell_type": "code",
   "execution_count": 31,
   "metadata": {},
   "outputs": [
    {
     "name": "stdout",
     "output_type": "stream",
     "text": [
      "<class '__main__.Estudiante'>\n",
      "<class '__main__.Estudiante'>\n",
      "<class '__main__.Estudiante'>\n"
     ]
    }
   ],
   "source": [
    "print(type(edgardo), type(sergio), type(heidy), sep='\\n')"
   ]
  },
  {
   "cell_type": "code",
   "execution_count": 32,
   "metadata": {},
   "outputs": [
    {
     "name": "stdout",
     "output_type": "stream",
     "text": [
      "Edgardo\n",
      "Sergio\n",
      "Heidy\n"
     ]
    }
   ],
   "source": [
    "print(edgardo.nombre, sergio.nombre, heidy.nombre, sep='\\n')"
   ]
  },
  {
   "cell_type": "code",
   "execution_count": 66,
   "metadata": {},
   "outputs": [],
   "source": [
    "class Estudiante:\n",
    "    def __init__(self, in_nombre='Pedro', in_apellido='Perez', in_edad=19):\n",
    "        self.nombre = in_nombre\n",
    "        self.apellido = in_apellido\n",
    "        self.edad = in_edad\n",
    "\n",
    "class Materias:\n",
    "    def __init__(self): # Constructor\n",
    "        self.nota = 0 # atributos\n",
    "        self.estudiantes = 0 # atributos\n",
    "        self.profesor = 'Juanito Alimaña' # atributos"
   ]
  },
  {
   "cell_type": "code",
   "execution_count": 64,
   "metadata": {},
   "outputs": [],
   "source": [
    "edgardo = Estudiante(in_nombre='Edgardo', in_edad=29)\n",
    "estudiante_generico = Estudiante()\n",
    "\n",
    "ciencias = Materias()"
   ]
  },
  {
   "cell_type": "code",
   "execution_count": 65,
   "metadata": {},
   "outputs": [
    {
     "name": "stdout",
     "output_type": "stream",
     "text": [
      "0 0 Juanito Alimaña\n"
     ]
    }
   ],
   "source": [
    "print(ciencias.nota, ciencias.estudiantes, ciencias.profesor)"
   ]
  },
  {
   "cell_type": "code",
   "execution_count": 53,
   "metadata": {},
   "outputs": [
    {
     "data": {
      "text/plain": [
       "'Edgardo'"
      ]
     },
     "execution_count": 53,
     "metadata": {},
     "output_type": "execute_result"
    }
   ],
   "source": [
    "edgardo.nombre"
   ]
  },
  {
   "cell_type": "code",
   "execution_count": 36,
   "metadata": {},
   "outputs": [
    {
     "data": {
      "text/plain": [
       "0"
      ]
     },
     "execution_count": 36,
     "metadata": {},
     "output_type": "execute_result"
    }
   ],
   "source": [
    "ciencias.nota"
   ]
  },
  {
   "cell_type": "code",
   "execution_count": 27,
   "metadata": {},
   "outputs": [
    {
     "name": "stdout",
     "output_type": "stream",
     "text": [
      "<class 'str'>\n",
      "<class 'str'>\n"
     ]
    }
   ],
   "source": [
    "a = 'hola mundo'\n",
    "b = 'cruel'\n",
    "\n",
    "print(type(a), type(b), sep='\\n')"
   ]
  },
  {
   "cell_type": "markdown",
   "metadata": {},
   "source": [
    "### Métodos de la clase\n",
    "\n",
    "#### Constructor\n",
    "\n",
    "La operación de instanciar una clase crea un objeto vacío. Muchas clases\n",
    "necesitan crear objetos con un estado inicial particular. Para\n",
    "realizar esto, Python cuenta con un método especial llamado `__init__()` de la\n",
    "siguiente forma:\n",
    "\n",
    "```python\n",
    "def __init__(self):\n",
    "    self.data = []\n",
    "```\n",
    "\n",
    "De esta forma, al invocar una clase, inmediatamente es invocado el método \n",
    "`__init__`."
   ]
  },
  {
   "cell_type": "code",
   "execution_count": 71,
   "metadata": {},
   "outputs": [
    {
     "data": {
      "text/plain": [
       "'Cien Años De Soledad'"
      ]
     },
     "execution_count": 71,
     "metadata": {},
     "output_type": "execute_result"
    }
   ],
   "source": [
    "cadena = 'cien años de soledad'\n",
    "\n",
    "cadena.title()"
   ]
  },
  {
   "cell_type": "code",
   "execution_count": 73,
   "metadata": {},
   "outputs": [
    {
     "data": {
      "text/plain": [
       "2"
      ]
     },
     "execution_count": 73,
     "metadata": {},
     "output_type": "execute_result"
    }
   ],
   "source": [
    "lista =[1,2,3,4,5,5,4,3,5,5,5,5,5]\n",
    "lista.count(4)"
   ]
  },
  {
   "cell_type": "markdown",
   "metadata": {},
   "source": [
    "* Otro ejemplo:\n",
    "\n",
    "Queremos desarrollar un software para gestionar una biblioteca. Lo más importante de una biblioteca son los libros, los cuáles tienen ciertas características como autor, año de publicación, título, entre otros y que tendrán unas acciones como `prestar` o `devolver` un libro. Bajo este escenario el objeto libros sería por lo tanto una `clase`.\n",
    "\n",
    "Pero entonces, cómo hacemo esto?, lo primero es entender una clase como una plantilla para crear o representar objetos en Python, para lo cual debemos definir una serie de características o `atributos` y cual sería el comportamiento o `métodos` de ellos. \n",
    "\n",
    "Para poder crear un libro, cómo 'Cien años de soledad' por ejemplo, utilizaremos por lo tanto la clase mencionada anteriormente. Esta acción se llama `instanciar` un objeto."
   ]
  },
  {
   "cell_type": "code",
   "execution_count": null,
   "metadata": {},
   "outputs": [],
   "source": [
    "# Definición de la clase Libro\n",
    "class Libro:\n",
    "    # Método constructor: se llama cuando creamos un nuevo objeto de la clase\n",
    "    def __init__(self, titulo, autor, año_publicacion):\n",
    "        # Atributos del libro\n",
    "        self.titulo = titulo\n",
    "        self.autor = autor\n",
    "        self.año_publicacion = año_publicacion\n",
    "        self.prestado = False  # Inicialmente, el libro no está prestado\n",
    "\n",
    "    # Método para prestar el libro\n",
    "    def prestar(self):\n",
    "        if not self.prestado:\n",
    "            self.prestado = True\n",
    "            print(f\"El libro '{self.titulo}' ha sido prestado.\")\n",
    "        else:\n",
    "            print(f\"¡Oops! El libro '{self.titulo}' ya está prestado.\")\n",
    "\n",
    "    # Método para devolver el libro\n",
    "    def devolver(self):\n",
    "        if self.prestado:\n",
    "            self.prestado = False\n",
    "            print(f\"El libro '{self.titulo}' ha sido devuelto.\")\n",
    "        else:\n",
    "            print(f\"¡Cuidado! El libro '{self.titulo}' no estaba prestado.\")\n"
   ]
  },
  {
   "cell_type": "code",
   "execution_count": null,
   "metadata": {},
   "outputs": [],
   "source": [
    "# Crear instancias de la clase Libro\n",
    "libro1 = Libro(\"Harry Potter y la piedra filosofal\", \"J.K. Rowling\", 1997)\n",
    "libro2 = Libro(\"Cien años de soledad\", \"Gabriel García Márquez\", 1967)\n"
   ]
  },
  {
   "cell_type": "code",
   "execution_count": null,
   "metadata": {},
   "outputs": [],
   "source": [
    "# Acceder a los atributos de los libros\n",
    "print(f\"Título del libro 1: {libro1.titulo}\")\n",
    "print(f\"Autor del libro 1: {libro1.autor}\")\n",
    "print(f\"Año de publicación del libro 1: {libro1.año_publicacion}\")\n"
   ]
  },
  {
   "cell_type": "code",
   "execution_count": null,
   "metadata": {},
   "outputs": [],
   "source": [
    "# Prestar y devolver libros\n",
    "libro1.prestar()\n",
    "libro2.prestar()\n",
    "libro1.devolver()\n",
    "libro2.devolver()\n"
   ]
  },
  {
   "cell_type": "markdown",
   "metadata": {},
   "source": [
    "#### Métodos Regulares\n",
    "\n",
    "Los métodos regulares son aquellos que pueden realizar acciones con los atributos\n",
    "de las clases y variables externas también. Estos métodos toman la instancia\n",
    "como primer argumento, de ahí que tienen `self`.\n",
    "\n",
    "Ejemplo:\n",
    "\n",
    "```python\n",
    "class Employee:\n",
    "    def __init__(self, name, last, salary):\n",
    "        self.name = name\n",
    "        self.last = last\n",
    "        self.email = name + '.' + last + '@company.com'\n",
    "        self.salary = salary\n",
    "\n",
    "    def fullname(self):\n",
    "        return f'{self.name} {self.last}'\n",
    "```\n",
    "\n",
    "El método `fullname` utiliza dos atributos de la clase para realizar una acción\n",
    "de concatenar."
   ]
  },
  {
   "cell_type": "code",
   "execution_count": 87,
   "metadata": {},
   "outputs": [],
   "source": [
    "class Estudiante:\n",
    "    def __init__(self, in_nombre='Pedro', in_apellido='Perez', in_edad=19):\n",
    "        self.nombre = in_nombre\n",
    "        self.apellido = in_apellido\n",
    "        self.edad = in_edad\n",
    "\n",
    "    def crear_correo_institucional(self):\n",
    "        return f'{self.nombre.lower()}.{self.apellido.lower()}@bancolombia.com'\n",
    "\n",
    "    def crear_correo_personal(self, dominio):\n",
    "        return f'{self.nombre.lower()}.{self.apellido.lower()}@{dominio.lower()}'"
   ]
  },
  {
   "cell_type": "code",
   "execution_count": 88,
   "metadata": {},
   "outputs": [
    {
     "name": "stdout",
     "output_type": "stream",
     "text": [
      "edgardo.perez@bancolombia.com\n"
     ]
    }
   ],
   "source": [
    "edgardo = Estudiante('Edgardo')\n",
    "\n",
    "correo_inst = edgardo.crear_correo_institucional()\n",
    "print(correo_inst)"
   ]
  },
  {
   "cell_type": "code",
   "execution_count": 90,
   "metadata": {},
   "outputs": [
    {
     "name": "stdout",
     "output_type": "stream",
     "text": [
      "edgardo.perez@yopmail.com\n"
     ]
    }
   ],
   "source": [
    "correo_per = edgardo.crear_correo_personal('YOPMAIL.com')\n",
    "print(correo_per)"
   ]
  },
  {
   "cell_type": "code",
   "execution_count": 5,
   "metadata": {},
   "outputs": [],
   "source": [
    "class Employee:\n",
    "    raise_amount = 1.04\n",
    "\n",
    "    def __init__(self, name, last, salary):\n",
    "        self.name = name\n",
    "        self.last = last\n",
    "        self.email = name + '.' + last + '@company.com'\n",
    "        self.salary = salary\n",
    "\n",
    "    def fullname(self):\n",
    "        return f'{self.name} {self.last}'"
   ]
  },
  {
   "cell_type": "code",
   "execution_count": 6,
   "metadata": {},
   "outputs": [],
   "source": [
    "empleado1 = Employee('Harvey', 'Rodriguez', 1000)"
   ]
  },
  {
   "cell_type": "code",
   "execution_count": 7,
   "metadata": {},
   "outputs": [
    {
     "data": {
      "text/plain": [
       "'Harvey Rodriguez'"
      ]
     },
     "execution_count": 7,
     "metadata": {},
     "output_type": "execute_result"
    }
   ],
   "source": [
    "empleado1.fullname()"
   ]
  },
  {
   "cell_type": "code",
   "execution_count": null,
   "metadata": {},
   "outputs": [],
   "source": []
  },
  {
   "cell_type": "code",
   "execution_count": null,
   "metadata": {},
   "outputs": [],
   "source": []
  },
  {
   "cell_type": "code",
   "execution_count": null,
   "metadata": {},
   "outputs": [],
   "source": []
  },
  {
   "cell_type": "code",
   "execution_count": null,
   "metadata": {},
   "outputs": [],
   "source": []
  },
  {
   "cell_type": "code",
   "execution_count": null,
   "metadata": {},
   "outputs": [],
   "source": []
  },
  {
   "cell_type": "code",
   "execution_count": null,
   "metadata": {},
   "outputs": [],
   "source": []
  },
  {
   "cell_type": "code",
   "execution_count": null,
   "metadata": {},
   "outputs": [],
   "source": []
  },
  {
   "cell_type": "code",
   "execution_count": null,
   "metadata": {},
   "outputs": [],
   "source": []
  },
  {
   "cell_type": "code",
   "execution_count": null,
   "metadata": {},
   "outputs": [],
   "source": []
  },
  {
   "cell_type": "code",
   "execution_count": null,
   "metadata": {},
   "outputs": [],
   "source": []
  },
  {
   "cell_type": "code",
   "execution_count": null,
   "metadata": {},
   "outputs": [],
   "source": []
  },
  {
   "cell_type": "code",
   "execution_count": null,
   "metadata": {},
   "outputs": [],
   "source": []
  },
  {
   "cell_type": "code",
   "execution_count": null,
   "metadata": {},
   "outputs": [],
   "source": []
  },
  {
   "cell_type": "code",
   "execution_count": null,
   "metadata": {},
   "outputs": [],
   "source": []
  },
  {
   "cell_type": "code",
   "execution_count": null,
   "metadata": {},
   "outputs": [],
   "source": []
  },
  {
   "cell_type": "code",
   "execution_count": null,
   "metadata": {},
   "outputs": [],
   "source": []
  },
  {
   "cell_type": "markdown",
   "metadata": {},
   "source": [
    "#### Ejercicio\n",
    "\n",
    "**Objetivo:**\n",
    "\n",
    "Crear un sistema que gestione información sobre estudiantes, incluyendo sus nombres, edades y calificaciones.\n",
    "\n",
    "**Requisitos:**\n",
    "- Define una clase llamada `Estudiante` con los siguientes atributos: `nombre`, `edad` y `calificaciones` (una lista de calificaciones).\n",
    "- Implementa un constructor en la clase `Estudiante` para inicializar los atributos cuando se crea un nuevo estudiante.\n",
    "- Crea un método regular llamado `agregar_calificacion` que permita agregar una calificación a la lista de calificaciones del estudiante.\n",
    "- Implementa otro método regular llamado `calificacion_promedio` que calcule y devuelva el promedio de las calificaciones del estudiante.\n",
    "- Crea una clase llamada `Curso` que tenga una lista de estudiantes matriculados.\n",
    "- Implementa un método regular en la clase `Curso` llamado `agregar_estudiante` que permita agregar un estudiante a la lista de matriculados.\n",
    "- Implementa un método regular llamado `promedio_general` en la clase `Curso` que calcule y devuelva el promedio general de calificaciones de todos los estudiantes matriculados."
   ]
  },
  {
   "cell_type": "code",
   "execution_count": null,
   "metadata": {},
   "outputs": [],
   "source": []
  }
 ],
 "metadata": {
  "kernelspec": {
   "display_name": "Python 3 (ipykernel)",
   "language": "python",
   "name": "python3"
  },
  "language_info": {
   "codemirror_mode": {
    "name": "ipython",
    "version": 3
   },
   "file_extension": ".py",
   "mimetype": "text/x-python",
   "name": "python",
   "nbconvert_exporter": "python",
   "pygments_lexer": "ipython3",
   "version": "3.9.0"
  }
 },
 "nbformat": 4,
 "nbformat_minor": 2
}
