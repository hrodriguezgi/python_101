{
  "cells": [
    {
      "cell_type": "markdown",
      "metadata": {
        "id": "Qpvt-Tss2XLi"
      },
      "source": [
        "# Manejo de Python"
      ]
    },
    {
      "cell_type": "markdown",
      "metadata": {
        "id": "oHgNShrvJQYE"
      },
      "source": [
        "## Ciclos"
      ]
    },
    {
      "cell_type": "markdown",
      "metadata": {
        "id": "mziTV2OhJc1_"
      },
      "source": [
        "### 1. `While`\n",
        "\n",
        "El comando `while` es como \"repetir\" una condición `if` hasta que se cumpla una condición.\n",
        "\n",
        "```python\n",
        "while condition:\n",
        "  expression\n",
        "```\n",
        "\n",
        "Ejemplo:\n",
        "```python\n",
        ">>> x = 1\n",
        ">>> while x < 4:\n",
        "...   print(x)\n",
        "...   x += 1\n",
        "...\n",
        "1\n",
        "2\n",
        "3\n",
        "```"
      ]
    },
    {
      "cell_type": "code",
      "execution_count": 6,
      "metadata": {
        "colab": {
          "base_uri": "https://localhost:8080/"
        },
        "id": "_f95nExMdVj5",
        "outputId": "1c5981ca-f55e-439b-82d0-06a1bbf00222"
      },
      "outputs": [
        {
          "name": "stdout",
          "output_type": "stream",
          "text": [
            "1\n",
            "2\n",
            "3\n",
            "4\n"
          ]
        }
      ],
      "source": [
        "x = 1\n",
        "while x <= 4:\n",
        "  print(x)\n",
        "  x = x + 1"
      ]
    },
    {
      "cell_type": "code",
      "execution_count": 11,
      "metadata": {},
      "outputs": [
        {
          "name": "stdout",
          "output_type": "stream",
          "text": [
            "10\n",
            "9\n",
            "8\n",
            "7\n",
            "6\n",
            "5\n",
            "4\n",
            "3\n",
            "2\n",
            "1\n",
            "fin del programa\n"
          ]
        }
      ],
      "source": [
        "x = 10\n",
        "while x >= 1:\n",
        "    print(x)\n",
        "    x -= 1\n",
        "print('fin del programa')"
      ]
    },
    {
      "cell_type": "code",
      "execution_count": 13,
      "metadata": {
        "colab": {
          "base_uri": "https://localhost:8080/"
        },
        "id": "NxueoucyKeAV",
        "outputId": "cc21a78d-dd50-4ce6-b3c2-9ca15380d2a1"
      },
      "outputs": [
        {
          "name": "stdout",
          "output_type": "stream",
          "text": [
            "corrigiendo...\n",
            "7\n",
            "Aún falta\n",
            "\n",
            "corrigiendo...\n",
            "6\n",
            "Aún falta\n",
            "\n",
            "corrigiendo...\n",
            "5\n",
            "Ya casi\n",
            "\n",
            "corrigiendo...\n",
            "4\n",
            "Aún falta\n",
            "\n",
            "corrigiendo...\n",
            "3\n",
            "Aún falta\n",
            "\n",
            "corrigiendo...\n",
            "2\n",
            "Aún falta\n",
            "\n",
            "corrigiendo...\n",
            "1\n",
            "Aún falta\n",
            "\n",
            "corrigiendo...\n",
            "0\n",
            "Casi que no\n",
            "\n"
          ]
        }
      ],
      "source": [
        "# Ejemplo de while\n",
        "offset = 8\n",
        "\n",
        "# Code the while loop\n",
        "while offset != 0:\n",
        "    print(\"corrigiendo...\")  # sentencia 1\n",
        "    offset -= 1             # sentencia 2\n",
        "    print(offset)           # sentencia 3\n",
        "\n",
        "    if offset == 5:\n",
        "      print('Ya casi')\n",
        "    elif offset == 0:\n",
        "      print('Casi que no')\n",
        "    else:\n",
        "      print('Aún falta')\n",
        "    print(\"\")"
      ]
    },
    {
      "cell_type": "code",
      "execution_count": 15,
      "metadata": {
        "colab": {
          "base_uri": "https://localhost:8080/"
        },
        "id": "xzzKbVd6Kk8l",
        "outputId": "2e8c621e-8d86-41be-dcd5-ff8944f2cf2e"
      },
      "outputs": [
        {
          "name": "stdout",
          "output_type": "stream",
          "text": [
            "corrigiendo...\n",
            "-5\n",
            "corrigiendo...\n",
            "-4\n",
            "corrigiendo...\n",
            "-3\n",
            "corrigiendo...\n",
            "-2\n",
            "corrigiendo...\n",
            "-1\n",
            "corrigiendo...\n",
            "0\n",
            "fin del programa\n"
          ]
        }
      ],
      "source": [
        "# Podemos incluso adicionar condicionales dentro de un while\n",
        "offset = -6\n",
        "\n",
        "while offset != 0:\n",
        "    print(\"corrigiendo...\")\n",
        "    if offset > 0:\n",
        "        offset -= 1\n",
        "    else:\n",
        "      offset += 1\n",
        "    print(offset)\n",
        "\n",
        "print('fin del programa')"
      ]
    },
    {
      "cell_type": "code",
      "execution_count": 16,
      "metadata": {},
      "outputs": [
        {
          "name": "stdout",
          "output_type": "stream",
          "text": [
            "hola mundo\n"
          ]
        }
      ],
      "source": [
        "bandera = True\n",
        "\n",
        "while bandera:\n",
        "    print('hola mundo')\n",
        "    bandera = False"
      ]
    },
    {
      "cell_type": "markdown",
      "metadata": {
        "id": "xDYG-P2FK52p"
      },
      "source": [
        "### 2. `For`\n",
        "\n",
        "Está diseñado para recorrer un iterable.\n",
        "\n",
        "```python\n",
        "for var in seq:\n",
        "  expression\n",
        "```\n",
        "\n",
        "Ejemplo:\n",
        "```python\n",
        ">>> areas = [11.25, 18.0, 20.0, 10.75, 9.50]\n",
        ">>> sum_areas = 0\n",
        "... for area in areas:\n",
        "...   sum_areas += area\n",
        "...\n",
        ">>> print(sum_areas)\n",
        "69.5\n",
        "```\n",
        "\n"
      ]
    },
    {
      "cell_type": "code",
      "execution_count": 22,
      "metadata": {},
      "outputs": [
        {
          "name": "stdout",
          "output_type": "stream",
          "text": [
            "11.25\n",
            "29.25\n",
            "49.25\n",
            "60.0\n",
            "69.5\n",
            "\n",
            "69.5\n"
          ]
        }
      ],
      "source": [
        "areas = [11.25, 18.0, 20.0, 10.75, 9.50]\n",
        "sum_areas = 0\n",
        "for area in areas:\n",
        "    sum_areas += area\n",
        "    print(sum_areas)\n",
        "\n",
        "print()\n",
        "print(sum_areas)"
      ]
    },
    {
      "cell_type": "code",
      "execution_count": 25,
      "metadata": {
        "colab": {
          "base_uri": "https://localhost:8080/"
        },
        "id": "w_Vtjj9oCjFm",
        "outputId": "b9b9f153-b344-4e4c-92d7-cbfc4502c933"
      },
      "outputs": [
        {
          "name": "stdout",
          "output_type": "stream",
          "text": [
            "Esta MANZANA es muy deliciosa\n",
            "\tNombre de la fruta: manzana  fin de linea\n",
            "\n",
            "Esta BANANA es muy deliciosa\n",
            "\tNombre de la fruta: banana  fin de linea\n",
            "\n",
            "Esta PIÑA es muy deliciosa\n",
            "\tNombre de la fruta: piña  fin de linea\n",
            "\n"
          ]
        }
      ],
      "source": [
        "frutas = ['manzana', 'banana', 'piña']\n",
        "\n",
        "for fruta in frutas:\n",
        "  print(f'Esta {fruta.upper()} es muy deliciosa')  # f-string\n",
        "  print('\\tNombre de la fruta:', fruta, ' fin de linea') # \\t -> tabulación\n",
        "  print()\n",
        "\n",
        "\n",
        "# Esta MANZANA es muy deliciosa\n",
        "#     Nombre de la fruta: manzana"
      ]
    },
    {
      "cell_type": "code",
      "execution_count": 27,
      "metadata": {
        "colab": {
          "base_uri": "https://localhost:8080/"
        },
        "id": "vXXwVa_pCx6m",
        "outputId": "2d633916-14f1-4780-f8ff-f18a56e4aa99"
      },
      "outputs": [
        {
          "name": "stdout",
          "output_type": "stream",
          "text": [
            "Esta Manzana es muy deliciosa\n",
            "Esta Banano es muy deliciosa\n",
            "Esta Piña es muy deliciosa\n"
          ]
        }
      ],
      "source": [
        "frutas = ['manzana', 'banano', 'piña']\n",
        "\n",
        "for fruta in frutas:\n",
        "  print('Esta {} es muy deliciosa'.format(fruta.title()))"
      ]
    },
    {
      "cell_type": "code",
      "execution_count": 29,
      "metadata": {
        "colab": {
          "base_uri": "https://localhost:8080/"
        },
        "id": "dZmzzyugf4nf",
        "outputId": "d7cc80c7-7d56-4acd-b9c3-6dcfda299922"
      },
      "outputs": [
        {
          "name": "stdout",
          "output_type": "stream",
          "text": [
            "0\n",
            "\tel valor de area es: 11.25\n",
            "0\n",
            "\tel valor de area es: 18.0\n",
            "18.0\n",
            "\tel valor de area es: 20.0\n",
            "38.0\n",
            "\tel valor de area es: 10.75\n",
            "38.0\n",
            "\tel valor de area es: 9.5\n",
            "38.0\n",
            "\tel valor de area es: 20\n",
            "\n",
            "el area total es: 58.0\n"
          ]
        }
      ],
      "source": [
        "areas = (11.25, 18.0, 20.0, 10.75, 9.50, 20)\n",
        "area_total = 0\n",
        "\n",
        "for area in areas:\n",
        "  print(area_total)\n",
        "  print('\\tel valor de area es:', area)\n",
        "  if area > 15:\n",
        "    area_total = area_total + area\n",
        "\n",
        "print(\"\")\n",
        "print('el area total es:', area_total)"
      ]
    },
    {
      "cell_type": "code",
      "execution_count": 32,
      "metadata": {
        "colab": {
          "base_uri": "https://localhost:8080/"
        },
        "id": "ok14zLrOEmGo",
        "outputId": "98767dfa-9951-4336-a690-cc81743c5f45"
      },
      "outputs": [
        {
          "name": "stdout",
          "output_type": "stream",
          "text": [
            "la letra es: A\n",
            "la letra es: R\n",
            "la letra es: E\n",
            "la letra es: A\n"
          ]
        }
      ],
      "source": [
        "palabra = 'area'\n",
        "\n",
        "for letra in palabra:\n",
        "  print(f'la letra es: {letra.title()}')\n"
      ]
    },
    {
      "cell_type": "markdown",
      "metadata": {
        "id": "9E8rlFZwMhKL"
      },
      "source": [
        "#### 2.1 enumerate()\n",
        "\n",
        "`enumerate` es una función que nos permite obtener tanto los elementos de un iterable como su indice (posición).\n",
        "\n",
        "Ejemplo:\n",
        "```python\n",
        "fam = [1.73, 1.68, 1.71, 1.89]\n",
        "for index, height in enumerate(fam) :\n",
        "   print('person {}: {} cms'.format(str(index), str(height)))\n",
        "\n",
        "person 0: 1.73 cms\n",
        "person 1: 1.68 cms\n",
        "person 2: 1.71 cms\n",
        "person 3: 1.89 cms\n",
        "```"
      ]
    },
    {
      "cell_type": "code",
      "execution_count": 35,
      "metadata": {
        "colab": {
          "base_uri": "https://localhost:8080/"
        },
        "id": "3LNOE5toFWd_",
        "outputId": "ba00804a-159e-4d0b-cb39-2217eb7a813e"
      },
      "outputs": [
        {
          "name": "stdout",
          "output_type": "stream",
          "text": [
            "persona 1: 1.73 cms\n",
            "persona 2: 1.68 cms\n",
            "persona 3: 1.71 cms\n",
            "persona 4: 1.89 cms\n"
          ]
        }
      ],
      "source": [
        "alturas_personas = [1.73, 1.68, 1.71, 1.89]\n",
        "\n",
        "for persona, altura in enumerate(alturas_personas):\n",
        "  print('persona {}: {} cms'.format(str(persona+1), str(altura)))"
      ]
    },
    {
      "cell_type": "code",
      "execution_count": 36,
      "metadata": {},
      "outputs": [
        {
          "name": "stdout",
          "output_type": "stream",
          "text": [
            "persona 1: 1.73 cms\n",
            "persona 2: 1.68 cms\n",
            "persona 3: 1.71 cms\n",
            "persona 4: 1.89 cms\n"
          ]
        }
      ],
      "source": [
        "alturas_personas = [1.73, 1.68, 1.71, 1.89]\n",
        "\n",
        "for persona, altura in enumerate(alturas_personas):\n",
        "  print(f'persona {persona+1}: {altura} cms')"
      ]
    },
    {
      "cell_type": "code",
      "execution_count": 44,
      "metadata": {
        "colab": {
          "base_uri": "https://localhost:8080/"
        },
        "id": "38TvXkr9MYZL",
        "outputId": "a8faef89-0b8d-4d4c-ad8f-c2d0bfe8f2e4"
      },
      "outputs": [
        {
          "name": "stdout",
          "output_type": "stream",
          "text": [
            "the hallway is 11.25 sqm\n",
            "the bedroom is 10.75 sqm\n",
            "the bathroom is 9.5 sqm\n"
          ]
        }
      ],
      "source": [
        "# Iterando en una lista de listas\n",
        "house = [[\"hallway\", 11.25, True],\n",
        "         [\"kitchen\", 18.0, False],\n",
        "         [\"living room\", 20.0, False],\n",
        "         [\"bedroom\", 10.75, True],\n",
        "         [\"bathroom\", 9.50, True]]\n",
        "\n",
        "for place in house:\n",
        "    #print(type(place), place)\n",
        "    if place[2]:\n",
        "        print(\"the \" + place[0] + \" is \" + str(place[1]) + \" sqm\") # Slice"
      ]
    },
    {
      "cell_type": "code",
      "execution_count": null,
      "metadata": {
        "colab": {
          "base_uri": "https://localhost:8080/"
        },
        "id": "EvlE3SmvHnTr",
        "outputId": "cf6fff44-a970-48fc-8714-01febe511d07"
      },
      "outputs": [],
      "source": [
        "for i in house:\n",
        "  print(i)"
      ]
    },
    {
      "cell_type": "code",
      "execution_count": null,
      "metadata": {
        "colab": {
          "base_uri": "https://localhost:8080/"
        },
        "id": "Ik2JhR0IH8Tu",
        "outputId": "1a964743-5a3b-40d2-b017-1d3fe7c8860d"
      },
      "outputs": [],
      "source": [
        "i = ['hallway', 11.25]\n",
        "i[1]"
      ]
    },
    {
      "cell_type": "code",
      "execution_count": null,
      "metadata": {
        "colab": {
          "base_uri": "https://localhost:8080/"
        },
        "id": "CwexGSr1ye_9",
        "outputId": "19aa518e-b05b-4ce5-bd3a-ccf01d493090"
      },
      "outputs": [],
      "source": [
        "# Ejercicio\n",
        "# De la siguiente lista, almacenar el elemento par en una nueva\n",
        "# lista llamada new_list\n",
        "init_list = ['red', 'orange', 'yellow', 'green', 'blue', 'violet']\n",
        "\n",
        "# new_list = ['yellow', 'blue']\n"
      ]
    },
    {
      "cell_type": "code",
      "execution_count": 45,
      "metadata": {},
      "outputs": [
        {
          "name": "stdout",
          "output_type": "stream",
          "text": [
            "['yellow', 'blue']\n"
          ]
        }
      ],
      "source": [
        "init_list = ['red', 'orange', 'yellow', 'green', 'blue', 'violet']\n",
        "\n",
        "new_list = init_list[2::2]\n",
        "\n",
        "print(new_list)"
      ]
    },
    {
      "cell_type": "markdown",
      "metadata": {},
      "source": [
        "#### 2.2 Iterando sobre diccionarios"
      ]
    },
    {
      "cell_type": "code",
      "execution_count": 49,
      "metadata": {
        "colab": {
          "base_uri": "https://localhost:8080/"
        },
        "id": "06Y2pDtQOMvE",
        "outputId": "7d020a67-56cf-4194-c606-76ede3e6113b"
      },
      "outputs": [
        {
          "name": "stdout",
          "output_type": "stream",
          "text": [
            "the capital of spain is madrid\n",
            "the capital of france is paris\n",
            "the capital of germany is berlin\n",
            "the capital of norway is oslo\n",
            "the capital of italy is rome\n",
            "the capital of poland is warsaw\n",
            "the capital of austria is vienna\n"
          ]
        }
      ],
      "source": [
        "# Iterando sobre un diccionario\n",
        "europe = {\n",
        "    'spain':['madrid', 'barcelona', 'zaragoza'],\n",
        "    'france':['paris'],\n",
        "    'germany':['berlin'],\n",
        "    'norway':['oslo'],\n",
        "    'italy':['rome', 'florence', 'pisa'],\n",
        "    'poland':['warsaw'],\n",
        "    'austria':['vienna']\n",
        "    }\n",
        "\n",
        "for pais, ciudad in europe.items():\n",
        "    print(f\"the capital of {pais} is {ciudad[0]}\")"
      ]
    },
    {
      "cell_type": "code",
      "execution_count": 50,
      "metadata": {
        "colab": {
          "base_uri": "https://localhost:8080/"
        },
        "id": "VYnj5Z7OMWvM",
        "outputId": "6705cb88-0b4c-4194-fbb8-c3c23c441172"
      },
      "outputs": [
        {
          "name": "stdout",
          "output_type": "stream",
          "text": [
            "recorriendo el pais: spain\n",
            "recorriendo el pais: france\n",
            "recorriendo el pais: germany\n",
            "recorriendo el pais: norway\n",
            "recorriendo el pais: italy\n",
            "recorriendo el pais: poland\n",
            "recorriendo el pais: austria\n"
          ]
        }
      ],
      "source": [
        "for pais in europe.keys():\n",
        "  print('recorriendo el pais:', pais)"
      ]
    },
    {
      "cell_type": "code",
      "execution_count": 54,
      "metadata": {
        "colab": {
          "base_uri": "https://localhost:8080/"
        },
        "id": "1WoCXZfpMeAn",
        "outputId": "05292fa5-cd44-4967-b4a4-bed55c77098e"
      },
      "outputs": [
        {
          "name": "stdout",
          "output_type": "stream",
          "text": [
            "recorriendo las ciudades: zaragoza\n",
            "recorriendo las ciudades: paris\n",
            "recorriendo las ciudades: berlin\n",
            "recorriendo las ciudades: oslo\n",
            "recorriendo las ciudades: pisa\n",
            "recorriendo las ciudades: warsaw\n",
            "recorriendo las ciudades: vienna\n"
          ]
        }
      ],
      "source": [
        "for ciudades in list(europe.values()):\n",
        "  print('recorriendo las ciudades:', ciudades[-1])"
      ]
    },
    {
      "cell_type": "code",
      "execution_count": 53,
      "metadata": {},
      "outputs": [
        {
          "data": {
            "text/plain": [
              "dict_keys(['spain', 'france', 'germany', 'norway', 'italy', 'poland', 'austria'])"
            ]
          },
          "execution_count": 53,
          "metadata": {},
          "output_type": "execute_result"
        }
      ],
      "source": [
        "europe.keys()"
      ]
    },
    {
      "cell_type": "code",
      "execution_count": 2,
      "metadata": {},
      "outputs": [
        {
          "name": "stdout",
          "output_type": "stream",
          "text": [
            "no es 10\n"
          ]
        }
      ],
      "source": [
        "num = 1\n",
        "if num == 10:\n",
        "    print('es 10')\n",
        "else:\n",
        "    print('no es 10')"
      ]
    },
    {
      "cell_type": "code",
      "execution_count": 4,
      "metadata": {},
      "outputs": [
        {
          "name": "stdout",
          "output_type": "stream",
          "text": [
            "es 10\n"
          ]
        }
      ],
      "source": [
        "num = 10\n",
        "print('es 10') if num == 10 else print('no es 10')"
      ]
    },
    {
      "cell_type": "markdown",
      "metadata": {
        "id": "eRjRgCzCrzsd"
      },
      "source": [
        "#### 2.3 Comprehension\n",
        "\n",
        "Python ofrece una forma rápida y concisa de crear e interactuar con secuencias tales como listas y diccionarios.\n",
        "\n"
      ]
    },
    {
      "cell_type": "markdown",
      "metadata": {
        "id": "wvwv10--sio4"
      },
      "source": [
        "##### 2.3.1 List Comprehension\n",
        "\n",
        "Pasar de\n",
        "```python\n",
        "output_list = []\n",
        "for var in input_list:\n",
        "  if (var satisfies this condition):\n",
        "    output_list.append(output_exp)\n",
        "```\n",
        "\n",
        "A esto\n",
        "```python\n",
        "output_list = [ output_exp for var in input_list if (var satisfies this condition) ]\n",
        "```\n",
        "\n",
        "Ejemplo:\n",
        "```python\n",
        ">>> input_list = [1, 2, 3, 4, 4, 5, 6, 7, 7]\n",
        ">>> output_list = [ var for var in input_list if var % 2 == 0 ]\n",
        ">>> print(output_list)\n",
        "[2, 4, 4, 6]\n",
        "```\n"
      ]
    },
    {
      "cell_type": "code",
      "execution_count": 9,
      "metadata": {
        "colab": {
          "base_uri": "https://localhost:8080/"
        },
        "id": "mryZa-VNRqBr",
        "outputId": "3ce0aaeb-c529-4438-d2a2-889a1ffc505b"
      },
      "outputs": [
        {
          "name": "stdout",
          "output_type": "stream",
          "text": [
            "[2, 4, 4, 6]\n"
          ]
        }
      ],
      "source": [
        "input_list = [1, 2, 3, 4, 4, 5, 6, 7, 7]\n",
        "\n",
        "# crear una lista con los numeros pares en un for normal\n",
        "output_list = []\n",
        "for var in input_list:\n",
        "    if var % 2 == 0:\n",
        "        output_list.append(var)\n",
        "\n",
        "print(output_list)\n"
      ]
    },
    {
      "cell_type": "code",
      "execution_count": 11,
      "metadata": {
        "colab": {
          "base_uri": "https://localhost:8080/"
        },
        "id": "zM7escJrSKMQ",
        "outputId": "cba67d0e-f024-4d85-e816-90b8ed7b0e47"
      },
      "outputs": [
        {
          "name": "stdout",
          "output_type": "stream",
          "text": [
            "[1, 3, 5, 7, 7]\n"
          ]
        }
      ],
      "source": [
        "# crear una lista con los numeros impares en un list comprehension\n",
        "output_list2 = [num for num in input_list if num % 2 != 0]\n",
        "\n",
        "print(output_list2)\n"
      ]
    },
    {
      "cell_type": "code",
      "execution_count": null,
      "metadata": {},
      "outputs": [],
      "source": [
        "range(1, 11) # -> [1,2,3,4,5,6,7,8,9,10]"
      ]
    },
    {
      "cell_type": "code",
      "execution_count": 13,
      "metadata": {
        "id": "eTDVTpqsvVVW"
      },
      "outputs": [
        {
          "name": "stdout",
          "output_type": "stream",
          "text": [
            "[1, 4, 9, 16, 25, 36, 49, 64, 81, 100]\n"
          ]
        }
      ],
      "source": [
        "# Ejercicio:\n",
        "# Construir una lista con el cuadrado de los números del 1 al 10\n",
        "# Forma 1: for\n",
        "lista_cuadrados = []\n",
        "for x in range(1, 11):\n",
        "    lista_cuadrados.append(x**2)\n",
        "\n",
        "print(lista_cuadrados)"
      ]
    },
    {
      "cell_type": "code",
      "execution_count": 18,
      "metadata": {},
      "outputs": [
        {
          "name": "stdout",
          "output_type": "stream",
          "text": [
            "[4, 16, 36, 64, 100]\n"
          ]
        }
      ],
      "source": [
        "# Ejercicio:\n",
        "# A partir de una lista de los números del 1 al 10, construir una\n",
        "# nueva lista con el cuadrado de los números pares\n",
        "# Forma 1: for\n",
        "lista_cuadrados_par = []\n",
        "for x in range(1, 11):\n",
        "    if x % 2 == 0:\n",
        "        lista_cuadrados_par.append(x**2)\n",
        "\n",
        "print(lista_cuadrados_par)"
      ]
    },
    {
      "cell_type": "code",
      "execution_count": 14,
      "metadata": {
        "id": "5D9ltePYxaBv"
      },
      "outputs": [
        {
          "name": "stdout",
          "output_type": "stream",
          "text": [
            "[1, 4, 9, 16, 25, 36, 49, 64, 81, 100]\n"
          ]
        }
      ],
      "source": [
        "# Ejercicio:\n",
        "# Construir una lista con el cuadrado de los números del 1 al 10\n",
        "# Forma 2: list comprehension\n",
        "cuadrados = [ x**2 for x in range(1, 11) ]\n",
        "print(cuadrados)"
      ]
    },
    {
      "cell_type": "markdown",
      "metadata": {
        "id": "HnfJ3BT_ve34"
      },
      "source": [
        "##### 2.3.2 Dictionary Comprehension\n",
        "\n",
        "```python\n",
        "output_dict = {key:value for (key, value) in iterable if (key, value satisfy this condition)}\n",
        "```\n",
        "\n",
        "Ejemplo:\n",
        "```python\n",
        ">>> input_list = [1,2,3,4,5,6,7]\n",
        ">>> dict_using_comp = {var:var ** 3 for var in input_list if var % 2 != 0}\n",
        ">>> print(dict_using_comp)\n",
        "{1: 1, 3: 27, 5: 125, 7: 343}\n",
        "```"
      ]
    },
    {
      "cell_type": "code",
      "execution_count": 20,
      "metadata": {},
      "outputs": [
        {
          "name": "stdout",
          "output_type": "stream",
          "text": [
            "{'num': 3}\n"
          ]
        }
      ],
      "source": [
        "mi_dic = {}\n",
        "mi_dic['num'] = 3\n",
        "\n",
        "print(mi_dic)"
      ]
    },
    {
      "cell_type": "code",
      "execution_count": 21,
      "metadata": {
        "colab": {
          "base_uri": "https://localhost:8080/"
        },
        "id": "Xp3xeBtHUhAo",
        "outputId": "4b2487aa-4f93-4c30-aa62-6f19410c10dc"
      },
      "outputs": [
        {
          "name": "stdout",
          "output_type": "stream",
          "text": [
            "{}\n",
            "{1: 1, 2: 8, 3: 27, 4: 64, 5: 125, 6: 216, 7: 343}\n"
          ]
        }
      ],
      "source": [
        "input_list = [1,2,3,4,5,6,7]\n",
        "\n",
        "dict_using_comp = {}\n",
        "print(dict_using_comp)\n",
        "\n",
        "for num in input_list:\n",
        "  # num como llave toma cada valor de la lista\n",
        "  dict_using_comp[num] = num ** 3\n",
        "\n",
        "print(dict_using_comp)"
      ]
    },
    {
      "cell_type": "code",
      "execution_count": 24,
      "metadata": {
        "colab": {
          "base_uri": "https://localhost:8080/"
        },
        "id": "ANJARtNVTKIS",
        "outputId": "6f90b84b-f180-42d9-f695-4c04031b595a"
      },
      "outputs": [
        {
          "name": "stdout",
          "output_type": "stream",
          "text": [
            "{}\n",
            "{1: 1}\n",
            "{1: 1, 2: 8}\n",
            "{1: 1, 2: 8, 3: 27}\n",
            "{1: 1, 2: 8, 3: 27, 4: 64}\n",
            "{1: 1, 2: 8, 3: 27, 4: 64, 5: 125}\n",
            "{1: 1, 2: 8, 3: 27, 4: 64, 5: 125, 6: 216}\n",
            "{1: 1, 2: 8, 3: 27, 4: 64, 5: 125, 6: 216, 7: 343}\n"
          ]
        }
      ],
      "source": [
        "input_list = [1,2,3,4,5,6,7]\n",
        "\n",
        "dict_using_comp = {}\n",
        "print(dict_using_comp)\n",
        "\n",
        "for num in input_list:\n",
        "  # 'num' es una llave fija (no cambia)\n",
        "  dict_using_comp[num] = num ** 3\n",
        "  print(dict_using_comp)\n",
        "\n",
        "#print(dict_using_comp)"
      ]
    },
    {
      "cell_type": "code",
      "execution_count": 25,
      "metadata": {
        "colab": {
          "base_uri": "https://localhost:8080/"
        },
        "id": "6fl0swHsUc3A",
        "outputId": "3559b9f7-38a8-4df1-e27b-c4e63299ffa7"
      },
      "outputs": [
        {
          "name": "stdout",
          "output_type": "stream",
          "text": [
            "{1: 1, 2: 8, 3: 27, 4: 64, 5: 125, 6: 216, 7: 343}\n"
          ]
        }
      ],
      "source": [
        "input_list = [1,2,3,4,5,6,7]\n",
        "\n",
        "dict_using_comp2 = { var:var ** 3 for var in input_list }\n",
        "print(dict_using_comp2)"
      ]
    },
    {
      "cell_type": "code",
      "execution_count": 33,
      "metadata": {
        "id": "zV6u0TPSvjoM"
      },
      "outputs": [
        {
          "name": "stdout",
          "output_type": "stream",
          "text": [
            "Gu Gujarat\n",
            "Ma Maharashtra\n",
            "Ra Rajasthan\n",
            "{'Gu': 'Gujarat', 'Ma': 'Maharashtra', 'Ra': 'Rajasthan'}\n"
          ]
        }
      ],
      "source": [
        "# Ejercicio:\n",
        "# Construir un diccionario a partir de la siguiente lista. La llave\n",
        "# serán los 2 primeros caracteres de cada elemento\n",
        "# forma 1: for\n",
        "state = ['Gujarat', 'Maharashtra', 'Rajasthan']\n",
        "# diccionario = {'Gu': 'Gujarat', 'Ma': 'Maharashtra', 'Ra': 'Rajasthan'}\n",
        "\n",
        "diccionario = {}\n",
        "for ind in state:\n",
        "    print(ind[0:2], ind)\n",
        "    diccionario[ind[0:2]] = ind\n",
        "\n",
        "print(diccionario)"
      ]
    },
    {
      "cell_type": "code",
      "execution_count": 41,
      "metadata": {},
      "outputs": [
        {
          "name": "stdout",
          "output_type": "stream",
          "text": [
            "Gu\n"
          ]
        }
      ],
      "source": [
        "cadena = 'Gujarat'\n",
        "        # 0123456\n",
        "print(cadena[:2])"
      ]
    },
    {
      "cell_type": "code",
      "execution_count": 45,
      "metadata": {
        "id": "WO4VxFKyxeWU"
      },
      "outputs": [
        {
          "name": "stdout",
          "output_type": "stream",
          "text": [
            "{'AT': 'Gujarat', 'RA': 'Maharashtra', 'AN': 'Rajasthan'}\n"
          ]
        }
      ],
      "source": [
        "# Ejercicio:\n",
        "# Construir un diccionario a partir de la siguiente lista. La llave\n",
        "# serán los 2 últimos caracteres de cada elemento en mayúscula\n",
        "# forma 1: dictionary comprehension\n",
        "\n",
        "# dict_using_comp2 = { var:var ** 3 for var in input_list }\n",
        "\n",
        "state = ['Gujarat', 'Maharashtra', 'Rajasthan']\n",
        "dic_state = { st[-2:].upper():st for st in state }\n",
        "\n",
        "print(dic_state)"
      ]
    },
    {
      "cell_type": "code",
      "execution_count": 44,
      "metadata": {},
      "outputs": [
        {
          "data": {
            "text/plain": [
              "'AT'"
            ]
          },
          "execution_count": 44,
          "metadata": {},
          "output_type": "execute_result"
        }
      ],
      "source": [
        "st = 'Gujarat' # at -> AT\n",
        "        #      -2-1\n",
        "st[-2:].upper()"
      ]
    },
    {
      "cell_type": "code",
      "execution_count": 46,
      "metadata": {},
      "outputs": [],
      "source": [
        "import random # librería"
      ]
    },
    {
      "cell_type": "code",
      "execution_count": 74,
      "metadata": {},
      "outputs": [
        {
          "name": "stdout",
          "output_type": "stream",
          "text": [
            "-4\n"
          ]
        }
      ],
      "source": [
        "var = random.randint(-20,20)\n",
        "print(var)"
      ]
    },
    {
      "cell_type": "code",
      "execution_count": null,
      "metadata": {},
      "outputs": [],
      "source": [
        "# Ejercicio:\n",
        "# Escribir un programa que permita identificar cuándo un número\n",
        "# es negativo,\n",
        "# cero o positivo, haciendo uso de random.randint(-20, 20)\n",
        "\n",
        "import random"
      ]
    },
    {
      "cell_type": "code",
      "execution_count": null,
      "metadata": {},
      "outputs": [],
      "source": []
    },
    {
      "cell_type": "code",
      "execution_count": null,
      "metadata": {},
      "outputs": [],
      "source": [
        "# Ejercicio:\n",
        "# Escribir un programa que almacene en las variables num1, num2 y num3 tres\n",
        "# valores generados aleatoriamente haciendo uso de random.randint(1, 30). Sí el\n",
        "# num2 está entre num1 y num3 imprimir 'el num2 está entre num1 y num3' en caso\n",
        "# contrario imprimir 'el num2 está por fuera del rango."
      ]
    },
    {
      "cell_type": "code",
      "execution_count": null,
      "metadata": {},
      "outputs": [],
      "source": [
        "# Ejercicio:\n",
        "# Escribir un programa que permita realizar una clasificación de la siguiente\n",
        "# cadena de acuerdo a las siguientes reglas:\n",
        "# a. Cada uno de los caracteres en digitos o letras\n",
        "# b. Cada una de las palabras en digitos o letras\n",
        "# c. Cada uno de los caracteres en vocales o consonantes\n",
        "# \n",
        "# cadena = 'este es el numero 10 y este es el numero 20'"
      ]
    },
    {
      "cell_type": "code",
      "execution_count": null,
      "metadata": {},
      "outputs": [],
      "source": [
        "# Ejercicio:\n",
        "# Escribir un programa que imprima la siguiente lista en el orden inverso haciendo\n",
        "# uso de un ciclo \n",
        "# \n",
        "# lista = [1, 1, 2, 3, 5, 8, 13, 21]"
      ]
    },
    {
      "cell_type": "code",
      "execution_count": null,
      "metadata": {},
      "outputs": [],
      "source": [
        "# Ejercicio\n",
        "# Dada la siguiente lista:\n",
        "# numeros = [1, 2, 3, 4, 5, 6, 7, 100, 110, 21, 33, 32, 2, 4]\n",
        "# \n",
        "# Escribir un programa que permita clasificar cada uno de los elementos en pares\n",
        "# e impares (dos nuevas listas)"
      ]
    }
  ],
  "metadata": {
    "colab": {
      "collapsed_sections": [],
      "provenance": []
    },
    "kernelspec": {
      "display_name": "Python 3",
      "name": "python3"
    },
    "language_info": {
      "codemirror_mode": {
        "name": "ipython",
        "version": 3
      },
      "file_extension": ".py",
      "mimetype": "text/x-python",
      "name": "python",
      "nbconvert_exporter": "python",
      "pygments_lexer": "ipython3",
      "version": "3.9.0"
    }
  },
  "nbformat": 4,
  "nbformat_minor": 0
}
