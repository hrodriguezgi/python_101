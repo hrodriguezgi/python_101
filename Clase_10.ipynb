{
  "cells": [
    {
      "cell_type": "markdown",
      "metadata": {
        "id": "Qpvt-Tss2XLi"
      },
      "source": [
        "# Manejo de Python"
      ]
    },
    {
      "cell_type": "markdown",
      "metadata": {
        "id": "oHgNShrvJQYE"
      },
      "source": [
        "## Ciclos"
      ]
    },
    {
      "cell_type": "markdown",
      "metadata": {
        "id": "mziTV2OhJc1_"
      },
      "source": [
        "### 1. `While`\n",
        "\n",
        "El comando `while` es como \"repetir\" una condición `if` hasta que se cumpla una condición.\n",
        "\n",
        "```python\n",
        "while condition:\n",
        "  expression\n",
        "```\n",
        "\n",
        "Ejemplo:\n",
        "```python\n",
        ">>> x = 1\n",
        ">>> while x < 4:\n",
        "...   print(x)\n",
        "...   x += 1\n",
        "...\n",
        "1\n",
        "2\n",
        "3\n",
        "```"
      ]
    },
    {
      "cell_type": "code",
      "execution_count": null,
      "metadata": {
        "colab": {
          "base_uri": "https://localhost:8080/"
        },
        "id": "_f95nExMdVj5",
        "outputId": "1c5981ca-f55e-439b-82d0-06a1bbf00222"
      },
      "outputs": [],
      "source": [
        "x = 1\n",
        "while x <= 4:\n",
        "  print(x)\n",
        "  x = x + 1"
      ]
    },
    {
      "cell_type": "code",
      "execution_count": null,
      "metadata": {
        "colab": {
          "base_uri": "https://localhost:8080/"
        },
        "id": "NxueoucyKeAV",
        "outputId": "cc21a78d-dd50-4ce6-b3c2-9ca15380d2a1"
      },
      "outputs": [],
      "source": [
        "# Ejemplo de while\n",
        "offset = 8\n",
        "\n",
        "# Code the while loop\n",
        "while offset != 0:\n",
        "    print(\"correcting...\")  # sentencia 1\n",
        "    offset -= 1             # sentencia 2\n",
        "    print(offset)           # sentencia 3\n",
        "    \n",
        "    if offset == 5:\n",
        "      print('Ya casi')\n",
        "    elif offset == 0:\n",
        "      print('Casi que no')\n",
        "    else:\n",
        "      print('Aún falta')\n",
        "    print(\"\")"
      ]
    },
    {
      "cell_type": "code",
      "execution_count": null,
      "metadata": {
        "colab": {
          "base_uri": "https://localhost:8080/"
        },
        "id": "xzzKbVd6Kk8l",
        "outputId": "2e8c621e-8d86-41be-dcd5-ff8944f2cf2e"
      },
      "outputs": [],
      "source": [
        "# Podemos incluso adicionar condicionales dentro de un while\n",
        "offset = -6\n",
        "\n",
        "while offset != 0 :\n",
        "    print(\"correcting...\")\n",
        "    if offset > 0:\n",
        "        offset -= 1\n",
        "    else : \n",
        "      offset += 1\n",
        "    print(offset)"
      ]
    },
    {
      "cell_type": "markdown",
      "metadata": {
        "id": "xDYG-P2FK52p"
      },
      "source": [
        "### 2. `For`\n",
        "\n",
        "Está diseñado para recorrer un iterable.\n",
        "\n",
        "```python\n",
        "for var in seq:\n",
        "  expression\n",
        "```\n",
        "\n",
        "Ejemplo:\n",
        "```python\n",
        ">>> areas = [11.25, 18.0, 20.0, 10.75, 9.50]\n",
        ">>> sum_areas = 0\n",
        "... for area in areas:\n",
        "...   sum_areas += area\n",
        "...\n",
        ">>> print(sum_areas)\n",
        "69.5\n",
        "```\n",
        "\n"
      ]
    },
    {
      "cell_type": "code",
      "execution_count": null,
      "metadata": {
        "colab": {
          "base_uri": "https://localhost:8080/"
        },
        "id": "w_Vtjj9oCjFm",
        "outputId": "b9b9f153-b344-4e4c-92d7-cbfc4502c933"
      },
      "outputs": [],
      "source": [
        "frutas = ['manzana', 'banano', 'piña']\n",
        "\n",
        "for fruta in frutas:\n",
        "  print(f'Esta {fruta} es muy deliciosa')\n",
        "  print('\\tNombre de la fruta', fruta)"
      ]
    },
    {
      "cell_type": "code",
      "execution_count": null,
      "metadata": {
        "colab": {
          "base_uri": "https://localhost:8080/"
        },
        "id": "vXXwVa_pCx6m",
        "outputId": "2d633916-14f1-4780-f8ff-f18a56e4aa99"
      },
      "outputs": [],
      "source": [
        "frutas = ['manzana', 'banano', 'piña']\n",
        "\n",
        "for fruta in frutas:\n",
        "  print('Esta {} es muy deliciosa'.format(fruta))"
      ]
    },
    {
      "cell_type": "code",
      "execution_count": null,
      "metadata": {
        "colab": {
          "base_uri": "https://localhost:8080/"
        },
        "id": "dZmzzyugf4nf",
        "outputId": "d7cc80c7-7d56-4acd-b9c3-6dcfda299922"
      },
      "outputs": [],
      "source": [
        "areas = [11.25, 18.0, 20.0, 10.75, 9.50, 20]\n",
        "area_total = 0\n",
        "\n",
        "for i in areas:\n",
        "  print(area_total)\n",
        "  print('\\tel valor de area es:', i)\n",
        "  if i > 15:\n",
        "    area_total = area_total + i\n",
        "\n",
        "print(\"\")\n",
        "print('el area total es:', area_total)"
      ]
    },
    {
      "cell_type": "code",
      "execution_count": null,
      "metadata": {
        "colab": {
          "base_uri": "https://localhost:8080/"
        },
        "id": "ok14zLrOEmGo",
        "outputId": "98767dfa-9951-4336-a690-cc81743c5f45"
      },
      "outputs": [],
      "source": [
        "palabra = 'area'\n",
        "\n",
        "for letra in palabra:\n",
        "  print(f'la letra es: {letra}')\n"
      ]
    },
    {
      "cell_type": "markdown",
      "metadata": {
        "id": "9E8rlFZwMhKL"
      },
      "source": [
        "#### 2.1 enumerate()\n",
        "\n",
        "`enumerate` es una función que nos permite obtener tanto los elementos de un iterable como su indice (posición).\n",
        "\n",
        "Ejemplo:\n",
        "```python\n",
        ">>> fam = [1.73, 1.68, 1.71, 1.89]\n",
        ">>> for index, height in enumerate(fam) :\n",
        "...   print('person {}: {} cms'.format(str(index), str(height)))\n",
        "...\n",
        "person 0: 1.73 cms\n",
        "person 1: 1.68 cms\n",
        "person 2: 1.71 cms\n",
        "person 3: 1.89 cms\n",
        "```"
      ]
    },
    {
      "cell_type": "code",
      "execution_count": null,
      "metadata": {
        "colab": {
          "base_uri": "https://localhost:8080/"
        },
        "id": "3LNOE5toFWd_",
        "outputId": "ba00804a-159e-4d0b-cb39-2217eb7a813e"
      },
      "outputs": [],
      "source": [
        "alturas_personas = [1.73, 1.68, 1.71, 1.89]\n",
        "\n",
        "for persona, altura in enumerate(alturas_personas):\n",
        "  print('person {}: {} cms'.format(str(persona+1), str(altura)))"
      ]
    },
    {
      "cell_type": "code",
      "execution_count": null,
      "metadata": {
        "colab": {
          "base_uri": "https://localhost:8080/"
        },
        "id": "38TvXkr9MYZL",
        "outputId": "a8faef89-0b8d-4d4c-ad8f-c2d0bfe8f2e4"
      },
      "outputs": [],
      "source": [
        "# Iterando en una lista de listas\n",
        "house = [[\"hallway\", 11.25], \n",
        "         [\"kitchen\", 18.0], \n",
        "         [\"living room\", 20.0], \n",
        "         [\"bedroom\", 10.75], \n",
        "         [\"bathroom\", 9.50]]\n",
        "         \n",
        "for i in house:\n",
        "    print(\"the \" + i[0] + \" is \" + str(i[1]) + \" sqm\") # Slice"
      ]
    },
    {
      "cell_type": "code",
      "execution_count": null,
      "metadata": {
        "colab": {
          "base_uri": "https://localhost:8080/"
        },
        "id": "EvlE3SmvHnTr",
        "outputId": "cf6fff44-a970-48fc-8714-01febe511d07"
      },
      "outputs": [],
      "source": [
        "for i in house:\n",
        "  print(i)"
      ]
    },
    {
      "cell_type": "code",
      "execution_count": null,
      "metadata": {
        "colab": {
          "base_uri": "https://localhost:8080/"
        },
        "id": "Ik2JhR0IH8Tu",
        "outputId": "1a964743-5a3b-40d2-b017-1d3fe7c8860d"
      },
      "outputs": [],
      "source": [
        "i = ['hallway', 11.25]\n",
        "i[1]"
      ]
    },
    {
      "cell_type": "code",
      "execution_count": null,
      "metadata": {
        "colab": {
          "base_uri": "https://localhost:8080/"
        },
        "id": "CwexGSr1ye_9",
        "outputId": "19aa518e-b05b-4ce5-bd3a-ccf01d493090"
      },
      "outputs": [],
      "source": [
        "# Ejercicio\n",
        "# De la siguiente lista, almacenar el elemento par en una nueva \n",
        "# lista llamada new_list\n",
        "init_list = ['red', 'orange', 'yellow', 'green', 'blue', 'violet']\n",
        "\n",
        "# new_list = ['yellow', 'blue']\n"
      ]
    },
    {
      "cell_type": "markdown",
      "metadata": {},
      "source": [
        "#### 2.2 Iterando sobre diccionarios"
      ]
    },
    {
      "cell_type": "code",
      "execution_count": null,
      "metadata": {
        "colab": {
          "base_uri": "https://localhost:8080/"
        },
        "id": "06Y2pDtQOMvE",
        "outputId": "7d020a67-56cf-4194-c606-76ede3e6113b"
      },
      "outputs": [],
      "source": [
        "# Iterando sobre un diccionario\n",
        "europe = {\n",
        "    'spain':['madrid', 'barcelona', 'zaragoza'],\n",
        "    'france':['paris'],\n",
        "    'germany':['berlin'],\n",
        "    'norway':['oslo'],\n",
        "    'italy':['rome'],\n",
        "    'poland':['warsaw'],\n",
        "    'austria':['vienna']\n",
        "    }\n",
        "          \n",
        "for pais, ciudad in europe.items():\n",
        "    print(\"the capital of \" + pais + \" is \" + ciudad[0])"
      ]
    },
    {
      "cell_type": "code",
      "execution_count": null,
      "metadata": {
        "colab": {
          "base_uri": "https://localhost:8080/"
        },
        "id": "VYnj5Z7OMWvM",
        "outputId": "6705cb88-0b4c-4194-fbb8-c3c23c441172"
      },
      "outputs": [],
      "source": [
        "for pais in europe.keys():\n",
        "  print('recorriendo el pais:', pais)"
      ]
    },
    {
      "cell_type": "code",
      "execution_count": null,
      "metadata": {
        "colab": {
          "base_uri": "https://localhost:8080/"
        },
        "id": "1WoCXZfpMeAn",
        "outputId": "05292fa5-cd44-4967-b4a4-bed55c77098e"
      },
      "outputs": [],
      "source": [
        "for ciudades in europe.values():\n",
        "  print('recorriendo las ciudades:', ciudades)"
      ]
    },
    {
      "cell_type": "markdown",
      "metadata": {
        "id": "eRjRgCzCrzsd"
      },
      "source": [
        "#### 2.3 Comprehension\n",
        "\n",
        "Python ofrece una forma rápida y concisa de crear e interactuar con secuencias tales como listas y diccionarios.\n",
        "\n"
      ]
    },
    {
      "cell_type": "markdown",
      "metadata": {
        "id": "wvwv10--sio4"
      },
      "source": [
        "##### 2.3.1 List Comprehension\n",
        "\n",
        "Pasar de\n",
        "```python\n",
        "output_list = []\n",
        "for var in input_list:\n",
        "  if (var satisfies this condition):\n",
        "    output_list.append(output_exp)\n",
        "```\n",
        "\n",
        "A esto\n",
        "```python\n",
        "output_list = [ output_exp for var in input_list if (var satisfies this condition) ]\n",
        "```\n",
        "\n",
        "Ejemplo:\n",
        "```python\n",
        ">>> input_list = [1, 2, 3, 4, 4, 5, 6, 7, 7]\n",
        ">>> output_list = [ var for var in input_list if var % 2 == 0 ]\n",
        ">>> print(output_list)\n",
        "[2, 4, 4, 6]\n",
        "```\n"
      ]
    },
    {
      "cell_type": "code",
      "execution_count": null,
      "metadata": {
        "colab": {
          "base_uri": "https://localhost:8080/"
        },
        "id": "mryZa-VNRqBr",
        "outputId": "3ce0aaeb-c529-4438-d2a2-889a1ffc505b"
      },
      "outputs": [],
      "source": [
        "input_list = [1, 2, 3, 4, 4, 5, 6, 7, 7]\n",
        "\n",
        "# crear una lista con los numeros pares en un for normal\n",
        "output_list = []\n"
      ]
    },
    {
      "cell_type": "code",
      "execution_count": null,
      "metadata": {
        "colab": {
          "base_uri": "https://localhost:8080/"
        },
        "id": "zM7escJrSKMQ",
        "outputId": "cba67d0e-f024-4d85-e816-90b8ed7b0e47"
      },
      "outputs": [],
      "source": [
        "# crear una lista con los numeros pares en un list comprehension\n",
        "output_list2 = []\n"
      ]
    },
    {
      "cell_type": "code",
      "execution_count": null,
      "metadata": {
        "id": "eTDVTpqsvVVW"
      },
      "outputs": [],
      "source": [
        "# Ejercicio:\n",
        "# Construir una lista con el cuadrado de los números del 1 al 10\n",
        "# Forma 1: for"
      ]
    },
    {
      "cell_type": "code",
      "execution_count": null,
      "metadata": {
        "id": "5D9ltePYxaBv"
      },
      "outputs": [],
      "source": [
        "# Ejercicio:\n",
        "# Construir una lista con el cuadrado de los números del 1 al 10\n",
        "# Forma 2: list comprehension"
      ]
    },
    {
      "cell_type": "markdown",
      "metadata": {
        "id": "HnfJ3BT_ve34"
      },
      "source": [
        "##### 2.3.2 Dictionary Comprehension\n",
        "\n",
        "```python\n",
        "output_dict = {key:value for (key, value) in iterable if (key, value satisfy this condition)}\n",
        "```\n",
        "\n",
        "Ejemplo:\n",
        "```python\n",
        ">>> input_list = [1,2,3,4,5,6,7]\n",
        ">>> dict_using_comp = {var:var ** 3 for var in input_list if var % 2 != 0}\n",
        ">>> print(dict_using_comp)\n",
        "{1: 1, 3: 27, 5: 125, 7: 343}\n",
        "```"
      ]
    },
    {
      "cell_type": "code",
      "execution_count": null,
      "metadata": {
        "colab": {
          "base_uri": "https://localhost:8080/"
        },
        "id": "Xp3xeBtHUhAo",
        "outputId": "4b2487aa-4f93-4c30-aa62-6f19410c10dc"
      },
      "outputs": [],
      "source": [
        "input_list = [1,2,3,4,5,6,7]\n",
        "\n",
        "dict_using_comp = {}\n",
        "print(dict_using_comp)\n",
        "\n",
        "for num in input_list:\n",
        "  # num como llave toma cada valor de la lista\n",
        "  dict_using_comp[num] = num ** 3\n",
        "\n",
        "print(dict_using_comp)"
      ]
    },
    {
      "cell_type": "code",
      "execution_count": null,
      "metadata": {
        "colab": {
          "base_uri": "https://localhost:8080/"
        },
        "id": "ANJARtNVTKIS",
        "outputId": "6f90b84b-f180-42d9-f695-4c04031b595a"
      },
      "outputs": [],
      "source": [
        "input_list = [1,2,3,4,5,6,7]\n",
        "\n",
        "dict_using_comp = {}\n",
        "print(dict_using_comp)\n",
        "\n",
        "for num in input_list:\n",
        "  # 'num' es una llave fija (no cambia)\n",
        "  dict_using_comp['num'] = num ** 3\n",
        "  print(dict_using_comp)\n",
        "\n",
        "print(dict_using_comp)"
      ]
    },
    {
      "cell_type": "code",
      "execution_count": null,
      "metadata": {
        "colab": {
          "base_uri": "https://localhost:8080/"
        },
        "id": "6fl0swHsUc3A",
        "outputId": "3559b9f7-38a8-4df1-e27b-c4e63299ffa7"
      },
      "outputs": [],
      "source": [
        "input_list = [1,2,3,4,5,6,7]\n",
        "\n",
        "dict_using_comp2 = { var:var ** 3 for var in input_list }\n",
        "print(dict_using_comp2)"
      ]
    },
    {
      "cell_type": "code",
      "execution_count": null,
      "metadata": {
        "id": "zV6u0TPSvjoM"
      },
      "outputs": [],
      "source": [
        "# Ejercicio:\n",
        "# Construir un diccionario a partir de la siguiente lista. La llave\n",
        "# serán los 2 primeros caracteres de cada elemento\n",
        "# forma 1: for\n",
        "state = ['Gujarat', 'Maharashtra', 'Rajasthan']"
      ]
    },
    {
      "cell_type": "code",
      "execution_count": null,
      "metadata": {
        "id": "WO4VxFKyxeWU"
      },
      "outputs": [],
      "source": [
        "# Ejercicio:\n",
        "# Construir un diccionario a partir de la siguiente lista. La llave\n",
        "# serán los 2 primeros caracteres de cada elemento\n",
        "# forma 1: dictionary comprehension\n",
        "state = ['Gujarat', 'Maharashtra', 'Rajasthan']"
      ]
    }
  ],
  "metadata": {
    "colab": {
      "collapsed_sections": [],
      "provenance": []
    },
    "kernelspec": {
      "display_name": "Python 3",
      "name": "python3"
    },
    "language_info": {
      "codemirror_mode": {
        "name": "ipython",
        "version": 3
      },
      "file_extension": ".py",
      "mimetype": "text/x-python",
      "name": "python",
      "nbconvert_exporter": "python",
      "pygments_lexer": "ipython3",
      "version": "3.9.0"
    }
  },
  "nbformat": 4,
  "nbformat_minor": 0
}
