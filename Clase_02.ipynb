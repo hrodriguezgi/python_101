{
  "cells": [
    {
      "cell_type": "markdown",
      "metadata": {
        "id": "3rHAFb2XrJ8j"
      },
      "source": [
        "# Manejo de Python"
      ]
    },
    {
      "cell_type": "markdown",
      "metadata": {
        "id": "ftMV1whQ3jrW"
      },
      "source": [
        "## 1. Revisar la documentación de Python\n",
        "\n",
        "- Propio del lenguaje: https://www.python.org/doc/\n",
        "- Librerías externas:\n",
        "   - Pandas\n",
        "   - Matplotlib\n",
        "   - Keras\n",
        "   - etc...\n",
        "- Haciendo uso del módulo help\n",
        "\n",
        "Para hacer uso de esta última opción basta con digitar en la consola `help` y el nombre del objeto o función que queremos consultar. Ejemplo:\n",
        "\n",
        "```python\n",
        "help('lambda')\n",
        "Lambdas\n",
        "*******\n",
        "\n",
        "   lambda_expr ::= \"lambda\" [parameter_list] \":\" expression\n",
        "\n",
        "Lambda expressions (sometimes called lambda forms) are used to create\n",
        "anonymous functions. The expression \"lambda parameters: expression\"\n",
        "yields a function object.  The unnamed object behaves like a function\n",
        "object defined with:\n",
        "\n",
        "   def <lambda>(parameters):\n",
        "       return expression\n",
        "\n",
        "See section Function definitions for the syntax of parameter lists.\n",
        "Note that functions created with lambda expressions cannot contain\n",
        "statements or annotations.\n",
        "\n",
        "Related help topics: FUNCTIONS\n",
        "```"
      ]
    },
    {
      "cell_type": "markdown",
      "metadata": {
        "id": "2UJQzwz_rPsv"
      },
      "source": [
        "## 2. Tipo de Dato: **str** (cadena)"
      ]
    },
    {
      "cell_type": "code",
      "execution_count": null,
      "metadata": {
        "colab": {
          "base_uri": "https://localhost:8080/"
        },
        "id": "1EusZZlY5wQU",
        "outputId": "eb263213-33b0-4c8f-a175-3ec7d90dc6a1"
      },
      "outputs": [],
      "source": [
        "help('str')"
      ]
    },
    {
      "cell_type": "markdown",
      "metadata": {
        "id": "ZQZC_6euFx7D"
      },
      "source": [
        "### 2.1 Slice\n",
        "\n",
        "Acceder a un string por elementos o rangos, definimos un inicio y un final. \n",
        "\n",
        "Si el inicio no está definido, se toma desde el comienzo del string, y de igual forma si el final no está definido se toma hasta el final del string\n",
        "\n",
        "```python\n",
        "cadena = 'hola mundo'\n",
        "print(cadena[0:5])\n",
        "'hola '\n",
        "```"
      ]
    },
    {
      "cell_type": "code",
      "execution_count": null,
      "metadata": {
        "colab": {
          "base_uri": "https://localhost:8080/"
        },
        "id": "o4JZDtLoGM-z",
        "outputId": "964361e1-ce48-41cd-a7fc-9151107bbdb5"
      },
      "outputs": [],
      "source": [
        "cadena = 'hola mundo'\n",
        "print(cadena[0:5])"
      ]
    },
    {
      "cell_type": "code",
      "execution_count": null,
      "metadata": {
        "colab": {
          "base_uri": "https://localhost:8080/"
        },
        "id": "aqoUQVpAGmQr",
        "outputId": "594bef83-8fa5-4707-f482-f75bec33780f"
      },
      "outputs": [],
      "source": [
        "# Toma desde la posición 2 hasta la posición 9 excluída\n",
        "print(cadena[2:9])"
      ]
    },
    {
      "cell_type": "code",
      "execution_count": null,
      "metadata": {
        "colab": {
          "base_uri": "https://localhost:8080/"
        },
        "id": "M4tbgCInG1Wz",
        "outputId": "795b4290-bb30-45cb-cf9d-ababdfc30b5f"
      },
      "outputs": [],
      "source": [
        "# Toma el valor de la posición 2\n",
        "print(cadena[2])"
      ]
    },
    {
      "cell_type": "code",
      "execution_count": null,
      "metadata": {
        "colab": {
          "base_uri": "https://localhost:8080/"
        },
        "id": "-EtwfBewG4qN",
        "outputId": "06c71138-e1ff-43da-ce70-e99f94603a2f"
      },
      "outputs": [],
      "source": [
        "# Toma desde la posición 2 en adelante\n",
        "print(cadena[2:])"
      ]
    },
    {
      "cell_type": "code",
      "execution_count": null,
      "metadata": {
        "colab": {
          "base_uri": "https://localhost:8080/"
        },
        "id": "d7oF-N8MHHT-",
        "outputId": "4b83a5a5-4e7a-44d3-b6a1-457bc6812b7f"
      },
      "outputs": [],
      "source": [
        "# Toma desde el inicio hasta la posición 6 incluída\n",
        "print(cadena[:7])"
      ]
    },
    {
      "cell_type": "code",
      "execution_count": null,
      "metadata": {
        "colab": {
          "base_uri": "https://localhost:8080/"
        },
        "id": "WIDgAT6MHBn-",
        "outputId": "19ce7cb9-da82-4fbc-9fa8-7a878be2b9c7"
      },
      "outputs": [],
      "source": [
        "# Toma desde la posición -4 (cuento desde la última posición\n",
        "# 4 caracteres) y tomo de ahi en adelante\n",
        "# cadena = 'hola mundo'\n",
        "# La posición -4 es la 'u'\n",
        "print(cadena[-4:])"
      ]
    },
    {
      "cell_type": "code",
      "execution_count": null,
      "metadata": {
        "colab": {
          "base_uri": "https://localhost:8080/"
        },
        "id": "0DbGs-IwHWsz",
        "outputId": "5fd3b9b1-5a77-4d01-a231-b1cc5b4182c6"
      },
      "outputs": [],
      "source": [
        "# Toma desde la posición inicial hasta la final \n",
        "# saltando N caracteres\n",
        "print('cadena original:\\t\\t\\t', cadena)\n",
        "print('cadena con slice:\\t\\t\\t', cadena[1:9])\n",
        "print('cadena con slice saltando 2 posiciones:\\t',cadena[::2])\n",
        "print('cadena con slice saltando 3 posiciones:\\t',cadena[1:9:3])"
      ]
    },
    {
      "cell_type": "code",
      "execution_count": null,
      "metadata": {
        "colab": {
          "base_uri": "https://localhost:8080/"
        },
        "id": "AzdA_tMMJLqA",
        "outputId": "d318e4fc-6f25-4dff-cc4c-d5e5e81f63ca"
      },
      "outputs": [],
      "source": [
        "curso = \"curso.python.bancolombia\"\n",
        "\n",
        "\"\"\"\n",
        "variable[inicio:fin:salto]\n",
        "rangos vacios --> depende de la posición\n",
        "\n",
        "si esta derecha --> toma desde  0\n",
        "si esta a la izquierda --> toma hasta el ultimo\n",
        "\"\"\" \n",
        "print(\"0. original                 : \",curso)           # Variable sin modificación\n",
        "print(\"1. rangos vacios            : \",curso[::])       # Imprime la cadena normal\n",
        "print(\"2. inicia desde             : \",curso[5:])       # Imprime desde la posición 5       \n",
        "print(\"3. hasta                    : \",curso[:-3])      # Imprime hasta la posición -3\n",
        "print(\"4. salteos                  : \",curso[::-2])     # Imprime la cadena con saltos de -2\n",
        "print(\"5. invertir                 : \",curso[::-1])     # Imprime la cadena invertida\n",
        "print(\"6. segmento inverso         : \",curso[7:4:-1])   # Imprime un segmento de la cadena invertida"
      ]
    },
    {
      "cell_type": "markdown",
      "metadata": {
        "id": "Q6KRwGQIOUCH"
      },
      "source": [
        "### 2.2 Métodos de los string"
      ]
    },
    {
      "cell_type": "code",
      "execution_count": null,
      "metadata": {
        "colab": {
          "base_uri": "https://localhost:8080/"
        },
        "id": "5Q3Jkm_XOXe-",
        "outputId": "a371d7b6-d251-47ce-dac6-32054238fa31"
      },
      "outputs": [],
      "source": [
        "demo = \"CuRsO PyThon BaNColoMbIa\"\n",
        "\n",
        "print(\"00. variable original  : --> \", demo)\n",
        "print(\"01. mayúsculas         : --> \", demo.upper())\n",
        "print(\"02. minúsculas         : --> \", demo.lower())\n",
        "print(\"03. inicia con         : --> \", demo.startswith(\"c\"))\n",
        "# concatenar operaciones(metodos) | concatenacion de operaciones finitas\n",
        "print(\"04. inicia con         : --> \", demo.lower().startswith(\"c\"))\n",
        "print(\"05. capitalize         : --> \", demo.capitalize())\n",
        "print(\"06. titulo             : --> \", demo.title())\n",
        "print(\"07. centrado           : --> \", demo.center( 50,\"*\"))\n",
        "print(\"07. centrado           : --> \", demo.title().center( 50,\" \" )) # centrando\n",
        "print(\"08. rjust              : --> \", demo.rjust( 50,\"*\"))\n",
        "print(\"09. ljust              : --> \", demo.ljust( 50,\"*\"))\n",
        "print(\"10. zfill              : --> \", demo.zfill(50))\n",
        "print(\"10. zfill              : --> \", \"123\".zfill(5))\n",
        "print(\"11. remplazar          : --> \", demo.lower().replace(\"o\", \"@\"))\n",
        "print(\"11. remplazar          : --> \", demo.replace(\"o\", \"@\"))\n",
        "print(\"11. contar             : --> \", demo.count(\"o\"))\n",
        "print(\"12. contar             : --> \", demo.count(\"@\"))\n",
        "print(\"13. buscar             : --> \", demo.lower().find(\"python\")) \n",
        "print(\"13. buscar             : --> \", demo.lower().find(\"python--\"))"
      ]
    },
    {
      "cell_type": "code",
      "execution_count": null,
      "metadata": {
        "colab": {
          "base_uri": "https://localhost:8080/"
        },
        "id": "a4BA30AqSOmD",
        "outputId": "f995555d-3b29-4e4e-d8c5-71895b30126e"
      },
      "outputs": [],
      "source": [
        "help('str.find')"
      ]
    },
    {
      "cell_type": "code",
      "execution_count": null,
      "metadata": {
        "colab": {
          "base_uri": "https://localhost:8080/"
        },
        "id": "N4mrlvSITucY",
        "outputId": "87eb4ab3-9dd0-42f2-9fc7-bb1a6d14b1f9"
      },
      "outputs": [],
      "source": [
        "frase = 'clase de hoy de python'\n",
        "palabra = 'de'\n",
        "\n",
        "frase.find(palabra, 8)"
      ]
    },
    {
      "cell_type": "code",
      "execution_count": null,
      "metadata": {
        "colab": {
          "base_uri": "https://localhost:8080/"
        },
        "id": "tJmeP2b4VQ_Q",
        "outputId": "31f9d5c8-8644-4e44-fc53-846dfbdec6ad"
      },
      "outputs": [],
      "source": [
        "print(\"14. longitud cadena    : --> \", len(demo)) # listas, tuplas, strings\n",
        "\n",
        "\n",
        "espacios_izquierda = '          hola espacios izquierdos'\n",
        "espacios_derecha   = 'hola espacios derechos            '\n",
        "espacios_ambos     = '            espacio central       '\n",
        "\n",
        "print(\"15. lstrip             : --> \", espacios_izquierda.lstrip())\n",
        "print(\"16. rstrip             : --> \", espacios_derecha.rstrip())\n",
        "print(\"17. strip              : --> \", espacios_ambos.strip())"
      ]
    },
    {
      "cell_type": "code",
      "execution_count": null,
      "metadata": {
        "colab": {
          "base_uri": "https://localhost:8080/"
        },
        "id": "XCJrzJZyWKMm",
        "outputId": "5ac12ad7-0def-450c-8ffc-06bd6bdec51b"
      },
      "outputs": [],
      "source": [
        "print(\"len espacios_ambos 1 : --> \", len(espacios_ambos))\n",
        "print(\"len espacios_ambos 2 : --> \", len( espacios_ambos.strip() ) )"
      ]
    },
    {
      "cell_type": "code",
      "execution_count": null,
      "metadata": {
        "colab": {
          "base_uri": "https://localhost:8080/"
        },
        "id": "olpyTVP2XBPq",
        "outputId": "508e87f8-1538-4f1d-9cc4-65d1ba009145"
      },
      "outputs": [],
      "source": [
        "pi = 3.141618\n",
        "\n",
        "print(\"18. len numero        : --> \", len(str(pi)))\n",
        "print(\"19. es digito         : --> \", \"234234\".isdigit())\n",
        "print(\"19. es digito         : --> \", \"a1\".isdigit())\n",
        "print(\"19. es digito         : --> \", \"1f\".isdigit())"
      ]
    },
    {
      "cell_type": "code",
      "execution_count": null,
      "metadata": {
        "colab": {
          "base_uri": "https://localhost:8080/"
        },
        "id": "4ma26-MFXqhM",
        "outputId": "3ddc08ac-1227-4c58-a88f-15a62d2cb782"
      },
      "outputs": [],
      "source": [
        "help('str.isdigit')"
      ]
    },
    {
      "cell_type": "code",
      "execution_count": null,
      "metadata": {
        "colab": {
          "base_uri": "https://localhost:8080/"
        },
        "id": "bw6mxW_aYEWw",
        "outputId": "b413a479-1873-4c0f-f79b-ae1dde43edc8"
      },
      "outputs": [],
      "source": [
        "print(\"00. variable original : --> \", demo)\n",
        "print(\"20. indice            : --> \", demo.index(\"o\"))\n",
        "print(\"20. indice            : --> \", demo.find(\"o\"))"
      ]
    },
    {
      "cell_type": "code",
      "execution_count": null,
      "metadata": {
        "colab": {
          "base_uri": "https://localhost:8080/"
        },
        "id": "rLt29c4VYNqL",
        "outputId": "08089032-0345-4fa2-c738-bc23c9af8bab"
      },
      "outputs": [],
      "source": [
        "help('str.index')"
      ]
    },
    {
      "cell_type": "code",
      "execution_count": null,
      "metadata": {
        "colab": {
          "base_uri": "https://localhost:8080/"
        },
        "id": "9Zyl3sOBY0Jb",
        "outputId": "b297349e-849e-4041-bb8f-eba594d054bd"
      },
      "outputs": [],
      "source": [
        "help('str.find')"
      ]
    },
    {
      "cell_type": "code",
      "execution_count": null,
      "metadata": {
        "colab": {
          "base_uri": "https://localhost:8080/",
          "height": 235
        },
        "id": "zUnpKJwKYt_T",
        "outputId": "839eb7ec-41b2-41cc-97d9-3b4b8bb054c0"
      },
      "outputs": [],
      "source": [
        "print(\"00. variable original : --> \", demo)\n",
        "print(\"20. indice            : --> \", demo.find(\"@\"))\n",
        "print(\"20. indice            : --> \", demo.index(\"@\"))"
      ]
    },
    {
      "cell_type": "markdown",
      "metadata": {},
      "source": [
        "## Actividad\n",
        "\n",
        "Dada la siguiente variable:\n",
        "\n",
        "```python\n",
        "cadena = 'regulation'\n",
        "```\n",
        "\n",
        "   Qué se debe hacer para que al imprimirla (`print`) salga:\n",
        "```python\n",
        "regul/tion\n",
        "```"
      ]
    },
    {
      "cell_type": "code",
      "execution_count": null,
      "metadata": {},
      "outputs": [],
      "source": []
    },
    {
      "cell_type": "markdown",
      "metadata": {},
      "source": [
        "A Juanito le gustan las siguientes frutas:\n",
        "\n",
        "```python\n",
        "frutas = \"manzana, mango, durazno, pera\"\n",
        "```\n",
        "\n",
        "Qué se debe hacer para convertir la cadena en una lista?"
      ]
    },
    {
      "cell_type": "markdown",
      "metadata": {},
      "source": []
    }
  ],
  "metadata": {
    "colab": {
      "collapsed_sections": [],
      "provenance": [],
      "toc_visible": true
    },
    "kernelspec": {
      "display_name": "Python 3",
      "name": "python3"
    },
    "language_info": {
      "name": "python"
    }
  },
  "nbformat": 4,
  "nbformat_minor": 0
}
