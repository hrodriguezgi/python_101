{
 "cells": [
  {
   "cell_type": "markdown",
   "metadata": {},
   "source": [
    "# Manejo de Python"
   ]
  },
  {
   "cell_type": "markdown",
   "metadata": {},
   "source": [
    "## Excepciones\n",
    "\n",
    "Las excepciones son eventos inesperados o errores que pueden ocurrir durante la ejecución de un programa.\n",
    "Cuando ocurre una excepción, el flujo normal de ejecución del programa se detiene y se busca un bloque\n",
    "`except` correspondiente para manejar la excepción de manera adecuada en lugar de que el programa se bloquee\n",
    "por completo.\n",
    "\n",
    "\n",
    "Algunas de las razones por las cuales utilizar `try` y `except` son:\n",
    "1. **Manejo de errores:** este es el principal propósito, ya que permite controlar los errores de una manera\n",
    "elegante y controlada\n",
    "2. **Mensajes de error significativos:** con ayuda de estos comandos, se puede proporcionar mensajes de error\n",
    "significativos al usuario en lugar de que aparezca un mensaje de error genérico.\n",
    "3. **Prevención de fallas inesperadas:** se puede anticipar y manejar situaciones excepcionales o inesperadas\n",
    "que puedan surgir durante la ejecución del programa.\n",
    "4. **Recuperación y limpieza:** también puede ser utilizado para realizar acciones de recuperación o limpieza\n",
    "después de que ocurra una excepción.\n",
    "5. **Robustez de código:** el manejo de excepciones contribuye a que el código sea más robusto y resistente\n",
    "a errores\n",
    "\n",
    "\n",
    "Ejemplos:\n",
    "```python\n",
    "try:\n",
    "    num = int(input(\"Ingrese un número: \"))\n",
    "    resultado = 10 / num\n",
    "    print(f\"El resultado de la operación es: {resultado}\")\n",
    "except ValueError:\n",
    "    print(\"Error: el valor a ingresar debe ser numérico\")\n",
    "except ZeroDivisionError:\n",
    "    print(\"Error: no se puede dividir por cero\")\n",
    "except Exception as e:\n",
    "    print(f\"Error inesperado: {e}\")\n",
    "finally:\n",
    "    print(\"Fin del programa\")\n",
    "```"
   ]
  }
 ],
 "metadata": {
  "language_info": {
   "name": "python"
  }
 },
 "nbformat": 4,
 "nbformat_minor": 2
}
