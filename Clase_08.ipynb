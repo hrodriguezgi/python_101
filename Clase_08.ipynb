{
  "cells": [
    {
      "cell_type": "markdown",
      "metadata": {
        "id": "Qpvt-Tss2XLi"
      },
      "source": [
        "# Manejo de Python"
      ]
    },
    {
      "cell_type": "markdown",
      "metadata": {},
      "source": [
        "## 1. Operadores Aritméticos\n",
        "Un operador aritmético toma dos operandos como entrada, realiza un cálculo y devuelve el resultado.\n",
        "\n",
        "Considera la expresión, `a = 2 + 3`. Aquí, `2` y `3` son los operandos y `+` es el operador aritmético. El resultado de la operación se almacena en la variable `a`\n",
        "\n",
        "| **Operador** | **Descripción** | **Ejemplo** |\n",
        "|--------------|-----------------|-------------|\n",
        "| `+` | Realiza Adición entre los operandos | 2 + 3 = 5\n",
        "| `-` | Realiza Substracción entre los operandos | 5 - 3 = 2\n",
        "| `*` | Realiza Multiplicación entre los operandos | 4 * 3 = 12\n",
        "| `/` | Realiza División entre los operandos | 12 / 3 = 4\n",
        "| `%` | Realiza un módulo entre los operandos | 16 % 3 = 1\n",
        "| `**` | Realiza la potencia de los operandos | 3 ** 3 = 27\n",
        "| `//` | Realiza la división con resultado de número entero | 18 // 5 = 3"
      ]
    },
    {
      "cell_type": "code",
      "execution_count": 2,
      "metadata": {},
      "outputs": [
        {
          "data": {
            "text/plain": [
              "-5"
            ]
          },
          "execution_count": 2,
          "metadata": {},
          "output_type": "execute_result"
        }
      ],
      "source": [
        "5 - 10"
      ]
    },
    {
      "cell_type": "markdown",
      "metadata": {},
      "source": [
        "## 2. Operadores Comparación\n",
        "Un operador comparación se emplea para comparar y establecer la relación entre ellos. \n",
        "\n",
        "Devuelve un valor booleano (true o false) basado en la condición.\n",
        "\n",
        "| **Operador** | **Descripción** | **Ejemplo** |\n",
        "|--------------|-----------------|-------------|\n",
        "| `>` | Devuelve `True` si el operador de la izquierda es mayor que el operador de la derecha | 12 > 3 devuelve True\n",
        "| `<` | Devuelve `True` si el operador de la derecha es mayor que el operador de la izquierda | 12 < 3 devuelve False\n",
        "| `==` | Devuelve `True` si ambos operandos son iguales | 12 == 3 devuelve False\n",
        "| `>=` | Devuelve `True` si el operador de la izquierda es mayor o igual que el operador de la derecha | 12 >= 3 devuelve True\n",
        "| `<=` | Devuelve `True` si el operador de la derecha es mayor o igual que el operador de la izquierda | 12 <= 3 devuelve False\n",
        "| `!=` | Devuelve `True` si ambos operandos no son iguales | 12 != 3 devuelve True"
      ]
    },
    {
      "cell_type": "code",
      "execution_count": 3,
      "metadata": {},
      "outputs": [
        {
          "data": {
            "text/plain": [
              "False"
            ]
          },
          "execution_count": 3,
          "metadata": {},
          "output_type": "execute_result"
        }
      ],
      "source": [
        "5 > 10"
      ]
    },
    {
      "cell_type": "code",
      "execution_count": 4,
      "metadata": {},
      "outputs": [
        {
          "data": {
            "text/plain": [
              "True"
            ]
          },
          "execution_count": 4,
          "metadata": {},
          "output_type": "execute_result"
        }
      ],
      "source": [
        "5 < 10"
      ]
    },
    {
      "cell_type": "code",
      "execution_count": 7,
      "metadata": {},
      "outputs": [
        {
          "data": {
            "text/plain": [
              "True"
            ]
          },
          "execution_count": 7,
          "metadata": {},
          "output_type": "execute_result"
        }
      ],
      "source": [
        "'HolA' < 'Hola'"
      ]
    },
    {
      "cell_type": "code",
      "execution_count": 10,
      "metadata": {},
      "outputs": [
        {
          "name": "stdout",
          "output_type": "stream",
          "text": [
            "False\n",
            "True\n"
          ]
        }
      ],
      "source": [
        "var_1 = 10\n",
        "var_2 = 20\n",
        "\n",
        "print(var_1 == var_2)\n",
        "print(var_1 != var_2)"
      ]
    },
    {
      "cell_type": "code",
      "execution_count": 9,
      "metadata": {},
      "outputs": [
        {
          "name": "stdout",
          "output_type": "stream",
          "text": [
            "True\n",
            "False\n"
          ]
        }
      ],
      "source": [
        "print(5 >= 5)\n",
        "print(5 > 5)"
      ]
    },
    {
      "cell_type": "markdown",
      "metadata": {},
      "source": [
        "## 3. Operadores Lógicos\n",
        "Se utiliza un operador lógico para tomar una decisión basada en múltiples condiciones. Los operadores lógicos utilizados en Python son `and`, `or` y `not`.\n",
        "\n",
        "| **Operador** | **Descripción** | **Ejemplo** |\n",
        "|--------------|-----------------|-------------|\n",
        "| `and` | Devuelve True si ambos operandos son True | `a and b`\n",
        "| `or` | Devuelve True si alguno de los operandos es True | `a or b`\n",
        "| `not` | Devuelve True si recibe un False | `not a`"
      ]
    },
    {
      "cell_type": "code",
      "execution_count": 14,
      "metadata": {},
      "outputs": [
        {
          "name": "stdout",
          "output_type": "stream",
          "text": [
            "True and True -> True\n",
            "True or False -> True\n",
            "not True -> False\n"
          ]
        }
      ],
      "source": [
        "print(\"True and True ->\", True and True)\n",
        "print(\"True or False ->\", True or False)\n",
        "print(\"not True ->\", not True)"
      ]
    },
    {
      "cell_type": "code",
      "execution_count": 20,
      "metadata": {},
      "outputs": [
        {
          "name": "stdout",
          "output_type": "stream",
          "text": [
            "True\n"
          ]
        }
      ],
      "source": [
        "# print( (12 < 3) )\n",
        "# print( (\"hola\" != 'hola') )\n",
        "print( not( (12 < 3) and (\"hola\" != 'hola') ) )\n",
        "#       False   and        False"
      ]
    },
    {
      "cell_type": "markdown",
      "metadata": {},
      "source": [
        "## 4. Operadores de Asignación\n",
        "Se utiliza un operador de asignación para asignar valores a una variable. Esto generalmente se combina con otros operadores (como aritmética, bit a bit) donde la operación se realiza en los operandos y el resultado se asigna al operando izquierdo.\n",
        "\n",
        "Considera los siguientes ejemplos,\n",
        "\n",
        "`a = 18`. Aquí `=` es un operador de asignación, y el resultado se almacena en la variable `a`.\n",
        "\n",
        "`a += 10`. Aquí `+=` es un operador de asignación, y el resultado se almacena en la variable `a`. Es lo mismo que `a = a + 10`.\n",
        "\n",
        "| **Operador** | **Descripción** |\n",
        "|--------------|-----------------|\n",
        "| `=` | `a = 5` El valor `5` es asignado a la variable `a`\n",
        "| `+=` | `a += 5` es equivalente a `a = a + 5`\n",
        "| `-=` | `a -= 5` es equivalente a `a = a - 5`\n",
        "| `*=` | `a *= 3` es equivalente a `a = a * 3`\n",
        "| `/=` | `a /= 3` es equivalente a `a = a / 3`\n",
        "| `%=` | `a %= 3` es equivalente a `a = a % 3`\n",
        "| `**=` | `a **= 3` es equivalente a `a = a ** 3`\n",
        "| `//=` | `a //= 3` es equivalente a `a = a // 3`\n",
        "| `&=` | `a &= 3` es equivalente a `a = a & 3`\n",
        "| `\\|=` | `a \\|= 3` es equivalente a `a = a | 3`\n",
        "| `^=` | `a ^= 3` es equivalente a `a = a ^ 3`"
      ]
    },
    {
      "cell_type": "code",
      "execution_count": 21,
      "metadata": {},
      "outputs": [
        {
          "name": "stdout",
          "output_type": "stream",
          "text": [
            "Variable tipo string\n"
          ]
        }
      ],
      "source": [
        "a = 'Variable tipo string'\n",
        "\n",
        "print(a)"
      ]
    },
    {
      "cell_type": "code",
      "execution_count": 34,
      "metadata": {},
      "outputs": [
        {
          "name": "stdout",
          "output_type": "stream",
          "text": [
            "Valor inicial 10\n",
            "Ejecutando 10 + 5 =  15\n",
            "Ejecutando 15 / 5 =  3.0\n",
            "Ejecutnado 3 ** 5 =  243.0\n"
          ]
        }
      ],
      "source": [
        "b = 10\n",
        "print('Valor inicial', b)\n",
        "b += 5 # b = b + 5 ( 10 + 5 )\n",
        "print('Ejecutando 10 + 5 = ', b)\n",
        "b /= 5 # 15 / 5\n",
        "print('Ejecutando 15 / 5 = ', b)\n",
        "b **= 5 # 3 ** 5 -> 3 * 3 * 3 * 3 * 3\n",
        "print('Ejecutnado 3 ** 5 = ', b)"
      ]
    },
    {
      "cell_type": "code",
      "execution_count": 25,
      "metadata": {},
      "outputs": [
        {
          "name": "stdout",
          "output_type": "stream",
          "text": [
            "Variable tipo string, y le adiciono otro texto\n"
          ]
        }
      ],
      "source": [
        "a += ', y le adiciono otro texto' # Concatena la variable a con el nuevo valor\n",
        "print(a)"
      ]
    },
    {
      "cell_type": "code",
      "execution_count": 27,
      "metadata": {},
      "outputs": [
        {
          "ename": "TypeError",
          "evalue": "unsupported operand type(s) for -=: 'str' and 'str'",
          "output_type": "error",
          "traceback": [
            "\u001b[0;31m---------------------------------------------------------------------------\u001b[0m",
            "\u001b[0;31mTypeError\u001b[0m                                 Traceback (most recent call last)",
            "\u001b[1;32m/Users/hrodriguez/Git/python_101/Clase_08.ipynb Cell 17\u001b[0m line \u001b[0;36m1\n\u001b[0;32m----> <a href='vscode-notebook-cell:/Users/hrodriguez/Git/python_101/Clase_08.ipynb#X24sZmlsZQ%3D%3D?line=0'>1</a>\u001b[0m a \u001b[39m-\u001b[39m\u001b[39m=\u001b[39m \u001b[39m'\u001b[39m\u001b[39m, y le adiciono otro texto\u001b[39m\u001b[39m'\u001b[39m\n\u001b[1;32m      <a href='vscode-notebook-cell:/Users/hrodriguez/Git/python_101/Clase_08.ipynb#X24sZmlsZQ%3D%3D?line=1'>2</a>\u001b[0m \u001b[39mprint\u001b[39m(a)\n",
            "\u001b[0;31mTypeError\u001b[0m: unsupported operand type(s) for -=: 'str' and 'str'"
          ]
        }
      ],
      "source": [
        "a -= ', y le adiciono otro texto'\n",
        "print(a)"
      ]
    },
    {
      "cell_type": "code",
      "execution_count": 31,
      "metadata": {},
      "outputs": [
        {
          "name": "stdout",
          "output_type": "stream",
          "text": [
            "**********Bienvenidos**********\n"
          ]
        }
      ],
      "source": [
        "texto = '*'\n",
        "saludo = 'Bienvenidos'\n",
        "\n",
        "encabezado = (texto * 10) + saludo + (texto * 10)\n",
        "print(encabezado)"
      ]
    },
    {
      "cell_type": "code",
      "execution_count": 29,
      "metadata": {},
      "outputs": [
        {
          "name": "stdout",
          "output_type": "stream",
          "text": [
            "*****\n"
          ]
        }
      ],
      "source": [
        "texto = '*'\n",
        "\n",
        "print(texto * 5)"
      ]
    },
    {
      "cell_type": "markdown",
      "metadata": {},
      "source": [
        "## 5. Operadores de Identidad\n",
        "Estos operadores son utilizados para validar si dos variables están ubicados en la misma parte de la memoria. \n",
        "Que dos variables sean iguales no implican que sean idénticas.\n",
        "\n",
        "| **Operador** | **Descripción** |\n",
        "|--------------|-----------------|\n",
        "| `is` | `True` si los objetos son idénticos\n",
        "| `is not` | `True` si los objetos no son idénticos"
      ]
    },
    {
      "cell_type": "code",
      "execution_count": 35,
      "metadata": {},
      "outputs": [],
      "source": [
        "lista_1 = [2,3]         # lista original\n",
        "lista_2 = lista_1[:]    # lista copia de la original\n",
        "lista_3 = lista_1       # lista copia de la original"
      ]
    },
    {
      "cell_type": "code",
      "execution_count": 39,
      "metadata": {},
      "outputs": [
        {
          "name": "stdout",
          "output_type": "stream",
          "text": [
            "False\n",
            "True\n"
          ]
        }
      ],
      "source": [
        "print(lista_1 is lista_2)\n",
        "print(lista_1 == lista_2)"
      ]
    },
    {
      "cell_type": "markdown",
      "metadata": {},
      "source": [
        "## 6. Operadores de Pertenencia\n",
        "Se utilizan para validar si una variable o un valor se encuentra en una secuencia o iterables\n",
        "\n",
        "| **Operador** | **Descripción** |\n",
        "|--------------|-----------------|\n",
        "| `in` | `True` si el valor se encuentra en la secuencia\n",
        "| `not in` | `True` si el valor no se encuentra en la secuencia"
      ]
    },
    {
      "cell_type": "code",
      "execution_count": 40,
      "metadata": {},
      "outputs": [
        {
          "name": "stdout",
          "output_type": "stream",
          "text": [
            "False\n",
            "True\n"
          ]
        }
      ],
      "source": [
        "lista_frutas = ['mango', 'papaya', 'naranja', 'fresa']\n",
        "\n",
        "print('piña' in lista_frutas)\n",
        "print('mandarina' not in lista_frutas)"
      ]
    },
    {
      "cell_type": "code",
      "execution_count": 49,
      "metadata": {},
      "outputs": [
        {
          "name": "stdout",
          "output_type": "stream",
          "text": [
            "[1, 'fresa', True, [2, 3], (4, 5)]\n",
            "True\n",
            "False\n"
          ]
        }
      ],
      "source": [
        "otra_lista = [1, 'fresa', True, [2,3], (4,5)]\n",
        "print(otra_lista)\n",
        "print([2,3] in otra_lista)\n",
        "print((2,3) in otra_lista)"
      ]
    }
  ],
  "metadata": {
    "colab": {
      "collapsed_sections": [],
      "provenance": []
    },
    "kernelspec": {
      "display_name": "Python 3",
      "name": "python3"
    },
    "language_info": {
      "codemirror_mode": {
        "name": "ipython",
        "version": 3
      },
      "file_extension": ".py",
      "mimetype": "text/x-python",
      "name": "python",
      "nbconvert_exporter": "python",
      "pygments_lexer": "ipython3",
      "version": "3.9.0"
    }
  },
  "nbformat": 4,
  "nbformat_minor": 0
}
