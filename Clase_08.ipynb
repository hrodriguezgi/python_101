{
  "cells": [
    {
      "cell_type": "markdown",
      "metadata": {
        "id": "Qpvt-Tss2XLi"
      },
      "source": [
        "# Manejo de Python"
      ]
    },
    {
      "cell_type": "markdown",
      "metadata": {
        "id": "V3hX0UU6AQfp"
      },
      "source": [
        "## 1. Operadores de comparación\n",
        "\n",
        "Los operadores de comparación nos permiten validar como se relacionan 2 objetos en python. Podemos realizar comparaciones numéricas, comparaciones de string, entre otros."
      ]
    },
    {
      "cell_type": "code",
      "execution_count": null,
      "metadata": {
        "colab": {
          "base_uri": "https://localhost:8080/"
        },
        "id": "5PntPC1KLg0i",
        "outputId": "3a5c3c45-c0bf-4b77-8e38-bc31388a3dab"
      },
      "outputs": [],
      "source": [
        "True >= False"
      ]
    },
    {
      "cell_type": "markdown",
      "metadata": {
        "id": "B-EbVfU8Ax_7"
      },
      "source": [
        "- `Menor`, `Menor o igual que`: estos dos operaciones nos permiten evaluar si el objeto de la izquierda es **menor** o **menor o igual que** el objeto de la derecha:\n",
        "  ```python\n",
        "  >>> 2 < 3\n",
        "  True\n",
        "  >>> 2 <= 1\n",
        "  False\n",
        "  >>> 'chris' < 'charles'\n",
        "  False\n",
        "  ```\n",
        "\n",
        "- `Mayor`, `Mayor o igual que`: estos dos operaciones nos permiten evaluar si el objeto de la izquierda es **mayor** o **mayor o igual que** el objeto de la derecha:\n",
        "  ```python\n",
        "  >>> 5 > 3\n",
        "  True\n",
        "  >>> 5 >= 10\n",
        "  False\n",
        "  >>> 'apple' > 'Apple'\n",
        "  True\n",
        "  ```\n",
        "\n",
        "- `Igual`: esta operación valida que el objeto de la izquierda sea exactamente igual al de la derecha\n",
        "  ```python\n",
        "  >>> 2 == 3\n",
        "  False\n",
        "  >>> a = 10; b = 10\n",
        "  >>> a == b\n",
        "  True\n",
        "  >>> 'Banana' == 'banana'.upper()\n",
        "  False\n",
        "  ```\n",
        "\n",
        "- `No es igual`: esta operación valida que el objeto de la izquierda no sea igual al objeto de la derecha\n",
        "  ```python\n",
        "  >>> 2.01 != 2.10\n",
        "  True\n",
        "  >>> a = 10; b = 10\n",
        "  >>> a != b\n",
        "  False\n",
        "  >>> 'Banana' != 'banana'.capitalize()\n",
        "  False\n",
        "  ```"
      ]
    },
    {
      "cell_type": "code",
      "execution_count": null,
      "metadata": {
        "colab": {
          "base_uri": "https://localhost:8080/"
        },
        "id": "gOdM34SeNQrZ",
        "outputId": "ec0beb06-ca3b-4bb9-eb6d-ee5aea7df035"
      },
      "outputs": [],
      "source": [
        "'Banana' == 'banana'.upper() # BANANA"
      ]
    },
    {
      "cell_type": "code",
      "execution_count": null,
      "metadata": {
        "colab": {
          "base_uri": "https://localhost:8080/"
        },
        "id": "m9qxkdIsNYxN",
        "outputId": "d98c28c8-cc86-44f5-e04c-451ba0def83f"
      },
      "outputs": [],
      "source": [
        "'Banana'.upper() == 'banana'.upper()"
      ]
    },
    {
      "cell_type": "code",
      "execution_count": null,
      "metadata": {
        "colab": {
          "base_uri": "https://localhost:8080/"
        },
        "id": "4KwiU_iENeKy",
        "outputId": "8060096a-88cc-45c5-abe5-d1fb9aff6e9a"
      },
      "outputs": [],
      "source": [
        "'Banana' == 'banana'.capitalize()"
      ]
    },
    {
      "cell_type": "code",
      "execution_count": null,
      "metadata": {
        "colab": {
          "base_uri": "https://localhost:8080/"
        },
        "id": "gCbotsjkNxDk",
        "outputId": "e65d83d1-147a-4350-dddf-c355851615e9"
      },
      "outputs": [],
      "source": [
        "'Banana' != 'banana'.capitalize() # Banana"
      ]
    },
    {
      "cell_type": "code",
      "execution_count": null,
      "metadata": {
        "colab": {
          "base_uri": "https://localhost:8080/"
        },
        "id": "V8Pw3aB5N4Nv",
        "outputId": "08dd79fc-e58a-4e99-a216-a415fc8aa278"
      },
      "outputs": [],
      "source": [
        "lista1 = [1,2,3]\n",
        "lista2 = [1,2,3]\n",
        "lista3 = [3,2,1,4]\n",
        "\n",
        "lista1 <= sorted(lista3)"
      ]
    },
    {
      "cell_type": "code",
      "execution_count": null,
      "metadata": {
        "colab": {
          "base_uri": "https://localhost:8080/"
        },
        "id": "u817RHedOicO",
        "outputId": "fc99d238-0005-4452-b603-3d66d1ec0b26"
      },
      "outputs": [],
      "source": [
        "lista1 = (1,2,3)\n",
        "lista2 = (1,2,3)\n",
        "lista3 = (3,2,1)\n",
        "\n",
        "lista1 < lista3"
      ]
    },
    {
      "cell_type": "markdown",
      "metadata": {
        "id": "AvJa5ML2EfRb"
      },
      "source": [
        "## 2. Operadores lógicos\n",
        "\n",
        "- `X or Y`: O lógico. Este operador permite obtener como salida `X` si es verdadero, en caso contrario la salida es `Y`\n",
        "  ```python\n",
        "  >>> 3 or 4\n",
        "  3\n",
        "  >>> False or 'b'\n",
        "  'b'\n",
        "  ```\n",
        "\n",
        "- `X and Y`: Y lógico. Este operador permite obtener como salida `Y` si y solo si `X` es verdadero, en caso contrario la salida es `X`\n",
        "  ```python\n",
        "  >>> 3 and 4\n",
        "  4\n",
        "  >>> False or 'b'\n",
        "  False\n",
        "  ```\n",
        "\n",
        "- `not X`: negación. Este operador invierte el valor lógico de la salida.\n",
        "  ```python\n",
        "  >>> not 4\n",
        "  False\n",
        "  >>> not False\n",
        "  True\n",
        "  ```"
      ]
    },
    {
      "cell_type": "code",
      "execution_count": null,
      "metadata": {
        "colab": {
          "base_uri": "https://localhost:8080/"
        },
        "id": "9XlpodlrPHsP",
        "outputId": "d0fb73d9-7c25-4813-e48c-b7a8f5f06f7f"
      },
      "outputs": [],
      "source": [
        "4 or 1"
      ]
    },
    {
      "cell_type": "code",
      "execution_count": null,
      "metadata": {
        "colab": {
          "base_uri": "https://localhost:8080/"
        },
        "id": "451yDefTSqdD",
        "outputId": "ac5129cf-0c6b-4c99-9030-158b86b45822"
      },
      "outputs": [],
      "source": [
        "4 and 1"
      ]
    },
    {
      "cell_type": "code",
      "execution_count": null,
      "metadata": {
        "colab": {
          "base_uri": "https://localhost:8080/"
        },
        "id": "n6w4PavNRScu",
        "outputId": "02e64ba1-b7ce-48ed-db97-aa04abdfed9d"
      },
      "outputs": [],
      "source": [
        "type(4)"
      ]
    },
    {
      "cell_type": "code",
      "execution_count": null,
      "metadata": {
        "colab": {
          "base_uri": "https://localhost:8080/",
          "height": 35
        },
        "id": "el4q8uY4PTYi",
        "outputId": "b68d85e8-744e-4582-db78-f6430ae1b7d6"
      },
      "outputs": [],
      "source": [
        "False or 'banana'"
      ]
    },
    {
      "cell_type": "code",
      "execution_count": null,
      "metadata": {
        "colab": {
          "base_uri": "https://localhost:8080/"
        },
        "id": "v1GRRlsLRUfd",
        "outputId": "9a0c4be3-79ac-4ad3-956f-b1cac49b3778"
      },
      "outputs": [],
      "source": [
        "type(False)"
      ]
    },
    {
      "cell_type": "code",
      "execution_count": null,
      "metadata": {
        "colab": {
          "base_uri": "https://localhost:8080/"
        },
        "id": "fef3p93zQVJb",
        "outputId": "762dbfb1-0769-42b6-e088-db6d04aad710"
      },
      "outputs": [],
      "source": [
        "False or True"
      ]
    },
    {
      "cell_type": "code",
      "execution_count": null,
      "metadata": {
        "colab": {
          "base_uri": "https://localhost:8080/"
        },
        "id": "eOa1IkPiQsfb",
        "outputId": "c0511bcb-36a8-4f0e-8e07-114005f2506d"
      },
      "outputs": [],
      "source": [
        "help(None)"
      ]
    },
    {
      "cell_type": "code",
      "execution_count": null,
      "metadata": {
        "colab": {
          "base_uri": "https://localhost:8080/",
          "height": 35
        },
        "id": "rfUupWTYPXyV",
        "outputId": "456079e1-dc69-4f6b-aa98-be187efe27a6"
      },
      "outputs": [],
      "source": [
        "a = None\n",
        "b = 'apple'\n",
        "\n",
        "a or b"
      ]
    },
    {
      "cell_type": "code",
      "execution_count": null,
      "metadata": {
        "colab": {
          "base_uri": "https://localhost:8080/"
        },
        "id": "0FBMuKDjRZPZ",
        "outputId": "ff062c1e-6f2b-41e2-9e63-96abb4231954"
      },
      "outputs": [],
      "source": [
        "type(a)"
      ]
    },
    {
      "cell_type": "code",
      "execution_count": null,
      "metadata": {
        "id": "cuQAABF7RiYJ"
      },
      "outputs": [],
      "source": [
        "if condicion1 or condicion2 or condicion3 and condicion4:\n",
        "  print(backup Exitoso)"
      ]
    },
    {
      "cell_type": "code",
      "execution_count": null,
      "metadata": {
        "colab": {
          "base_uri": "https://localhost:8080/"
        },
        "id": "tIwX4T0dS6XY",
        "outputId": "c03b0fd7-d801-48f6-e120-3a0299ca7407"
      },
      "outputs": [],
      "source": [
        "not True"
      ]
    },
    {
      "cell_type": "code",
      "execution_count": null,
      "metadata": {
        "colab": {
          "base_uri": "https://localhost:8080/"
        },
        "id": "zyowA6jmS7nw",
        "outputId": "16519951-901b-4507-a479-f4688969a832"
      },
      "outputs": [],
      "source": [
        "not bool(0)"
      ]
    },
    {
      "cell_type": "markdown",
      "metadata": {
        "id": "07jcxMlgBOst"
      },
      "source": [
        "## 3. Condicionales\n",
        "\n",
        "En programación, una sentencia condicional es una instrucción o grupo de instrucciones que se pueden ejecutar o no en función del valor de una condición.\n",
        "\n",
        "```python\n",
        "if validacion:\n",
        "  si se cumple\n",
        "elif validacion1:\n",
        "  si no, valide esto..\n",
        "elif validacion2:\n",
        "  si no, valide esto..\n",
        "else:\n",
        "  de lo contrario hagame esto\n",
        "```\n",
        "\n",
        "Un ejemplo de esto es:\n",
        "\n",
        "```python\n",
        ">>> area = 10.0\n",
        ">>> if(area < 9):\n",
        "...    print(\"small\")\n",
        "... elif(area < 12):\n",
        "...     print(\"medium\")\n",
        "... else:\n",
        "...     print(\"large\")\n",
        "...\n",
        "medium\n",
        "```\n",
        "\n"
      ]
    },
    {
      "cell_type": "code",
      "execution_count": null,
      "metadata": {
        "colab": {
          "base_uri": "https://localhost:8080/"
        },
        "id": "OZ8vgA6_TiFm",
        "outputId": "e4e24105-192c-49da-ea8f-b4954f061a4a"
      },
      "outputs": [],
      "source": [
        "'chris' < 'charles'"
      ]
    },
    {
      "cell_type": "code",
      "execution_count": null,
      "metadata": {
        "colab": {
          "base_uri": "https://localhost:8080/"
        },
        "id": "A3A6oaFeTLQS",
        "outputId": "aabed188-f2c5-4f61-b6d7-1d7a92959040"
      },
      "outputs": [],
      "source": [
        "if 'chris' < 'charles':\n",
        "  # Si la condición se cumple ejecuta este print\n",
        "  print('{nombre1} está antes que {nombre2}'.format(nombre1='chris', nombre2='charles'))\n",
        "else:\n",
        "  # Si la condición no se cumple ejecuta este print\n",
        "  print('{} está antes que {}'.format('charles','chris'))"
      ]
    },
    {
      "cell_type": "code",
      "execution_count": null,
      "metadata": {
        "colab": {
          "base_uri": "https://localhost:8080/"
        },
        "id": "jU6Drco9UKDt",
        "outputId": "6cd1dca9-263e-4113-9abd-6f27ad5c2f6f"
      },
      "outputs": [],
      "source": [
        "# Creamos una variable llamada area y le asignamos el valor de 10.0\n",
        "area = 12\n",
        "\n",
        "if(area < 9):\n",
        "  print(\"small\")\n",
        "elif(area <= 12):\n",
        "  print(\"medium\")\n",
        "else:\n",
        "  print(\"large\")"
      ]
    },
    {
      "cell_type": "code",
      "execution_count": null,
      "metadata": {
        "colab": {
          "base_uri": "https://localhost:8080/"
        },
        "id": "Fwqa1tGgUpex",
        "outputId": "6f0ba8d8-0a5e-4ba8-9b6c-6cb1848b0343"
      },
      "outputs": [],
      "source": [
        "# Creamos una variable llamada area y le asignamos el valor de 10.0\n",
        "area = 12\n",
        "arquitecto = 'chris'\n",
        "\n",
        "if area < 9 and arquitecto < 'charles': # No se evalúa\n",
        "  print(\"small\")\n",
        "elif area < 12 or arquitecto > 'charles': # False or True\n",
        "  print(\"medium\")\n",
        "else:\n",
        "  print(\"large\")"
      ]
    },
    {
      "cell_type": "code",
      "execution_count": null,
      "metadata": {
        "colab": {
          "base_uri": "https://localhost:8080/"
        },
        "id": "weuefcZxVRud",
        "outputId": "d6530d39-8ed0-4f3a-b9ee-3c57af02f6c9"
      },
      "outputs": [],
      "source": [
        "# Creamos una variable llamada area y le asignamos el valor de 10.0\n",
        "area = 7\n",
        "arquitecto = 'chris'\n",
        "\n",
        "if area < 9 and arquitecto < 'charles': # True and False\n",
        "  print(\"small\")\n",
        "elif area < 12 and arquitecto > 'charles': # True and True\n",
        "  print(\"medium\")\n",
        "else:\n",
        "  print(\"large\")"
      ]
    },
    {
      "cell_type": "code",
      "execution_count": null,
      "metadata": {
        "colab": {
          "base_uri": "https://localhost:8080/"
        },
        "id": "0pCaUXoD7n6h",
        "outputId": "683e2ef2-0902-479a-a579-b0fd788b0719"
      },
      "outputs": [],
      "source": [
        "# Define variables\n",
        "room = \"kit\"\n",
        "area = 14.0\n",
        "\n",
        "# if statement for room\n",
        "if room == \"kit\" :\n",
        "    print(\"looking around in the kitchen.\")\n",
        "\n",
        "# if statement for area\n",
        "if area > 15:\n",
        "    print(\"big place!\")"
      ]
    },
    {
      "cell_type": "markdown",
      "metadata": {
        "id": "NZws3C8f7kxz"
      },
      "source": [
        "### 3.1 If Comprehension (operador ternario)\n",
        "\n",
        "Python incorpora el concepto de comprehension en condicionales, con el fín de optimizar codigo en tareas simples\n",
        "\n",
        "If normal:\n",
        "```python\n",
        "if Y:\n",
        "  X\n",
        "else:\n",
        "  Z\n",
        "```\n",
        "\n",
        "Sintaxis:\n",
        "```python\n",
        "X if Y else Z\n",
        "```\n",
        "La salida es `X` sí y solo si `Y` es verdadero, en caso contrario la salida será `Z`\n",
        "\n",
        "Ejemplo:\n",
        "```python\n",
        ">>> area = 15\n",
        ">>> print('big place!') if area > 15 else print('small place!')\n",
        "small place!\n",
        "```"
      ]
    },
    {
      "cell_type": "code",
      "execution_count": null,
      "metadata": {
        "colab": {
          "base_uri": "https://localhost:8080/"
        },
        "id": "ZMEYR7VPYjb2",
        "outputId": "97ff6408-768b-4a1c-bd1d-3670d855d130"
      },
      "outputs": [],
      "source": [
        "if 'chris' < 'charles': # Y\n",
        "  print('Cumple') # X\n",
        "else:\n",
        "  print('No cumple') # Z"
      ]
    },
    {
      "cell_type": "code",
      "execution_count": null,
      "metadata": {
        "colab": {
          "base_uri": "https://localhost:8080/"
        },
        "id": "VE94szmXZeex",
        "outputId": "72477574-ee8f-43ca-8060-92b098a2b1bf"
      },
      "outputs": [],
      "source": [
        "#----- X ------ IF -------- Y -------- ELSE ------- Z --------\n",
        "print('Cumple') if 'chris' < 'charles' else print('No cumple')"
      ]
    },
    {
      "cell_type": "code",
      "execution_count": null,
      "metadata": {
        "colab": {
          "base_uri": "https://localhost:8080/"
        },
        "id": "kmQ7dJ5b9N2S",
        "outputId": "fe24c93f-6417-4122-ed54-c07822b4fc4b"
      },
      "outputs": [],
      "source": [
        "area = 15\n",
        "print('big place!') if area > 15 else print('small place!')"
      ]
    },
    {
      "cell_type": "code",
      "execution_count": null,
      "metadata": {
        "colab": {
          "base_uri": "https://localhost:8080/"
        },
        "id": "6nZTAoj7avzG",
        "outputId": "8889ee5d-d6aa-4d20-d736-4f9bfc60dddf"
      },
      "outputs": [],
      "source": [
        "area = 15\n",
        "if area > 15:\n",
        "  print('big place!')\n",
        "else:\n",
        "  print('small place!')"
      ]
    },
    {
      "cell_type": "markdown",
      "metadata": {
        "id": "2f53OjC9-Z26"
      },
      "source": [
        "### 3.2 If anidados\n",
        "\n",
        "Python permite escribir condiciones dentro de condiciones:\n",
        "\n",
        "```python\n",
        "if condicion_exterior:\n",
        "  if condicion_interior:\n",
        "    print('se cumple condicion exterior e interior')\n",
        "  else:\n",
        "    print('se cumple condición exterior pero no interior')\n",
        "else:\n",
        "  print('no se cumplen la condición exterior')\n",
        "```"
      ]
    },
    {
      "cell_type": "code",
      "execution_count": null,
      "metadata": {
        "colab": {
          "base_uri": "https://localhost:8080/"
        },
        "id": "VXr5jtO7-WDr",
        "outputId": "4184febd-9918-4e39-b34a-9fa9bbceab5f"
      },
      "outputs": [],
      "source": [
        "a = 10\n",
        "b = 'hola'\n",
        "\n",
        "if a >= 10:\n",
        "  print('se cumplio \"a\"')\n",
        "  if b == 'Hola':\n",
        "    print('se cumple condicion exterior e interior')\n",
        "  else:\n",
        "    print('se cumple condición exterior pero no interior')\n",
        "else:\n",
        "  print('no se cumplen la condición exterior')"
      ]
    },
    {
      "cell_type": "code",
      "execution_count": null,
      "metadata": {
        "colab": {
          "base_uri": "https://localhost:8080/"
        },
        "id": "9t1g50hycF3C",
        "outputId": "b848cc5a-fe7e-4261-ca47-514b69ad060c"
      },
      "outputs": [],
      "source": [
        "a = 9\n",
        "b = 'Hola'\n",
        "\n",
        "if a >= 10:\n",
        "  print('se cumplio \"a\"')\n",
        "  if b == 'Hola':\n",
        "    print('se cumple condicion exterior e interior')\n",
        "  else:\n",
        "    print('se cumple condición exterior pero no interior')\n",
        "else:\n",
        "  print('no se cumplen la condición exterior')"
      ]
    },
    {
      "cell_type": "code",
      "execution_count": null,
      "metadata": {
        "colab": {
          "base_uri": "https://localhost:8080/"
        },
        "id": "P0hfJYsjbrTT",
        "outputId": "1eaecd2e-4d3a-4666-e7b8-394c1543bb69"
      },
      "outputs": [],
      "source": [
        "a = 9\n",
        "b = 'Hola'\n",
        "\n",
        "if a >= 10:\n",
        "  print('se cumplio \"a\"')\n",
        "elif b == 'Hola':\n",
        "  print('se cumple \"b\"')\n",
        "else:\n",
        "  print('no se cumplen la condición exterior')"
      ]
    },
    {
      "cell_type": "markdown",
      "metadata": {
        "id": "dqMB5oh5_ExR"
      },
      "source": [
        "### 3.3 Multiples condiciones\n",
        "\n",
        "El mismo comando anterior pudo ser escrito de la siguiente forma:\n",
        "\n",
        "```python\n",
        "if condicion_1 and condicion_2:\n",
        "  print('se cumplen las condiciones 1 y 2')\n",
        "elif condicion_3 and condicion_4:\n",
        "  print('se cumplen las condiciones 3 y 4')\n",
        "else:\n",
        "  print('no se cumplen las condiciones')\n",
        "```"
      ]
    },
    {
      "cell_type": "code",
      "execution_count": null,
      "metadata": {
        "colab": {
          "base_uri": "https://localhost:8080/"
        },
        "id": "YsF6HwQe_oPI",
        "outputId": "0a85c952-fcb8-4023-cb5e-54c1660f5903"
      },
      "outputs": [],
      "source": [
        "a = 9\n",
        "b = 'hola'\n",
        "\n",
        "if a >= 10 and b == 'Hola':\n",
        "  print('se cumple condicion de \"a\" y de \"b\"')\n",
        "elif a >= 10:\n",
        "  print('se cumple condición de \"a\"')\n",
        "else:\n",
        "  print('no se cumplen ninguna de las condiciones')"
      ]
    }
  ],
  "metadata": {
    "colab": {
      "collapsed_sections": [],
      "provenance": []
    },
    "kernelspec": {
      "display_name": "Python 3",
      "name": "python3"
    },
    "language_info": {
      "name": "python"
    }
  },
  "nbformat": 4,
  "nbformat_minor": 0
}
