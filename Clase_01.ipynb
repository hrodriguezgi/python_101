{
  "cells": [
    {
      "cell_type": "markdown",
      "metadata": {
        "id": "_hCZ8slFIhno"
      },
      "source": [
        "# Introducción a Python\n",
        "\n",
        "Python fue concebido por Guido Van Rossum. Inicialmente concebido como un hobby, y por su versatilidad se llegó a convertir en un lenguaje de programación de propósito general. \n",
        "\n",
        "![Guido Van Rossum](https://drive.google.com/uc?id=1CQSoWmutAVtYkqd-YuAvXP7bHiIp0MkV)\n",
        "\n",
        "Hoy en día es utilizado para construir practicament cualquier tipo de software, esto debido a:\n",
        "\n",
        "- Python es open source osea que su uso es libre\n",
        "- Es muy fácil construir paquetes, esto permite compartir código con otras personas\n",
        "\n",
        "Actualmente Python cuenta con diferentes librerías que han sido desarrolladas por personas de todo el mundo que permiten realizar conexiones a base de datos, crear gráficos para analizar datos, entre otras cosas."
      ]
    },
    {
      "cell_type": "markdown",
      "metadata": {
        "id": "eDdznq2dPrv8"
      },
      "source": [
        "# Manejo de Python"
      ]
    },
    {
      "cell_type": "markdown",
      "metadata": {
        "id": "BBxZ548DgyBq"
      },
      "source": [
        "## 1. Comentarios en Python\n",
        "\n",
        "Antes de comenzar a trabajar, es muy importante conocer las formas en que Python nos permite crear comentarios, de tal forma que todo nuestro código pueda tener la documentación necesaria para que tanto nosotros como cualquier otra persona pueda leerlo y entenderlo correctamente. \n",
        "\n",
        "Cuando queremos realizar un comentario de una sola línea, podemos utilizar el caracter `#` al inicio del renglón de la siguiente forma:\n",
        "\n",
        "```python\n",
        "# Esto es un comentario de una línea\n",
        "```\n",
        "\n",
        "Aunque es posible colocar en cada renglón el caracter `#`, cuando requerimos realizar un comentario de multiples líneas lo recomendado es utilizar triple comilla simple o triple comilla doble al inicio y fin de nuestra documentación, de la siguiente forma:\n",
        "\n",
        "```python\n",
        "\"\"\"\n",
        "Esto es un comentario \n",
        "que consta de multiples lineas.\n",
        "\"\"\"\n",
        "```\n",
        "\n",
        "De esta forma todo nuestro código llevará la información que no se ejecuta pero que nos ayuda a entenderlo de una mejor forma."
      ]
    },
    {
      "cell_type": "markdown",
      "metadata": {
        "id": "t1Q20ixlRdOm"
      },
      "source": [
        "## 2. Python es un lenguaje de **tipado dinámico**\n",
        "\n",
        "Python no requiere que sea declarado el tipo de variables que queremos manejar en nuestro código ya que al momento de declararlas, automáticamente las interpretará."
      ]
    },
    {
      "cell_type": "code",
      "execution_count": null,
      "metadata": {
        "colab": {
          "base_uri": "https://localhost:8080/"
        },
        "id": "vhtGl8Z_PFQA",
        "outputId": "66cdf926-8d47-40eb-db24-85bed29c4e1c"
      },
      "outputs": [],
      "source": [
        "# Definimos una variable de tipo numerico\n",
        "a = 10\n",
        "b = 20\n",
        "\n",
        "# Suma de dos números\n",
        "print(a+b)\n",
        "\n",
        "# la función type nos permite conocer el tipo de objeto con el que estamos \n",
        "# trabajando.\n",
        "print(type(a), type(b))"
      ]
    },
    {
      "cell_type": "code",
      "execution_count": null,
      "metadata": {
        "colab": {
          "base_uri": "https://localhost:8080/"
        },
        "id": "oXMQn2BPSR_j",
        "outputId": "259b862c-dc92-4025-9d96-b9d9ac914192"
      },
      "outputs": [],
      "source": [
        "# Definimos una variable de tipo string\n",
        "a = '10'\n",
        "b = \"20\"\n",
        "\n",
        "# Suma de dos cadenas\n",
        "print(a+b)\n",
        "\n",
        "# la función type nos permite conocer el tipo de objeto con el que estamos \n",
        "# trabajando.\n",
        "print(type(a), type(b))"
      ]
    },
    {
      "cell_type": "markdown",
      "metadata": {
        "id": "zFENZIYXfNZ8"
      },
      "source": [
        "Cuando combinamos variables numéricas y de cadena podemos obtener resultados interesantes:"
      ]
    },
    {
      "cell_type": "code",
      "execution_count": null,
      "metadata": {
        "colab": {
          "base_uri": "https://localhost:8080/"
        },
        "id": "x8w_XOQb4XCO",
        "outputId": "ba5e16fc-5c3b-4178-a79d-97ed86a1ce5c"
      },
      "outputs": [],
      "source": [
        "# Definimos una variable de tipo numérico\n",
        "a = 10\n",
        "# Definimos una variable de tipo cadena\n",
        "b = 'xoxo'\n",
        "\n",
        "# Al realizar una operación aritmética de multiplicación el resultado obtenido\n",
        "# es la repetición de la cadena\n",
        "print(b*a)\n",
        "\n",
        "# Por lo que si evaluamos el tipo de esa salida, será cadena también\n",
        "print(type(b*a))"
      ]
    },
    {
      "cell_type": "markdown",
      "metadata": {
        "id": "I57CJDrv42A0"
      },
      "source": [
        "## 3. Tipos de Datos que se manejan en Python\n",
        "\n",
        "Podemos encontrar los siguientes tipos de datos:\n",
        "\n",
        "| Nombre | Representación |\n",
        "|--------|----------------|\n",
        "| Cadenas de texto | `str`\n",
        "| Enteros | `int`\n",
        "| Booleanos | `bool`\n",
        "| Decimales | `float`\n",
        "| Listas | `list []`\n",
        "| Tuplas | `tuple ()`\n",
        "| Lambda | `function`\n",
        "| Diccionarios | `dict`"
      ]
    },
    {
      "cell_type": "code",
      "execution_count": null,
      "metadata": {
        "id": "eseseJUe403A"
      },
      "outputs": [],
      "source": [
        "cadena = \"'hola mundo'\"\n",
        "entero = 10\n",
        "booleano = True # False\n",
        "decimal = 10.5\n",
        "lista_naturales = [1,2,3,4,5]\n",
        "tupla = (1,2,3,4,5)\n",
        "diccionario = {\n",
        "    'a': 1,\n",
        "    'b': 'cadena',\n",
        "    'c': [1,2,3],\n",
        "    'd': 1\n",
        "    }"
      ]
    },
    {
      "cell_type": "markdown",
      "metadata": {
        "id": "yF4ZVSOz_77R"
      },
      "source": [
        "## 4. Asignación de variables\n",
        "\n",
        "Para trabajar con variables en python, debemos comprender que estas deben cumplir las siguientes reglas:\n",
        "- El nombre de una variable debe comenzar con una letra o un guión al piso (_)\n",
        "- El nombre de una variable no puede comenzar con un número\n",
        "- El nombre de una variable solo debe contener caracteres alfa numéricos y guiones al piso (_) \n",
        "- Los nombre de las variables son sensibles al uso de las mayúsculas y minúsculas: `age`, `Age` y `AGE` son tres variables diferentes"
      ]
    },
    {
      "cell_type": "markdown",
      "metadata": {
        "id": "NZYRQZdOkSHC"
      },
      "source": [
        "### 4.1 Asignación dinámica\n",
        "\n",
        "```python\n",
        "nombre_variable = 10\n",
        "```"
      ]
    },
    {
      "cell_type": "code",
      "execution_count": null,
      "metadata": {
        "colab": {
          "base_uri": "https://localhost:8080/",
          "height": 131
        },
        "id": "hzaRIGLW_66Y",
        "outputId": "7c87995d-5bd5-4871-b2f0-da57c6c37d97"
      },
      "outputs": [],
      "source": [
        "# Creación de una variable con nombre compuesto: 2 palabras separadas \n",
        "# por un espacio. El resultado: error!\n",
        "lista numeros = [1,2,3] "
      ]
    },
    {
      "cell_type": "code",
      "execution_count": null,
      "metadata": {
        "colab": {
          "base_uri": "https://localhost:8080/"
        },
        "id": "9Hv1zBDIBTcK",
        "outputId": "09e68d11-da14-4153-c648-426143dbdf07"
      },
      "outputs": [],
      "source": [
        "# Creación de una variable con nombre compuesto: 2 palabras separadas \n",
        "# por un guión al piso. El resultado: correcto!\n",
        "lista_numeros = [1,2,3]\n",
        "\n",
        "print(lista_numeros)"
      ]
    },
    {
      "cell_type": "code",
      "execution_count": null,
      "metadata": {
        "colab": {
          "base_uri": "https://localhost:8080/"
        },
        "id": "NQlFoFToBcYh",
        "outputId": "312b9581-6ac6-4712-ad60-b18cb76bba61"
      },
      "outputs": [],
      "source": [
        "# También es posible declarar multiples variables en un solo renglón. \n",
        "# Separando cada declaración con ; (punto y coma)\n",
        "var1=10 ; var2='asdf'\n",
        "\n",
        "print(var1, var2)"
      ]
    },
    {
      "cell_type": "markdown",
      "metadata": {
        "id": "30JhobMaB2g5"
      },
      "source": [
        "### 4.2 Asignación por referencia\n",
        "\n",
        "- La refenciación es opcional\n",
        "- La refenciación no es restrictiva\n",
        "- Se usa para una mejor comprensión del código\n",
        "- Aplica tambien para funciones y clases\n",
        "\n",
        "Definir una variable de esta forma requiere indicar el nombre de la variable seguido por el tipo de variable que es:\n",
        "\n",
        "```python\n",
        "nombre_variable:str = 'string'\n",
        "```"
      ]
    },
    {
      "cell_type": "code",
      "execution_count": null,
      "metadata": {
        "id": "PMCIUIvmDTXv"
      },
      "outputs": [],
      "source": [
        "# Cada variable que vamos a definir, la vamos a acompañar con el tipo de \n",
        "# variable que es\n",
        "cadena:str = \"'hola mundo'\"\n",
        "entero:int = 10\n",
        "booleano:bool = True # False"
      ]
    },
    {
      "cell_type": "markdown",
      "metadata": {
        "id": "hsaXN_OJGMeg"
      },
      "source": [
        "### 4.3 Definicion por constructor\n",
        "\n",
        "casteo = convertir un tipo de dato a otro\n",
        "\n",
        "- Es el famoso casteo\n",
        "- Se usa para inferencia de datos\n",
        "- Sólo se recomienda usar cuando tenga que transformar los tipos de datos\n",
        "- Se usa `tipo_dato(valor_a_convertir)`\n",
        "- Tener mucho cuidado cuando se castea, por que la referencia de dato tiene que ser soportada\n",
        "\n",
        "```python\n",
        "nombre_variable = float('10.5')\n",
        "```"
      ]
    },
    {
      "cell_type": "code",
      "execution_count": null,
      "metadata": {
        "colab": {
          "base_uri": "https://localhost:8080/"
        },
        "id": "c-cJJRqxGXZL",
        "outputId": "5bd8d22e-0acd-496a-a761-7a02a5ceb85a"
      },
      "outputs": [],
      "source": [
        "# Creamos una variable de tipo cadena pero con un valor numérico\n",
        "valor1 = '10'\n",
        "print(type(valor1))"
      ]
    },
    {
      "cell_type": "code",
      "execution_count": null,
      "metadata": {
        "colab": {
          "base_uri": "https://localhost:8080/"
        },
        "id": "n-DAnEQrHv1c",
        "outputId": "7d1bf5e9-666a-4fba-9a6c-05a22fadc25c"
      },
      "outputs": [],
      "source": [
        "# En la definición por constructor, vamos que aunque la definamos como \n",
        "# una cadena, al realizar el casteo el tipo de dato es entero\n",
        "valor1 = int('10')\n",
        "print(type(valor1))"
      ]
    },
    {
      "cell_type": "code",
      "execution_count": null,
      "metadata": {
        "colab": {
          "base_uri": "https://localhost:8080/"
        },
        "id": "fMd8u01QHvsX",
        "outputId": "abccb579-e4dd-4020-83af-3c2f9a3af034"
      },
      "outputs": [],
      "source": [
        "# Esto también aplica para los valores de tipo flotante\n",
        "valor2 = float('3.1416')\n",
        "print(type(valor2))"
      ]
    },
    {
      "cell_type": "code",
      "execution_count": null,
      "metadata": {
        "colab": {
          "base_uri": "https://localhost:8080/",
          "height": 183
        },
        "id": "luxfHnVgIDy2",
        "outputId": "9efa749a-b70a-40d3-b4ee-8a7cd2a1418f"
      },
      "outputs": [],
      "source": [
        "# Sin embargo si intentamos castear una expresión incorrecta tendremos un \n",
        "# mensaje de error\n",
        "valor3 = float('3.1f')\n",
        "print(type(valor3)) # try/except"
      ]
    },
    {
      "cell_type": "code",
      "execution_count": null,
      "metadata": {
        "colab": {
          "base_uri": "https://localhost:8080/"
        },
        "id": "FHKWDQBZIXe6",
        "outputId": "680e4789-6998-4831-ef6a-c62b89e4fb23"
      },
      "outputs": [],
      "source": [
        "valor4 = bool(0)\n",
        "print(type(valor4), valor4)"
      ]
    },
    {
      "cell_type": "code",
      "execution_count": null,
      "metadata": {
        "colab": {
          "base_uri": "https://localhost:8080/"
        },
        "id": "1ZHaZGCJJGHV",
        "outputId": "ba3e66cb-1bfa-4a2d-cc6a-4a27d449ae9c"
      },
      "outputs": [],
      "source": [
        "tuplas = tuple( (1,2,3) )\n",
        "print(tuplas, type(tuplas))"
      ]
    },
    {
      "cell_type": "code",
      "execution_count": null,
      "metadata": {
        "colab": {
          "base_uri": "https://localhost:8080/"
        },
        "id": "Bg14yZsxJXxr",
        "outputId": "03461c40-bfe0-4f3c-ad49-4c7dc2936a63"
      },
      "outputs": [],
      "source": [
        "tuplas2 = tuple( [1,2,3] )\n",
        "print(tuplas2, type(tuplas2))"
      ]
    },
    {
      "cell_type": "code",
      "execution_count": null,
      "metadata": {
        "colab": {
          "base_uri": "https://localhost:8080/"
        },
        "id": "8_AwnpFLKQKx",
        "outputId": "072de373-393b-4de2-d6c3-8fa944f032cc"
      },
      "outputs": [],
      "source": [
        "diccionario_nuevo = dict(\n",
        "    a = 1,\n",
        "    b = 'cadena',\n",
        "    c = [1,2,3],\n",
        "    d = 1\n",
        ")\n",
        "\n",
        "print(diccionario_nuevo, type(diccionario_nuevo))"
      ]
    },
    {
      "cell_type": "markdown",
      "metadata": {
        "id": "kqg5pJXzLh7f"
      },
      "source": [
        "## Actividad\n",
        "\n",
        "Crear las variables apropiadas para:\n",
        "- Nombre Elemento\n",
        "- Precio\n",
        "- Cantidad del Inventario"
      ]
    }
  ],
  "metadata": {
    "colab": {
      "collapsed_sections": [],
      "provenance": [],
      "toc_visible": true
    },
    "kernelspec": {
      "display_name": "Python 3",
      "name": "python3"
    },
    "language_info": {
      "name": "python"
    }
  },
  "nbformat": 4,
  "nbformat_minor": 0
}
