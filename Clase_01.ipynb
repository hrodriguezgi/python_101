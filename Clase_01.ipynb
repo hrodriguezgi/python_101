{
  "cells": [
    {
      "cell_type": "markdown",
      "metadata": {
        "id": "_hCZ8slFIhno"
      },
      "source": [
        "# Introducción a Python\n",
        "\n",
        "Python fue concebido por Guido Van Rossum. Inicialmente concebido como un hobby, y por su versatilidad se llegó a convertir en un lenguaje de programación de propósito general.\n",
        "\n",
        "![Guido Van Rossum](https://drive.google.com/uc?id=1CQSoWmutAVtYkqd-YuAvXP7bHiIp0MkV)\n",
        "\n",
        "Hoy en día es utilizado para construir practicament cualquier tipo de software, esto debido a:\n",
        "\n",
        "- Python es open source osea que su uso es libre\n",
        "- Es muy fácil construir paquetes, esto permite compartir código con otras personas\n",
        "\n",
        "Actualmente Python cuenta con diferentes librerías que han sido desarrolladas por personas de todo el mundo que permiten realizar conexiones a base de datos, crear gráficos para analizar datos, entre otras cosas."
      ]
    },
    {
      "cell_type": "markdown",
      "metadata": {
        "id": "eDdznq2dPrv8"
      },
      "source": [
        "# Manejo de Python"
      ]
    },
    {
      "cell_type": "markdown",
      "metadata": {
        "id": "BBxZ548DgyBq"
      },
      "source": [
        "## 1. Comentarios en Python\n",
        "\n",
        "Antes de comenzar a trabajar, es muy importante conocer las formas en que Python nos permite crear comentarios, de tal forma que todo nuestro código pueda tener la documentación necesaria para que tanto nosotros como cualquier otra persona pueda leerlo y entenderlo correctamente.\n",
        "\n",
        "Cuando queremos realizar un comentario de una sola línea, podemos utilizar el caracter `#` al inicio del renglón de la siguiente forma:\n",
        "\n",
        "```python\n",
        "# Esto es un comentario de una línea\n",
        "```\n",
        "\n",
        "Aunque es posible colocar en cada renglón el caracter `#`, cuando requerimos realizar un comentario de multiples líneas lo recomendado es utilizar triple comilla simple o triple comilla doble al inicio y fin de nuestra documentación, de la siguiente forma:\n",
        "\n",
        "```python\n",
        "\"\"\"\n",
        "Esto es un comentario\n",
        "que consta de multiples lineas.\n",
        "\"\"\"\n",
        "```\n",
        "\n",
        "De esta forma todo nuestro código llevará la información que no se ejecuta pero que nos ayuda a entenderlo de una mejor forma."
      ]
    },
    {
      "cell_type": "markdown",
      "metadata": {
        "id": "t1Q20ixlRdOm"
      },
      "source": [
        "## 2. Python es un lenguaje de **tipado dinámico**\n",
        "\n",
        "Python no requiere que sea declarado el tipo de variables que queremos manejar en nuestro código ya que al momento de declararlas, automáticamente las interpretará."
      ]
    },
    {
      "cell_type": "code",
      "execution_count": 1,
      "metadata": {
        "colab": {
          "base_uri": "https://localhost:8080/"
        },
        "id": "vhtGl8Z_PFQA",
        "outputId": "25f85dc9-bbc8-440e-fa18-f0209410571e"
      },
      "outputs": [
        {
          "name": "stdout",
          "output_type": "stream",
          "text": [
            "30\n",
            "<class 'int'> <class 'int'> 30\n"
          ]
        }
      ],
      "source": [
        "# Definimos una variable de tipo numerico\n",
        "a = 10\n",
        "b = 20\n",
        "\n",
        "# Suma de dos números\n",
        "print(a+b)\n",
        "\n",
        "# la función type nos permite conocer el tipo de objeto con el que estamos\n",
        "# trabajando.\n",
        "print(type(a), type(b), a+b)"
      ]
    },
    {
      "cell_type": "code",
      "execution_count": 2,
      "metadata": {
        "colab": {
          "base_uri": "https://localhost:8080/"
        },
        "id": "oXMQn2BPSR_j",
        "outputId": "6e902683-acef-48cf-fbff-fd938b3ece41"
      },
      "outputs": [
        {
          "name": "stdout",
          "output_type": "stream",
          "text": [
            "1020\n",
            "<class 'str'> <class 'str'>\n"
          ]
        }
      ],
      "source": [
        "# Definimos una variable de tipo string\n",
        "a = '10'\n",
        "b = \"20\"\n",
        "\n",
        "# Suma de dos cadenas\n",
        "print(a+b)\n",
        "\n",
        "# la función type nos permite conocer el tipo de objeto con el que estamos\n",
        "# trabajando.\n",
        "print(type(a), type(b))"
      ]
    },
    {
      "cell_type": "markdown",
      "metadata": {
        "id": "zFENZIYXfNZ8"
      },
      "source": [
        "Cuando combinamos variables numéricas y de cadena podemos obtener resultados interesantes:"
      ]
    },
    {
      "cell_type": "code",
      "execution_count": 5,
      "metadata": {
        "colab": {
          "base_uri": "https://localhost:8080/"
        },
        "id": "x8w_XOQb4XCO",
        "outputId": "5ca9063a-5e96-43d7-bcb6-e6a92261d60c"
      },
      "outputs": [
        {
          "name": "stdout",
          "output_type": "stream",
          "text": [
            "xoxoxoxoxoxoxoxoxoxo\n",
            "<class 'str'>\n"
          ]
        }
      ],
      "source": [
        "# Definimos una variable de tipo numérico\n",
        "a = 5\n",
        "# Definimos una variable de tipo cadena\n",
        "b = 'xoxo'\n",
        "\n",
        "# Al realizar una operación aritmética de multiplicación el resultado obtenido\n",
        "# es la repetición de la cadena\n",
        "print(a*b)\n",
        "\n",
        "# Por lo que si evaluamos el tipo de esa salida, será cadena también\n",
        "print(type(a*b))"
      ]
    },
    {
      "cell_type": "markdown",
      "metadata": {
        "id": "I57CJDrv42A0"
      },
      "source": [
        "## 3. Tipos de Datos que se manejan en Python\n",
        "\n",
        "Podemos encontrar los siguientes tipos de datos:\n",
        "\n",
        "| Nombre | Representación |\n",
        "|--------|----------------|\n",
        "| Cadenas de texto | `str`\n",
        "| Enteros | `int`\n",
        "| Booleanos | `bool`\n",
        "| Decimales | `float`\n",
        "| Listas | `list []`\n",
        "| Tuplas | `tuple ()`\n",
        "| Lambda | `function`\n",
        "| Diccionarios | `dict`"
      ]
    },
    {
      "cell_type": "code",
      "execution_count": 7,
      "metadata": {
        "colab": {
          "base_uri": "https://localhost:8080/"
        },
        "id": "eseseJUe403A",
        "outputId": "cb651bd2-06f0-415a-93db-29cddfa36486"
      },
      "outputs": [
        {
          "name": "stdout",
          "output_type": "stream",
          "text": [
            "hola mundo\n"
          ]
        }
      ],
      "source": [
        "cadena = \"'hola mundo'\"\n",
        "entero = 10\n",
        "booleano = True # False\n",
        "decimal = 10.5\n",
        "lista = [1,2,3,4,5,'a',False]\n",
        "tupla = (1,2,3,4,5)\n",
        "conjunto = {'a','b','c','d','e'}\n",
        "diccionario = {\n",
        "    'a': 1,\n",
        "    'b': 'cadena',\n",
        "    'c': [1,2,3],\n",
        "    'd': 1.6\n",
        "    }\n",
        "\n",
        "print(cadena)"
      ]
    },
    {
      "cell_type": "code",
      "execution_count": 11,
      "metadata": {
        "colab": {
          "base_uri": "https://localhost:8080/"
        },
        "id": "8T80OIxCtuoV",
        "outputId": "ebf811b5-9ea8-4e56-96fa-89ee834b8c1f"
      },
      "outputs": [
        {
          "name": "stdout",
          "output_type": "stream",
          "text": [
            "{1, 2, 3, 'a'}\n"
          ]
        }
      ],
      "source": [
        "conjunto = {'a', 1, 1, 2, 3, 'a'}\n",
        "print(conjunto)"
      ]
    },
    {
      "cell_type": "code",
      "execution_count": 12,
      "metadata": {
        "colab": {
          "base_uri": "https://localhost:8080/"
        },
        "id": "lwff2XwUuAye",
        "outputId": "68325b7b-cacf-4aa3-93c2-66d9edcba852"
      },
      "outputs": [
        {
          "name": "stdout",
          "output_type": "stream",
          "text": [
            "['a', 1, 1, 2, 3, 'a']\n"
          ]
        }
      ],
      "source": [
        "listas = ['a', 1, 1, 2, 3, 'a']\n",
        "print(listas)"
      ]
    },
    {
      "cell_type": "markdown",
      "metadata": {
        "id": "yF4ZVSOz_77R"
      },
      "source": [
        "## 4. Asignación de variables\n",
        "\n",
        "Para trabajar con variables en python, debemos comprender que estas deben cumplir las siguientes reglas:\n",
        "- El nombre de una variable debe comenzar con una letra o un guión al piso (_)\n",
        "- El nombre de una variable no puede comenzar con un número\n",
        "- El nombre de una variable solo debe contener caracteres alfa numéricos y guiones al piso (_)\n",
        "- Los nombre de las variables son sensibles al uso de las mayúsculas y minúsculas: `age`, `Age` y `AGE` son tres variables diferentes"
      ]
    },
    {
      "cell_type": "markdown",
      "metadata": {
        "id": "NZYRQZdOkSHC"
      },
      "source": [
        "### 4.1 Asignación dinámica\n",
        "\n",
        "```python\n",
        "nombre_variable = 10\n",
        "```"
      ]
    },
    {
      "cell_type": "code",
      "execution_count": null,
      "metadata": {
        "id": "hzaRIGLW_66Y"
      },
      "outputs": [],
      "source": [
        "# Creación de una variable con nombre compuesto: 2 palabras separadas\n",
        "# por un espacio. El resultado: error!\n",
        "lista numeros = [1,2,3]"
      ]
    },
    {
      "cell_type": "code",
      "execution_count": null,
      "metadata": {
        "id": "9Hv1zBDIBTcK"
      },
      "outputs": [],
      "source": [
        "# Creación de una variable con nombre compuesto: 2 palabras separadas\n",
        "# por un guión al piso. El resultado: correcto!\n",
        "lista_numeros = [1,2,3]\n",
        "\n",
        "print(lista_numeros)"
      ]
    },
    {
      "cell_type": "code",
      "execution_count": 14,
      "metadata": {
        "colab": {
          "base_uri": "https://localhost:8080/"
        },
        "id": "NQlFoFToBcYh",
        "outputId": "27ab9447-b538-4c0b-bf49-b032903ab89d"
      },
      "outputs": [
        {
          "name": "stdout",
          "output_type": "stream",
          "text": [
            "10\n",
            "asdf\n"
          ]
        }
      ],
      "source": [
        "# También es posible declarar multiples variables en un solo renglón.\n",
        "# Separando cada declaración con ; (punto y coma)\n",
        "var1=10 ; var2='asdf'\n",
        "\n",
        "print(var1)\n",
        "print(var2)"
      ]
    },
    {
      "cell_type": "code",
      "execution_count": 16,
      "metadata": {
        "colab": {
          "base_uri": "https://localhost:8080/"
        },
        "id": "ZsHt-CcOu2gB",
        "outputId": "7f6e3668-3adc-4218-f681-6e0dff5c544e"
      },
      "outputs": [
        {
          "name": "stdout",
          "output_type": "stream",
          "text": [
            "10\n",
            "asdf\n"
          ]
        }
      ],
      "source": [
        "print(var1, var2, sep='\\n')"
      ]
    },
    {
      "cell_type": "markdown",
      "metadata": {
        "id": "30JhobMaB2g5"
      },
      "source": [
        "### 4.2 Asignación por referencia\n",
        "\n",
        "- La refenciación es opcional\n",
        "- La refenciación no es restrictiva\n",
        "- Se usa para una mejor comprensión del código\n",
        "- Aplica tambien para funciones y clases\n",
        "\n",
        "Definir una variable de esta forma requiere indicar el nombre de la variable seguido por el tipo de variable que es:\n",
        "\n",
        "```python\n",
        "nombre_variable:str = 'string'\n",
        "```"
      ]
    },
    {
      "cell_type": "code",
      "execution_count": 17,
      "metadata": {
        "id": "PMCIUIvmDTXv"
      },
      "outputs": [],
      "source": [
        "# Cada variable que vamos a definir, la vamos a acompañar con el tipo de\n",
        "# variable que es\n",
        "cadena:str = \"'hola mundo'\"\n",
        "entero:int = 10\n",
        "booleano:bool = True # False"
      ]
    },
    {
      "cell_type": "code",
      "execution_count": 19,
      "metadata": {
        "colab": {
          "base_uri": "https://localhost:8080/"
        },
        "id": "xdDEUitwvSPA",
        "outputId": "10664742-4be2-4b1b-d938-d2e2a0c90c57"
      },
      "outputs": [
        {
          "name": "stdout",
          "output_type": "stream",
          "text": [
            "10 <class 'int'>\n"
          ]
        }
      ],
      "source": [
        "mi_cadena:str = 10\n",
        "print(mi_cadena, type(mi_cadena))"
      ]
    },
    {
      "cell_type": "markdown",
      "metadata": {
        "id": "hsaXN_OJGMeg"
      },
      "source": [
        "### 4.3 Definicion por constructor\n",
        "\n",
        "casteo = convertir un tipo de dato a otro\n",
        "\n",
        "- Es el famoso casteo\n",
        "- Se usa para inferencia de datos\n",
        "- Sólo se recomienda usar cuando tenga que transformar los tipos de datos\n",
        "- Se usa `tipo_dato(valor_a_convertir)`\n",
        "- Tener mucho cuidado cuando se castea, por que la referencia de dato tiene que ser soportada\n",
        "\n",
        "```python\n",
        "nombre_variable = float('10.5')\n",
        "```"
      ]
    },
    {
      "cell_type": "code",
      "execution_count": null,
      "metadata": {
        "id": "c-cJJRqxGXZL"
      },
      "outputs": [],
      "source": [
        "# Creamos una variable de tipo cadena pero con un valor numérico\n",
        "valor1 = '10'\n",
        "print(type(valor1))"
      ]
    },
    {
      "cell_type": "code",
      "execution_count": 21,
      "metadata": {
        "colab": {
          "base_uri": "https://localhost:8080/"
        },
        "id": "n-DAnEQrHv1c",
        "outputId": "f1a5167e-1f03-459e-b742-75bc99fe3db8"
      },
      "outputs": [
        {
          "name": "stdout",
          "output_type": "stream",
          "text": [
            "<class 'int'> <class 'str'>\n"
          ]
        }
      ],
      "source": [
        "# En la definición por constructor, vamos que aunque la definamos como\n",
        "# una cadena, al realizar el casteo el tipo de dato es entero\n",
        "valor1 = int('10')\n",
        "print(type(valor1), type('10'))"
      ]
    },
    {
      "cell_type": "code",
      "execution_count": 22,
      "metadata": {
        "colab": {
          "base_uri": "https://localhost:8080/"
        },
        "id": "fMd8u01QHvsX",
        "outputId": "0b835ab7-9c58-48ea-8b3a-b933ccf393cd"
      },
      "outputs": [
        {
          "name": "stdout",
          "output_type": "stream",
          "text": [
            "<class 'float'>\n"
          ]
        }
      ],
      "source": [
        "# Esto también aplica para los valores de tipo flotante\n",
        "valor2 = float('3.1416')\n",
        "print(type(valor2))"
      ]
    },
    {
      "cell_type": "code",
      "execution_count": 30,
      "metadata": {
        "colab": {
          "base_uri": "https://localhost:8080/"
        },
        "id": "U_8RqTmav47o",
        "outputId": "537959d7-6e0f-4837-9eaa-f57dde9b8fef"
      },
      "outputs": [
        {
          "name": "stdout",
          "output_type": "stream",
          "text": [
            "Escriba su nombre: 2.5\n"
          ]
        }
      ],
      "source": [
        "nombre = int(float(input('Escriba su nombre: ')))"
      ]
    },
    {
      "cell_type": "code",
      "execution_count": 31,
      "metadata": {
        "colab": {
          "base_uri": "https://localhost:8080/"
        },
        "id": "KEOLMdlQwDFV",
        "outputId": "d9bcbcbf-1f0a-45af-9aa0-9d361f557d59"
      },
      "outputs": [
        {
          "name": "stdout",
          "output_type": "stream",
          "text": [
            "<class 'int'>\n",
            "2\n"
          ]
        }
      ],
      "source": [
        "print(type(nombre), nombre, sep='\\n')"
      ]
    },
    {
      "cell_type": "code",
      "execution_count": null,
      "metadata": {
        "id": "luxfHnVgIDy2"
      },
      "outputs": [],
      "source": [
        "# Sin embargo si intentamos castear una expresión incorrecta tendremos un\n",
        "# mensaje de error\n",
        "valor3 = float('3.1f')\n",
        "print(type(valor3)) # try/except"
      ]
    },
    {
      "cell_type": "code",
      "execution_count": 34,
      "metadata": {
        "colab": {
          "base_uri": "https://localhost:8080/"
        },
        "id": "FHKWDQBZIXe6",
        "outputId": "f66f2506-799d-4c72-dc4e-7e089189baca"
      },
      "outputs": [
        {
          "name": "stdout",
          "output_type": "stream",
          "text": [
            "<class 'bool'> True\n"
          ]
        }
      ],
      "source": [
        "valor4 = bool(4)\n",
        "print(type(valor4), valor4)"
      ]
    },
    {
      "cell_type": "code",
      "execution_count": 38,
      "metadata": {
        "colab": {
          "base_uri": "https://localhost:8080/"
        },
        "id": "1ZHaZGCJJGHV",
        "outputId": "b49fd480-37b9-42a2-fff4-8a983bcba594"
      },
      "outputs": [
        {
          "name": "stdout",
          "output_type": "stream",
          "text": [
            "[1, 2, 3] <class 'list'>\n"
          ]
        }
      ],
      "source": [
        "tuplas = list((1,2,3))\n",
        "print(tuplas, type(tuplas))"
      ]
    },
    {
      "cell_type": "code",
      "execution_count": 37,
      "metadata": {
        "colab": {
          "base_uri": "https://localhost:8080/"
        },
        "id": "Bg14yZsxJXxr",
        "outputId": "ba79e6ee-58e3-4f38-abe0-909d44cc6a1a"
      },
      "outputs": [
        {
          "name": "stdout",
          "output_type": "stream",
          "text": [
            "(1, 2, 3) <class 'tuple'>\n"
          ]
        }
      ],
      "source": [
        "tuplas2 = tuple([1,2,3])\n",
        "print(tuplas2, type(tuplas2))"
      ]
    },
    {
      "cell_type": "code",
      "execution_count": 41,
      "metadata": {
        "colab": {
          "base_uri": "https://localhost:8080/"
        },
        "id": "9tKn5V4Aym97",
        "outputId": "c69514d6-bb2e-4707-dd55-78e8e9b0e1d2"
      },
      "outputs": [
        {
          "name": "stdout",
          "output_type": "stream",
          "text": [
            "{1, 2, 3, 4} <class 'set'>\n"
          ]
        }
      ],
      "source": [
        "conjunto = set( [1,2,3,2,3,4] )\n",
        "print(conjunto, type(conjunto))"
      ]
    },
    {
      "cell_type": "code",
      "execution_count": null,
      "metadata": {
        "id": "2aWuTntxyQdc"
      },
      "outputs": [],
      "source": [
        "diccionarios = {'llave': 'valor'}"
      ]
    },
    {
      "cell_type": "code",
      "execution_count": null,
      "metadata": {
        "id": "8_AwnpFLKQKx"
      },
      "outputs": [],
      "source": [
        "diccionario_nuevo = dict(\n",
        "    a = 1,\n",
        "    b = 'cadena',\n",
        "    c = [1,2,3],\n",
        "    d = 1\n",
        ")\n",
        "\n",
        "print(diccionario_nuevo, type(diccionario_nuevo))"
      ]
    },
    {
      "cell_type": "markdown",
      "metadata": {
        "id": "kqg5pJXzLh7f"
      },
      "source": [
        "## Actividad\n",
        "\n",
        "Crear las variables apropiadas para:\n",
        "- Nombre Elemento\n",
        "- Precio\n",
        "- Cantidad del Inventario"
      ]
    },
    {
      "cell_type": "code",
      "execution_count": null,
      "metadata": {
        "id": "vsMT1LnBw2T1"
      },
      "outputs": [],
      "source": [
        "# Creación de variables por referencia\n",
        "nombre_elemento:str = \"vaso\"\n",
        "precio:float = 100.5\n",
        "cantidad_inventario:int = 4"
      ]
    }
  ],
  "metadata": {
    "colab": {
      "provenance": []
    },
    "kernelspec": {
      "display_name": "Python 3",
      "name": "python3"
    },
    "language_info": {
      "name": "python",
      "version": "3.9.18"
    }
  },
  "nbformat": 4,
  "nbformat_minor": 0
}
