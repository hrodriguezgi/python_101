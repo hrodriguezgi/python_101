{
 "cells": [
  {
   "cell_type": "markdown",
   "metadata": {},
   "source": [
    "# Manejo de Python"
   ]
  },
  {
   "cell_type": "markdown",
   "metadata": {},
   "source": [
    "## Formateo cadenas\n",
    "\n",
    "Python cuenta con diferentes métodos para ejecutar el formateo de una cadena de\n",
    "texto las cuales son:\n",
    "\n",
    "### 1. Formateo utilizando `%`\n",
    "También es conocido como **'operador formateo de cadena'**.\n",
    "\n",
    "Ejemplo:\n",
    "\n",
    "```python\n",
    ">>> x = 'con'\n",
    ">>> print(\"Camilo %s futbol %s sus amigos\"%('juega',x))\n",
    "Camilo juega futbol con sus amigos\n",
    "```\n",
    "\n",
    "Para tener en cuenta:\n",
    "- `%s`: es utilizado para valores de cadena\n",
    "- `%d`: es utilizado para valores enteros\n",
    "- `%f`: es utilizado para valores flotantes.\n",
    "\n",
    "Ejemplo:\n",
    "\n",
    "```python\n",
    ">>> print('%s tiene %d perros' %('Carlos', 4))\n",
    "Carlos tiene 4 perros\n",
    "```\n",
    "\n",
    "```python\n",
    ">>> print('El valor de PI es de %f' %(3.141593))\n",
    "El valor de PI es de 3.141593\n",
    "```"
   ]
  },
  {
   "cell_type": "code",
   "execution_count": 10,
   "metadata": {},
   "outputs": [
    {
     "name": "stdout",
     "output_type": "stream",
     "text": [
      "Camilo juega futbol con sus 3 amigos\n"
     ]
    }
   ],
   "source": [
    "valores = ['juega', 3, 'con']\n",
    "print(\"Camilo %s futbol %s sus %d amigos\" %(valores[0], valores[2], valores[1]))"
   ]
  },
  {
   "cell_type": "markdown",
   "metadata": {},
   "source": [
    "### 2. Formateo utilizando el método `format()`\n",
    "Este método funciona colocando uno o mas campos de remplazo, y estos deben estar\n",
    "definidos por los carácteres '{}', y posteriormente llamar al método `.format()`\n",
    "\n",
    "Ejemplo:\n",
    "\n",
    "```python\n",
    ">>> print('{} tiene {} perros'.format('Carlos', 4))\n",
    "Carlos tiene 4 perros\n",
    "```\n",
    "\n",
    "Este método también otras ventajas como:\n",
    "\n",
    "#### 2.1 Inserción de datos por posición:\n",
    "\n",
    "```python\n",
    ">>> print('{1} tiene {0} perros'.format(4, 'Carlos'))\n",
    "Carlos tiene 4 perros\n",
    "```\n",
    "\n",
    "#### 2.2 Inserción de datos por llaves (permite también el reuso):\n",
    "\n",
    "```python\n",
    ">>> print('{nombre} tiene {valor} perros'.format(nombre='Carlos', valor=4))\n",
    "Carlos tiene 4 perros\n",
    "```"
   ]
  },
  {
   "cell_type": "code",
   "execution_count": 16,
   "metadata": {},
   "outputs": [
    {
     "name": "stdout",
     "output_type": "stream",
     "text": [
      "4 tiene Coco perros. Uno de ellos se llama Carlos\n"
     ]
    }
   ],
   "source": [
    "print('{1} tiene {2} perros. Uno de ellos se llama {0}'.\\\n",
    "      format('Carlos', 4, 'Coco'))"
   ]
  },
  {
   "cell_type": "markdown",
   "metadata": {},
   "source": [
    "### 3. Formateo utilizando los `F-strings`\n",
    "Conocido de esta forma debido a que se precede el caracter `f` al inicio de la\n",
    "cadena. Este método es similar a `format()`. \n",
    "\n",
    "Ejemplo:\n",
    "\n",
    "```python\n",
    ">>> nombre='CARLOS'\n",
    ">>> valor=4\n",
    ">>> print(f'{nombre.title()} tiene {valor} perros')\n",
    "Carlos tiene 4 perros\n",
    "```"
   ]
  },
  {
   "cell_type": "code",
   "execution_count": 24,
   "metadata": {},
   "outputs": [
    {
     "name": "stdout",
     "output_type": "stream",
     "text": [
      "EDUARD tiene 1 perros\n",
      "Eduard 3\n"
     ]
    }
   ],
   "source": [
    "nombre = 'Eduard'\n",
    "cantidad_perros = 3\n",
    "\n",
    "PI = 3.14\n",
    "\n",
    "print(f'{nombre.upper()} tiene {int(cantidad/3)} perros')\n",
    "print(nombre, cantidad)"
   ]
  },
  {
   "cell_type": "markdown",
   "metadata": {},
   "source": [
    "### 4. Formateo de números\n",
    "Los valores numéricos en python también pueden ser impresos haciendo uso del\n",
    "método `format()` o `F-strings`. Con ayuda de la siguiente tabla, podemos revisar\n",
    "los diferentes formatos que pueden ser utilizados:\n",
    "\n",
    "| Número | Formato | Salida | Descripción\n",
    "|--------|-------|--------|------------\n",
    "| `3.1415926` | `{:.2f}` | `3.14` | Formato flotante con 2 decimales\n",
    "| `3.1415926` | `{:+.2f}` | `+3.14` | Formato flotante con 2 decimales con signo\n",
    "| `-1` | `{:+.2f}` | `-1.00` | Formato flotante con 2 decimales con signo\n",
    "| `2.71828` | `{:.0f}` | `3` | Formato flotante con sin decimales\n",
    "| `5` | `{:0>2d}` | `05` | Completar hasta tener 2 caracteres con ceros a la izquierda\n",
    "| `5` | `{:x<4d}` | `5xxx` | Completar hasta tener 4 caracteres con 'x' a la derecha\n",
    "| `1000000` | `{:,}` | `1,000,000` | Formato numérico con coma como separador\n",
    "| `0.25` | `{:.2%}` | `25.00%` | Formato porcentaje\n",
    "| `1000000000` | `{:.2e}` | `1.00e+09` | Notación exponencial\n",
    "| `13` | `{:10d}` | `        13` | Alineado a la derecha hasta completar 10 caracteres\n",
    "| `13` | `{:<10d}` | `13        ` | Alineado a la izquierda hasta completar 10 caracteres\n",
    "| `13` | `{:^10d}` | `    13    ` | Alineado al centro hasta completar 10 caracteres\n",
    "\n",
    "Ejemplo:\n",
    "\n",
    "```python\n",
    ">>> figura = 'circulo'\n",
    ">>> area = '2 x pi x r^2'\n",
    ">>> print(f'El area del {figura} es igual a {area}')\n",
    "El area del circulo es igual a 2 x pi x r^2\n",
    ">>> radio = 10\n",
    ">>> from math import pi\n",
    ">>> print(f'El area del {figura} de radio = {radio} es de {2*pi*(radio**2):.2f}')\n",
    "El area del circulo de radio = 10 es de 628.32\n",
    "```\n",
    "\n",
    "Del ejemplo anterior, se puede ver como dentro de un `F-string` pueden ser\n",
    "llevadas a cabo operaciones de python"
   ]
  },
  {
   "cell_type": "code",
   "execution_count": 40,
   "metadata": {},
   "outputs": [
    {
     "name": "stdout",
     "output_type": "stream",
     "text": [
      "3\n"
     ]
    }
   ],
   "source": [
    "var = 2.41824\n",
    "print(f'{var:.0f}')"
   ]
  },
  {
   "cell_type": "code",
   "execution_count": 41,
   "metadata": {},
   "outputs": [
    {
     "name": "stdout",
     "output_type": "stream",
     "text": [
      "Help on method_descriptor:\n",
      "\n",
      "zfill(self, width, /)\n",
      "    Pad a numeric string with zeros on the left, to fill a field of the given width.\n",
      "    \n",
      "    The string is never truncated.\n",
      "\n"
     ]
    }
   ],
   "source": [
    "help(str.zfill)"
   ]
  },
  {
   "cell_type": "code",
   "execution_count": 42,
   "metadata": {},
   "outputs": [
    {
     "name": "stdout",
     "output_type": "stream",
     "text": [
      "000000casa\n"
     ]
    }
   ],
   "source": [
    "print('casa'.zfill(10))"
   ]
  }
 ],
 "metadata": {
  "kernelspec": {
   "display_name": "cedesistemas",
   "language": "python",
   "name": "python3"
  },
  "language_info": {
   "codemirror_mode": {
    "name": "ipython",
    "version": 3
   },
   "file_extension": ".py",
   "mimetype": "text/x-python",
   "name": "python",
   "nbconvert_exporter": "python",
   "pygments_lexer": "ipython3",
   "version": "3.9.0"
  }
 },
 "nbformat": 4,
 "nbformat_minor": 2
}
