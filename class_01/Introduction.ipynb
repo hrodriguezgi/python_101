{
  "cells": [
    {
      "cell_type": "markdown",
      "metadata": {
        "id": "ImDKeyZ5k0xD"
      },
      "source": [
        "# Introducción a Python\n",
        "\n",
        "Python fue concebido por Guido Van Rossum. Inicialmente concebido como un hobby, y por su versatilidad se llegó a convertir en un lenguaje de programación de propósito general. \n",
        "\n",
        "![Guido Van Rossum](guido_van_rossum.jpeg)\n",
        "\n",
        "Hoy en día es utilizado para construir practicament cualquier tipo de software, esto debido a:\n",
        "\n",
        "- Python es open source osea que su uso es libre\n",
        "- Es muy fácil construir paquetes, esto permite compartir código con otras personas\n",
        "\n",
        "Actualmente Python cuenta con diferentes librerías que han sido desarrolladas por personas de todo el mundo que permiten realizar conexiones a base de datos, crear gráficos para analizar datos, entre otras cosas."
      ]
    },
    {
      "cell_type": "markdown",
      "metadata": {},
      "source": []
    },
    {
      "cell_type": "code",
      "execution_count": 2,
      "metadata": {
        "id": "Wg0t5s6okQpK"
      },
      "outputs": [],
      "source": [
        "# comentario unilinea"
      ]
    },
    {
      "cell_type": "code",
      "execution_count": 3,
      "metadata": {
        "id": "xAL-nE1cl9_q"
      },
      "outputs": [
        {
          "data": {
            "text/plain": [
              "'\\nes  un\\ncomentario\\nmulti\\nlinea\\n'"
            ]
          },
          "execution_count": 3,
          "metadata": {},
          "output_type": "execute_result"
        }
      ],
      "source": [
        "# comentario multilinea\n",
        "# definir variables con valores multilinea\n",
        "# documentación de funcion | NC\n",
        "\"\"\"\n",
        "es  un\n",
        "comentario\n",
        "multi\n",
        "linea\n",
        "\"\"\""
      ]
    },
    {
      "cell_type": "markdown",
      "metadata": {
        "id": "SSTxyDyrmaQS"
      },
      "source": [
        "**TIPOS DE DATOS**\n",
        "\n",
        "```\n",
        "\n",
        "# tipos de variables a trabajar\n",
        "\n",
        "1.   texto o strings       | str\n",
        "2.   enteros o integers    | int\n",
        "3.   booleanos             | bool\n",
        "4.   flotantes o decimales | float\n",
        "5.   listas                | list  \n",
        "6.   tuplas                | tuple\n",
        "7.   lambdas               | function\n",
        "8.   diccionarios          | dict\n",
        "\n",
        "\n",
        "# para definir variables hay tres formas:\n",
        "1. dinamicamente\n",
        "2. referencia\n",
        "3. constructor\n",
        "\n",
        "```"
      ]
    },
    {
      "cell_type": "markdown",
      "metadata": {
        "id": "Wuk5gySYnhXX"
      },
      "source": [
        "# **1 Definición dinamica**"
      ]
    },
    {
      "cell_type": "code",
      "execution_count": 4,
      "metadata": {
        "id": "iSV91TavngQq"
      },
      "outputs": [
        {
          "data": {
            "text/plain": [
              "'\\nNota:\\n\\nlos nombres de las variables no deben tener espacios y deben iniciar con minusca(esta ultima parte por buenas practicas)\\n\\nnombre completo= malo\\nbueno:\\n  nombre_complete\\n  nombreCompleto\\n\\n  Nota:\\n\\n  NombreCompleto: funciona, pero en estandar internacional de programación, lo que empieza con mayuscula\\n                   se entiende que es una clase\\n\\n'"
            ]
          },
          "execution_count": 4,
          "metadata": {},
          "output_type": "execute_result"
        }
      ],
      "source": [
        "# nombre_variable = valor encerrado en comillas simples o dobles\n",
        "\"\"\"\n",
        "Nota:\n",
        "\n",
        "los nombres de las variables no deben tener espacios y deben iniciar con minuscula (esta ultima parte por buenas practicas)\n",
        "\n",
        "nombre completo= malo\n",
        "bueno:\n",
        "  nombre_complete\n",
        "  nombreCompleto\n",
        "\n",
        "  Nota:\n",
        "\n",
        "NombreCompleto: funciona, pero en estandar internacional de programación, lo que empieza con mayuscula se entiende que es una clase\n",
        "\n",
        "\"\"\""
      ]
    },
    {
      "cell_type": "code",
      "execution_count": 5,
      "metadata": {
        "id": "I7mzi4cqoO1Y"
      },
      "outputs": [],
      "source": [
        "# texto, siempre el valor debe estar dentro de comilla simple o doble\n",
        "nombre = \"python\"\n",
        "nombre_curso = 'python'\n",
        "nombreCurso = 'python'"
      ]
    },
    {
      "cell_type": "code",
      "execution_count": 6,
      "metadata": {
        "colab": {
          "base_uri": "https://localhost:8080/"
        },
        "id": "4yGUYqiZo7Xh",
        "outputId": "67c6d5f0-67ad-40fa-e20a-685519558943"
      },
      "outputs": [
        {
          "name": "stdout",
          "output_type": "stream",
          "text": [
            "python\n"
          ]
        }
      ],
      "source": [
        "# imprimir forma 1 | univariable\n",
        "print(nombre)"
      ]
    },
    {
      "cell_type": "code",
      "execution_count": 7,
      "metadata": {
        "colab": {
          "base_uri": "https://localhost:8080/"
        },
        "id": "7JW-uVILpFoQ",
        "outputId": "6e9b5fd4-07ec-422a-ebd4-9cdda71d63a3"
      },
      "outputs": [
        {
          "name": "stdout",
          "output_type": "stream",
          "text": [
            "python  - :) -  python\n"
          ]
        }
      ],
      "source": [
        "# imprimir forma 2 | multivariable(separado por coma)\n",
        "print(nombre,\" - :) - \",nombre_curso)"
      ]
    },
    {
      "cell_type": "code",
      "execution_count": 8,
      "metadata": {
        "colab": {
          "base_uri": "https://localhost:8080/"
        },
        "id": "_IhzaKRDpfKi",
        "outputId": "96418d35-d67b-4ca4-d6bb-ec8b14f89c55"
      },
      "outputs": [
        {
          "name": "stdout",
          "output_type": "stream",
          "text": [
            "........\n",
            "1. type por variable :  <class 'str'>\n",
            "2. type anonimo      :  <class 'str'>\n",
            "3. type por variable :  <class 'int'>\n",
            "4. type por variable :  <class 'float'>\n",
            "5. type por variable :  <class 'bool'>\n"
          ]
        }
      ],
      "source": [
        "\"\"\"\n",
        "para saber la variable de que tipo es, se puede:\n",
        "\n",
        "1. mirar mirar la asignación  variable=\"pepito\"\n",
        "2. usando type\n",
        "3. en algunos casos imprimiendola\n",
        "4. isinstanceof --> secciones avanzadas\n",
        "\n",
        "\n",
        "recomendación : usar nemotecnica, es decir nombrar las variables con sentido\n",
        "\n",
        "resutado_suma [recomendado]\n",
        "x             [no recomendado]\n",
        "\"\"\"\n",
        "\n",
        "variable = \"........\"\n",
        "print(variable)\n",
        "\n",
        "# funcion llamada type\n",
        "print(\"1. type por variable : \",type(variable))\n",
        "print(\"2. type anonimo      : \",type(\"pepito\"))\n",
        "\n",
        "# comprobando tipado dinamico\n",
        "\n",
        "variable = 1\n",
        "print(\"3. type por variable : \",type(variable))\n",
        "\n",
        "variable = 1.0\n",
        "print(\"4. type por variable : \",type(variable))\n",
        "\n",
        "variable = False\n",
        "print(\"5. type por variable : \",type(variable))"
      ]
    },
    {
      "cell_type": "code",
      "execution_count": 9,
      "metadata": {
        "colab": {
          "base_uri": "https://localhost:8080/"
        },
        "id": "dcyVmipvpmvx",
        "outputId": "95aac0cc-ebe4-4a8b-86b7-018b22e3250f"
      },
      "outputs": [
        {
          "name": "stdout",
          "output_type": "stream",
          "text": [
            "1. comillas dobles           :  hola 'bancolombia'\n",
            "2. comillas simples          :  hola \"bancolombia\"\n",
            "3. comillas simples variable :  hola \"bancolombia\"\n",
            "4. comillas dobles  variable :  hola 'bancolombia'\n"
          ]
        }
      ],
      "source": [
        "# por que los strings se pueden abrir con simples o dobles, o es mismo?\n",
        "# si quiere agregar comillas dobles en la cadena, debe estar encerrada en simples\n",
        "# si quiere agregar comillas simples en la cadena, debe estar encerrada en dobles\n",
        "print(\"1. comillas dobles           : \",\"hola 'bancolombia'\")\n",
        "print(\"2. comillas simples          : \",'hola \"bancolombia\"')\n",
        "comilllas_simples = 'hola \"bancolombia\"'\n",
        "comillas_dobles = \"hola 'bancolombia'\"\n",
        "print(\"3. comillas simples variable : \",comilllas_simples)\n",
        "print(\"4. comillas dobles  variable : \",comillas_dobles)"
      ]
    },
    {
      "cell_type": "code",
      "execution_count": 10,
      "metadata": {
        "id": "MElO0ihfQCzO"
      },
      "outputs": [],
      "source": [
        "texto = \"hola!!\"\n",
        "\n",
        "entero = 1\n",
        "# True | False\n",
        "booleana = True\n",
        "\n",
        "decimal = 3.1416\n",
        "\n",
        "lista = [1,2,3] # acceso por indice \n",
        "\n",
        "# las tuplas son inmutables = no se puede modificar despues de definidas\n",
        "tuplas = (1,2,3) # acceso por indice\n",
        "\n",
        "diccionarios = {\"listas\": [1,2,3], \"tuplas\": (1,2,3)} # acceso por llave\n",
        "# listas, tuplas y diccionarios, si es mayor a un elemento van separados por ,"
      ]
    },
    {
      "cell_type": "code",
      "execution_count": 11,
      "metadata": {
        "colab": {
          "base_uri": "https://localhost:8080/"
        },
        "id": "b4sIATwWSMDX",
        "outputId": "cd46271b-c1b1-43cc-a2f0-a59688373e3d"
      },
      "outputs": [
        {
          "name": "stdout",
          "output_type": "stream",
          "text": [
            "1. texto            :  <class 'str'> hola!!\n",
            "2. entero           :  <class 'int'> 1\n",
            "3. booleana         :  <class 'bool'> True\n",
            "4. decimal          :  <class 'float'> 3.1416\n",
            "5. lista            :  <class 'list'> [1, 2, 3]\n",
            "6. rupla            :  <class 'tuple'> (1, 2, 3)\n",
            "7. diccionario      :  <class 'dict'> {'listas': [1, 2, 3], 'tuplas': (1, 2, 3)}\n"
          ]
        }
      ],
      "source": [
        "print(\"1. texto            : \",type(texto),texto)\n",
        "print(\"2. entero           : \",type(entero),entero)\n",
        "print(\"3. booleana         : \",type(booleana),booleana)\n",
        "print(\"4. decimal          : \",type(decimal),decimal)\n",
        "print(\"5. lista            : \",type(lista),lista)\n",
        "print(\"6. rupla            : \",type(tuplas),tuplas)\n",
        "print(\"7. diccionario      : \",type(diccionarios), diccionarios)"
      ]
    },
    {
      "cell_type": "markdown",
      "metadata": {
        "id": "nt0Gnq5lUCdx"
      },
      "source": [
        "# **2 Definición por referencia**\n",
        "\n",
        "\n",
        "1.   La refenciación es opcional\n",
        "2.   La refenciación no es restrictiva\n",
        "3.   se usa para una mejor comprensión del código\n",
        "4.   aplica tambien para funciones y clases\n",
        "\n"
      ]
    },
    {
      "cell_type": "code",
      "execution_count": 12,
      "metadata": {
        "id": "2Up9-glBVCHU"
      },
      "outputs": [
        {
          "ename": "SyntaxError",
          "evalue": "EOF while scanning triple-quoted string literal (1858366733.py, line 9)",
          "output_type": "error",
          "traceback": [
            "\u001b[0;36m  Input \u001b[0;32mIn [12]\u001b[0;36m\u001b[0m\n\u001b[0;31m    codigo = getReponseApi()\u001b[0m\n\u001b[0m                            \n^\u001b[0m\n\u001b[0;31mSyntaxError\u001b[0m\u001b[0;31m:\u001b[0m EOF while scanning triple-quoted string literal\n"
          ]
        }
      ],
      "source": [
        "\"\"\"\n",
        "antes\n",
        "\n",
        "codigo = getReponseApi()\n",
        "\n",
        "despues\n",
        "\n",
        "codigo:str = \"\"\n",
        "codigo = getReponseApi()"
      ]
    },
    {
      "cell_type": "code",
      "execution_count": 13,
      "metadata": {
        "id": "i00pghMnUJzx"
      },
      "outputs": [],
      "source": [
        "\n",
        "# 1.   La refenciación es opcional\n",
        "codigo:str = \"hola!!\"\n",
        "\n",
        "entero:int = 1\n",
        "\n",
        "# True | False\n",
        "booleana:bool = True\n",
        "\n",
        "decimal:float = 3.1416\n",
        "\n",
        "lista:list = [1,2,3] # acceso por indice \n",
        "\n",
        "# las tuplas son inmutables = no se puede modificar despues de definidas\n",
        "tuplas:tuple = (1,2,3) # acceso por indice\n",
        "\n",
        "diccionarios:dict = {\"listas\": [1,2,3], \"tuplas\": (1,2,3)} # acceso por llave"
      ]
    },
    {
      "cell_type": "code",
      "execution_count": 14,
      "metadata": {
        "colab": {
          "base_uri": "https://localhost:8080/"
        },
        "id": "3nRNz-STULnR",
        "outputId": "f6acdd2c-3087-4788-9b4d-12eef3574b52"
      },
      "outputs": [
        {
          "name": "stdout",
          "output_type": "stream",
          "text": [
            "1. texto            :  <class 'str'> hola!!\n",
            "2. entero           :  <class 'int'> 1\n",
            "3. booleana         :  <class 'bool'> True\n",
            "4. decimal          :  <class 'float'> 3.1416\n",
            "5. lista            :  <class 'list'> [1, 2, 3]\n",
            "6. rupla            :  <class 'tuple'> (1, 2, 3)\n",
            "7. diccionario      :  <class 'dict'> {'listas': [1, 2, 3], 'tuplas': (1, 2, 3)}\n"
          ]
        }
      ],
      "source": [
        "print(\"1. texto            : \",type(codigo),codigo)\n",
        "print(\"2. entero           : \",type(entero),entero)\n",
        "print(\"3. booleana         : \",type(booleana),booleana)\n",
        "print(\"4. decimal          : \",type(decimal),decimal)\n",
        "print(\"5. lista            : \",type(lista),lista)\n",
        "print(\"6. rupla            : \",type(tuplas),tuplas)\n",
        "print(\"7. diccionario      : \",type(diccionarios), diccionarios)"
      ]
    },
    {
      "cell_type": "code",
      "execution_count": 15,
      "metadata": {
        "colab": {
          "base_uri": "https://localhost:8080/"
        },
        "id": "zk8qPtwlVzwt",
        "outputId": "064cbebf-081e-4153-a4f3-9957c1c6df68"
      },
      "outputs": [
        {
          "name": "stdout",
          "output_type": "stream",
          "text": [
            "3.1416 <class 'float'>\n"
          ]
        }
      ],
      "source": [
        "# la inferencia no es restrictivo \n",
        "texto:str = 3.1416\n",
        "print(texto, type(texto))"
      ]
    },
    {
      "cell_type": "code",
      "execution_count": 16,
      "metadata": {
        "colab": {
          "base_uri": "https://localhost:8080/"
        },
        "id": "T0lH2IXHYYsA",
        "outputId": "4140ca63-5d27-4838-eb1f-79a09c427a11"
      },
      "outputs": [
        {
          "name": "stdout",
          "output_type": "stream",
          "text": [
            "3.1416 <class 'float'>\n"
          ]
        }
      ],
      "source": [
        "# la inferencia no es restrictivo\n",
        "texto:str = 3.1416\n",
        "print(texto, type(texto))"
      ]
    },
    {
      "cell_type": "markdown",
      "metadata": {
        "id": "caHeNmVcZFPM"
      },
      "source": [
        "# **3 Definición por constructor**\n",
        "\n",
        "casteo = convertir un tipo de dato a otro\n",
        "\n",
        "1.   Es el famomo casteo\n",
        "2.   Se usa para inferencia de datos\n",
        "3.   solo se recomienda usar  cuando tenga que transformar los tipos de datos\n",
        "4.   se usa tipo_dato(valor_a_convertir)\n",
        "5.   tener mucho cuidado cuando se castea, por que la referencia de dato tiene que ser soportada\n",
        "6. no funciona con diccionarios\n",
        "7. para listas y tuplas se envia un iterable\n",
        "8. para los diccionarios se pone clave=valor, clave2=valor2, claven=valorn\n",
        "\n",
        "Notas: \n",
        "\n",
        "1. un iterable puede ser : una lista, una tupla o un string\n",
        "2. los diccionarios puedenter diferentes elementos de diferentes tipos de datos\n",
        "\n"
      ]
    },
    {
      "cell_type": "code",
      "execution_count": 17,
      "metadata": {
        "colab": {
          "base_uri": "https://localhost:8080/"
        },
        "id": "0n6w7mGgZEio",
        "outputId": "79b80933-6049-463f-f91d-065075570a7d"
      },
      "outputs": [
        {
          "name": "stdout",
          "output_type": "stream",
          "text": [
            "valor a  <class 'float'>\n",
            "valor b  <class 'float'>\n",
            "valor c  <class 'int'>\n",
            "valor d  <class 'int'> 3\n"
          ]
        }
      ],
      "source": [
        "# convertir valor tipo string a un valor tipo decimal\n",
        "valor = float(\"3.1415\")\n",
        "pi = \"3.1416\"\n",
        "valor2 = float(pi)\n",
        "\n",
        "valor3 = int(\"3\")\n",
        "# se lee de adentro hacia afuera\n",
        "# se debe tener analisis abstracto\n",
        "valor4 = int(float(\"3.1416\"))\n",
        "\n",
        "print(\"valor a \", type(valor))\n",
        "print(\"valor b \", type(valor2))\n",
        "print(\"valor c \", type(valor3))\n",
        "print(\"valor d \", type(valor4), valor4)"
      ]
    },
    {
      "cell_type": "code",
      "execution_count": 18,
      "metadata": {
        "colab": {
          "base_uri": "https://localhost:8080/",
          "height": 200
        },
        "id": "DAFufsq7b_-y",
        "outputId": "a154dbfa-ce9a-444f-9290-f8d055056777"
      },
      "outputs": [
        {
          "ename": "ValueError",
          "evalue": "invalid literal for int() with base 10: '1ww'",
          "output_type": "error",
          "traceback": [
            "\u001b[0;31m---------------------------------------------------------------------------\u001b[0m",
            "\u001b[0;31mValueError\u001b[0m                                Traceback (most recent call last)",
            "\u001b[1;32m/Users/hrodriguez/Downloads/Cedesistemas/Python/Python/pb_session_1_variables.ipynb Cell 23\u001b[0m in \u001b[0;36m<cell line: 4>\u001b[0;34m()\u001b[0m\n\u001b[1;32m      <a href='vscode-notebook-cell:/Users/hrodriguez/Downloads/Cedesistemas/Python/Python/pb_session_1_variables.ipynb#X31sZmlsZQ%3D%3D?line=0'>1</a>\u001b[0m \u001b[39m# tener precauciones\u001b[39;00m\n\u001b[1;32m      <a href='vscode-notebook-cell:/Users/hrodriguez/Downloads/Cedesistemas/Python/Python/pb_session_1_variables.ipynb#X31sZmlsZQ%3D%3D?line=1'>2</a>\u001b[0m \u001b[39m# con letra a numeros\u001b[39;00m\n\u001b[0;32m----> <a href='vscode-notebook-cell:/Users/hrodriguez/Downloads/Cedesistemas/Python/Python/pb_session_1_variables.ipynb#X31sZmlsZQ%3D%3D?line=3'>4</a>\u001b[0m \u001b[39mint\u001b[39;49m(\u001b[39m\"\u001b[39;49m\u001b[39m1ww\u001b[39;49m\u001b[39m\"\u001b[39;49m)\n",
            "\u001b[0;31mValueError\u001b[0m: invalid literal for int() with base 10: '1ww'"
          ]
        }
      ],
      "source": [
        "# tener precauciones\n",
        "# con letra a numeros\n",
        "\n",
        "int(\"1ww\")"
      ]
    },
    {
      "cell_type": "code",
      "execution_count": 19,
      "metadata": {
        "colab": {
          "base_uri": "https://localhost:8080/",
          "height": 200
        },
        "id": "MOHvJCiDcUwK",
        "outputId": "46d8ecb6-016b-420f-a6b1-f3b3527f69e6"
      },
      "outputs": [
        {
          "ename": "ValueError",
          "evalue": "invalid literal for int() with base 10: '1.1'",
          "output_type": "error",
          "traceback": [
            "\u001b[0;31m---------------------------------------------------------------------------\u001b[0m",
            "\u001b[0;31mValueError\u001b[0m                                Traceback (most recent call last)",
            "\u001b[1;32m/Users/hrodriguez/Downloads/Cedesistemas/Python/Python/pb_session_1_variables.ipynb Cell 24\u001b[0m in \u001b[0;36m<cell line: 3>\u001b[0;34m()\u001b[0m\n\u001b[1;32m      <a href='vscode-notebook-cell:/Users/hrodriguez/Downloads/Cedesistemas/Python/Python/pb_session_1_variables.ipynb#X32sZmlsZQ%3D%3D?line=0'>1</a>\u001b[0m \u001b[39m# con letra a numeros\u001b[39;00m\n\u001b[0;32m----> <a href='vscode-notebook-cell:/Users/hrodriguez/Downloads/Cedesistemas/Python/Python/pb_session_1_variables.ipynb#X32sZmlsZQ%3D%3D?line=2'>3</a>\u001b[0m \u001b[39mint\u001b[39;49m(\u001b[39m\"\u001b[39;49m\u001b[39m1.1\u001b[39;49m\u001b[39m\"\u001b[39;49m)\n",
            "\u001b[0;31mValueError\u001b[0m: invalid literal for int() with base 10: '1.1'"
          ]
        }
      ],
      "source": [
        "# con letra a numeros\n",
        "\n",
        "int(\"1.1\")"
      ]
    },
    {
      "cell_type": "code",
      "execution_count": 20,
      "metadata": {
        "colab": {
          "base_uri": "https://localhost:8080/"
        },
        "id": "8H3OE3EOcZdo",
        "outputId": "35cd89d1-6c8e-42a3-be1e-b36f9404b48f"
      },
      "outputs": [
        {
          "data": {
            "text/plain": [
              "1"
            ]
          },
          "execution_count": 20,
          "metadata": {},
          "output_type": "execute_result"
        }
      ],
      "source": [
        "int(float(\"1.1\"))"
      ]
    },
    {
      "cell_type": "code",
      "execution_count": 21,
      "metadata": {
        "colab": {
          "base_uri": "https://localhost:8080/"
        },
        "id": "ECKaDaEWciQJ",
        "outputId": "4c7728b0-53da-41b7-ef1e-fa2b4458a34a"
      },
      "outputs": [
        {
          "data": {
            "text/plain": [
              "('1', ',', '2', ',', '3', ')')"
            ]
          },
          "execution_count": 21,
          "metadata": {},
          "output_type": "execute_result"
        }
      ],
      "source": [
        "# restricciones\n",
        "# para listas, tuplas y diccionario el casteo funciona diferente\n",
        "tuple(\"1,2,3)\")"
      ]
    },
    {
      "cell_type": "code",
      "execution_count": 22,
      "metadata": {
        "colab": {
          "base_uri": "https://localhost:8080/"
        },
        "id": "rQITclLmdPm_",
        "outputId": "66fabb97-2cd8-4dbf-854c-d99c93cf6879"
      },
      "outputs": [
        {
          "data": {
            "text/plain": [
              "('1', '2', '3')"
            ]
          },
          "execution_count": 22,
          "metadata": {},
          "output_type": "execute_result"
        }
      ],
      "source": [
        "tuple(\"123\")"
      ]
    },
    {
      "cell_type": "code",
      "execution_count": 23,
      "metadata": {
        "colab": {
          "base_uri": "https://localhost:8080/",
          "height": 166
        },
        "id": "98mwR8Lrddit",
        "outputId": "9e4ce8b2-96f1-42b3-fe83-913f49147c0f"
      },
      "outputs": [
        {
          "ename": "TypeError",
          "evalue": "'int' object is not iterable",
          "output_type": "error",
          "traceback": [
            "\u001b[0;31m---------------------------------------------------------------------------\u001b[0m",
            "\u001b[0;31mTypeError\u001b[0m                                 Traceback (most recent call last)",
            "\u001b[1;32m/Users/hrodriguez/Downloads/Cedesistemas/Python/Python/pb_session_1_variables.ipynb Cell 28\u001b[0m in \u001b[0;36m<cell line: 1>\u001b[0;34m()\u001b[0m\n\u001b[0;32m----> <a href='vscode-notebook-cell:/Users/hrodriguez/Downloads/Cedesistemas/Python/Python/pb_session_1_variables.ipynb#X36sZmlsZQ%3D%3D?line=0'>1</a>\u001b[0m \u001b[39mtuple\u001b[39;49m(\u001b[39m123\u001b[39;49m)\n",
            "\u001b[0;31mTypeError\u001b[0m: 'int' object is not iterable"
          ]
        }
      ],
      "source": [
        "tuple(123)"
      ]
    },
    {
      "cell_type": "code",
      "execution_count": 24,
      "metadata": {
        "colab": {
          "base_uri": "https://localhost:8080/"
        },
        "id": "o5OpX1RveccN",
        "outputId": "1933df3b-ccf6-4664-a67b-177c6cecdf09"
      },
      "outputs": [
        {
          "data": {
            "text/plain": [
              "(1, 2, 3)"
            ]
          },
          "execution_count": 24,
          "metadata": {},
          "output_type": "execute_result"
        }
      ],
      "source": [
        "tuple((1,2,3))"
      ]
    },
    {
      "cell_type": "code",
      "execution_count": 25,
      "metadata": {
        "colab": {
          "base_uri": "https://localhost:8080/"
        },
        "id": "2vrowxe-ekGV",
        "outputId": "740e6dad-e749-4111-9a6a-845dcb054a60"
      },
      "outputs": [
        {
          "data": {
            "text/plain": [
              "(1, 2, 3)"
            ]
          },
          "execution_count": 25,
          "metadata": {},
          "output_type": "execute_result"
        }
      ],
      "source": [
        "tuple([1,2,3])"
      ]
    },
    {
      "cell_type": "code",
      "execution_count": 26,
      "metadata": {
        "colab": {
          "base_uri": "https://localhost:8080/"
        },
        "id": "NoYZzoEtevfX",
        "outputId": "e7c26565-27ce-4dbc-fc16-98006833e1d7"
      },
      "outputs": [
        {
          "data": {
            "text/plain": [
              "True"
            ]
          },
          "execution_count": 26,
          "metadata": {},
          "output_type": "execute_result"
        }
      ],
      "source": [
        "bool(\"True\")"
      ]
    },
    {
      "cell_type": "code",
      "execution_count": 27,
      "metadata": {
        "colab": {
          "base_uri": "https://localhost:8080/"
        },
        "id": "XJyY0yAueDF3",
        "outputId": "9b474cdf-f7ae-4fe0-b4b0-65271339d641"
      },
      "outputs": [
        {
          "data": {
            "text/plain": [
              "[1, 2, 4]"
            ]
          },
          "execution_count": 27,
          "metadata": {},
          "output_type": "execute_result"
        }
      ],
      "source": [
        "list([1,2,4])"
      ]
    },
    {
      "cell_type": "code",
      "execution_count": 28,
      "metadata": {
        "colab": {
          "base_uri": "https://localhost:8080/"
        },
        "id": "GzZrGzJbdpTz",
        "outputId": "3777ca4e-ebf5-4ea7-f8d0-0356f785757f"
      },
      "outputs": [
        {
          "data": {
            "text/plain": [
              "['1', '2', '3']"
            ]
          },
          "execution_count": 28,
          "metadata": {},
          "output_type": "execute_result"
        }
      ],
      "source": [
        "list(\"123\")"
      ]
    },
    {
      "cell_type": "code",
      "execution_count": 29,
      "metadata": {
        "colab": {
          "base_uri": "https://localhost:8080/",
          "height": 166
        },
        "id": "F36jT64cew9V",
        "outputId": "42b8a1d8-0d0f-4c28-dc44-de32a21f04a1"
      },
      "outputs": [
        {
          "ename": "ValueError",
          "evalue": "dictionary update sequence element #0 has length 1; 2 is required",
          "output_type": "error",
          "traceback": [
            "\u001b[0;31m---------------------------------------------------------------------------\u001b[0m",
            "\u001b[0;31mValueError\u001b[0m                                Traceback (most recent call last)",
            "\u001b[1;32m/Users/hrodriguez/Downloads/Cedesistemas/Python/Python/pb_session_1_variables.ipynb Cell 34\u001b[0m in \u001b[0;36m<cell line: 1>\u001b[0;34m()\u001b[0m\n\u001b[0;32m----> <a href='vscode-notebook-cell:/Users/hrodriguez/Downloads/Cedesistemas/Python/Python/pb_session_1_variables.ipynb#X45sZmlsZQ%3D%3D?line=0'>1</a>\u001b[0m \u001b[39mdict\u001b[39;49m(\u001b[39m\"\u001b[39;49m\u001b[39m1=1\u001b[39;49m\u001b[39m\"\u001b[39;49m)\n",
            "\u001b[0;31mValueError\u001b[0m: dictionary update sequence element #0 has length 1; 2 is required"
          ]
        }
      ],
      "source": [
        "dict(\"1=1\")"
      ]
    },
    {
      "cell_type": "code",
      "execution_count": 30,
      "metadata": {
        "colab": {
          "base_uri": "https://localhost:8080/"
        },
        "id": "na5plIOMe1wn",
        "outputId": "d6307963-21ea-4178-af7c-b949b3f4998d"
      },
      "outputs": [
        {
          "data": {
            "text/plain": [
              "{'valor': 1, 'curso': 'bancolombia', 'cualquiercosa': 'algo'}"
            ]
          },
          "execution_count": 30,
          "metadata": {},
          "output_type": "execute_result"
        }
      ],
      "source": [
        "dict(\n",
        "    valor=1, \n",
        "    curso=\"bancolombia\",\n",
        "    cualquiercosa=\"algo\"\n",
        ")"
      ]
    },
    {
      "cell_type": "code",
      "execution_count": 31,
      "metadata": {
        "id": "o7B9Y-hZhLxb"
      },
      "outputs": [
        {
          "data": {
            "text/plain": [
              "'\\ndefinir las siguientes variables, por los 3 tipos de metodos enseñados(dinamica, referencia, constructor)\\n\\nnombre\\nedad\\nfecha nacimiento\\nsexo\\nhoobies\\n\\nConsideraciones\\n\\n1. la fecha nacimiento tiene que estar en formato : [ DD, MM, YYYY ]\\n2. se entiende que los hobbies pueden ser uno varios, definirnos en una tupla\\n\\n\\nenviar a : luis.vasquez@cedesistemas.edu.co\\n'"
            ]
          },
          "execution_count": 31,
          "metadata": {},
          "output_type": "execute_result"
        }
      ],
      "source": [
        "\"\"\"\n",
        "definir las siguientes variables, por los 3 tipos de metodos enseñados(dinamica, referencia, constructor)\n",
        "\n",
        "nombre\n",
        "edad\n",
        "fecha nacimiento\n",
        "sexo\n",
        "hoobies\n",
        "\n",
        "Consideraciones\n",
        "\n",
        "1. la fecha nacimiento tiene que estar en formato : [ DD, MM, YYYY ]\n",
        "2. se entiende que los hobbies pueden ser uno varios, definirnos en una tupla\n",
        "\n",
        "\n",
        "enviar a : luis.vasquez@cedesistemas.edu.co\n",
        "\"\"\""
      ]
    },
    {
      "cell_type": "code",
      "execution_count": 32,
      "metadata": {
        "colab": {
          "base_uri": "https://localhost:8080/"
        },
        "id": "Fwur58JGqnjj",
        "outputId": "5f4f67fe-e3f7-4183-bf3d-c8c33b497db2"
      },
      "outputs": [
        {
          "data": {
            "text/plain": [
              "3.1416"
            ]
          },
          "execution_count": 32,
          "metadata": {},
          "output_type": "execute_result"
        }
      ],
      "source": [
        "f1 = float(3.1416)   # constructor pero esta convirtiendo el mismo\n",
        "f2 = float(\"3.1416\") # cambiando de un tipo a otro\n",
        "f1"
      ]
    },
    {
      "cell_type": "code",
      "execution_count": null,
      "metadata": {},
      "outputs": [],
      "source": []
    }
  ],
  "metadata": {
    "colab": {
      "collapsed_sections": [],
      "name": "pb-session-1-variables.ipynb",
      "provenance": []
    },
    "kernelspec": {
      "display_name": "Python 3.9.12 ('base')",
      "language": "python",
      "name": "python3"
    },
    "language_info": {
      "codemirror_mode": {
        "name": "ipython",
        "version": 3
      },
      "file_extension": ".py",
      "mimetype": "text/x-python",
      "name": "python",
      "nbconvert_exporter": "python",
      "pygments_lexer": "ipython3",
      "version": "3.9.12"
    },
    "vscode": {
      "interpreter": {
        "hash": "182567206a88aa5e22c9544790b72718078fbf42fc4a113ced90149f8d87be21"
      }
    }
  },
  "nbformat": 4,
  "nbformat_minor": 0
}
